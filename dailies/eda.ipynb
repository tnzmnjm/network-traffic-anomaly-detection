{
 "cells": [
  {
   "cell_type": "code",
   "execution_count": 1,
   "metadata": {
    "collapsed": true,
    "ExecuteTime": {
     "end_time": "2024-01-16T18:57:23.996948Z",
     "start_time": "2024-01-16T18:57:23.897021Z"
    }
   },
   "outputs": [],
   "source": [
    "import pandas as pd\n",
    "import joblib\n",
    "import matplotlib.pyplot as plt\n",
    "import seaborn as sns\n",
    "from sklearn.preprocessing import StandardScaler\n",
    "import time"
   ]
  },
  {
   "cell_type": "code",
   "execution_count": 2,
   "outputs": [],
   "source": [
    "def load_data(filepath):\n",
    "    try:\n",
    "        df = pd.read_csv(filepath)\n",
    "        print(f'Dataframe shape: {df.shape}')\n",
    "        print(f'Dataframe columns: {df.columns.tolist()}')\n",
    "        df.info()\n",
    "        return df\n",
    "\n",
    "    except Exception as e:\n",
    "        print(f'Error Loading data: {e}')\n",
    "    return None\n",
    "\n",
    "\n",
    "def distribution_plot(df, features):\n",
    "    start_time = time.time()\n",
    "    for feature in features:\n",
    "        plt.figure(figsize=(10, 6))\n",
    "        sns.histplot(df[feature], kde=True, stat=\"density\", linewidth=0)\n",
    "\n",
    "        # Calculate mean and standard deviation\n",
    "        mean_value = df[feature].mean()\n",
    "        std_deviation = df[feature].std()\n",
    "\n",
    "        # Plot vertical lines for mean and std deviation\n",
    "        plt.axvline(mean_value, color='r', linestyle='--', label=f'Mean: {mean_value:.2f}')\n",
    "        plt.axvline(mean_value + std_deviation, color='g', linestyle=':', label=f'Std Dev: {std_deviation:.2f}')\n",
    "        plt.axvline(mean_value - std_deviation, color='g', linestyle=':')\n",
    "\n",
    "        plt.title(f'Distribution of {feature}')\n",
    "        plt.legend()\n",
    "        plt.show()\n",
    "        end_time = time.time()\n",
    "        elapsed_time = end_time - start_time\n",
    "        print(f'elapsed time : {elapsed_time}')\n",
    "    return plt\n"
   ],
   "metadata": {
    "collapsed": false,
    "ExecuteTime": {
     "end_time": "2024-01-16T18:57:26.339450Z",
     "start_time": "2024-01-16T18:57:26.301562Z"
    }
   }
  },
  {
   "cell_type": "code",
   "execution_count": 3,
   "outputs": [
    {
     "name": "stderr",
     "output_type": "stream",
     "text": [
      "/tmp/ipykernel_180288/1058036564.py:3: DtypeWarning: Columns (0,1,3,10,11,13,14,15,18,19,20,21,22,24,25,26,27,28,30,31,32,33,34,35,36,37,42,44,50,52,53,54,55,56,57,58,59,60,61,62,63,64,65,66,67,68,69,70,71,72) have mixed types. Specify dtype option on import or set low_memory=False.\n",
      "  df = pd.read_csv(filepath)\n"
     ]
    },
    {
     "name": "stdout",
     "output_type": "stream",
     "text": [
      "Dataframe shape: (3000000, 74)\n",
      "Dataframe columns: ['frame.number', 'frame.len', 'frame.time', 'frame.time_epoch', 'frame.protocols', 'eth.src', 'eth.dst', 'eth.type', 'ip.src', 'ip.dst', 'ip.len', 'ip.ttl', 'ip.flags', 'ip.frag_offset', 'ip.proto', 'ip.version', 'ip.dsfield', 'ip.checksum', 'tcp.srcport', 'tcp.dstport', 'tcp.len', 'tcp.seq', 'tcp.ack', 'tcp.flags', 'tcp.flags.syn', 'tcp.flags.ack', 'tcp.flags.fin', 'tcp.flags.reset', 'tcp.window_size', 'tcp.checksum', 'tcp.stream', 'udp.srcport', 'udp.dstport', 'udp.length', 'udp.checksum', 'icmp.type', 'icmp.code', 'icmp.checksum', 'http.request.method', 'http.request.uri', 'http.request.version', 'http.request.full_uri', 'http.response.code', 'http.user_agent', 'http.content_length_header', 'http.content_type', 'http.cookie', 'http.host', 'http.referer', 'http.location', 'http.authorization', 'http.connection', 'dns.qry.name', 'dns.qry.type', 'dns.qry.class', 'dns.flags.response', 'dns.flags.recdesired', 'dns.flags.rcode', 'dns.resp.ttl', 'dns.resp.len', 'smtp.req.command', 'smtp.data.fragment', 'pop.request.command', 'pop.response', 'imap.request.command', 'imap.response', 'ftp.request.command', 'ftp.request.arg', 'ftp.response.code', 'ftp.response.arg', 'ipv6.src', 'ipv6.dst', 'ipv6.plen', 'alert']\n",
      "<class 'pandas.core.frame.DataFrame'>\n",
      "RangeIndex: 3000000 entries, 0 to 2999999\n",
      "Data columns (total 74 columns):\n",
      " #   Column                      Dtype \n",
      "---  ------                      ----- \n",
      " 0   frame.number                object\n",
      " 1   frame.len                   object\n",
      " 2   frame.time                  object\n",
      " 3   frame.time_epoch            object\n",
      " 4   frame.protocols             object\n",
      " 5   eth.src                     object\n",
      " 6   eth.dst                     object\n",
      " 7   eth.type                    object\n",
      " 8   ip.src                      object\n",
      " 9   ip.dst                      object\n",
      " 10  ip.len                      object\n",
      " 11  ip.ttl                      object\n",
      " 12  ip.flags                    object\n",
      " 13  ip.frag_offset              object\n",
      " 14  ip.proto                    object\n",
      " 15  ip.version                  object\n",
      " 16  ip.dsfield                  object\n",
      " 17  ip.checksum                 object\n",
      " 18  tcp.srcport                 object\n",
      " 19  tcp.dstport                 object\n",
      " 20  tcp.len                     object\n",
      " 21  tcp.seq                     object\n",
      " 22  tcp.ack                     object\n",
      " 23  tcp.flags                   object\n",
      " 24  tcp.flags.syn               object\n",
      " 25  tcp.flags.ack               object\n",
      " 26  tcp.flags.fin               object\n",
      " 27  tcp.flags.reset             object\n",
      " 28  tcp.window_size             object\n",
      " 29  tcp.checksum                object\n",
      " 30  tcp.stream                  object\n",
      " 31  udp.srcport                 object\n",
      " 32  udp.dstport                 object\n",
      " 33  udp.length                  object\n",
      " 34  udp.checksum                object\n",
      " 35  icmp.type                   object\n",
      " 36  icmp.code                   object\n",
      " 37  icmp.checksum               object\n",
      " 38  http.request.method         object\n",
      " 39  http.request.uri            object\n",
      " 40  http.request.version        object\n",
      " 41  http.request.full_uri       object\n",
      " 42  http.response.code          object\n",
      " 43  http.user_agent             object\n",
      " 44  http.content_length_header  object\n",
      " 45  http.content_type           object\n",
      " 46  http.cookie                 object\n",
      " 47  http.host                   object\n",
      " 48  http.referer                object\n",
      " 49  http.location               object\n",
      " 50  http.authorization          object\n",
      " 51  http.connection             object\n",
      " 52  dns.qry.name                object\n",
      " 53  dns.qry.type                object\n",
      " 54  dns.qry.class               object\n",
      " 55  dns.flags.response          object\n",
      " 56  dns.flags.recdesired        object\n",
      " 57  dns.flags.rcode             object\n",
      " 58  dns.resp.ttl                object\n",
      " 59  dns.resp.len                object\n",
      " 60  smtp.req.command            object\n",
      " 61  smtp.data.fragment          object\n",
      " 62  pop.request.command         object\n",
      " 63  pop.response                object\n",
      " 64  imap.request.command        object\n",
      " 65  imap.response               object\n",
      " 66  ftp.request.command         object\n",
      " 67  ftp.request.arg             object\n",
      " 68  ftp.response.code           object\n",
      " 69  ftp.response.arg            object\n",
      " 70  ipv6.src                    object\n",
      " 71  ipv6.dst                    object\n",
      " 72  ipv6.plen                   object\n",
      " 73  alert                       object\n",
      "dtypes: object(74)\n",
      "memory usage: 1.7+ GB\n",
      "  frame.number frame.len                           frame.time  \\\n",
      "0      5557287       273  Jun  4, 2023 12:23:33.466544000 EDT   \n",
      "1       402130       658  Jun  4, 2023 11:29:51.272605000 EDT   \n",
      "2      6220814        95  Jun  4, 2023 12:49:03.684361000 EDT   \n",
      "3       982830        74  Jun  4, 2023 11:33:42.040858000 EDT   \n",
      "4      2122198        66  Jun  4, 2023 11:41:44.312690000 EDT   \n",
      "5       553312       217  Jun  4, 2023 11:30:50.703997000 EDT   \n",
      "6      5322434       273  Jun  4, 2023 12:05:56.948452000 EDT   \n",
      "7      3354105      1514  Jun  4, 2023 11:48:46.111849000 EDT   \n",
      "8      1922834       709  Jun  4, 2023 11:40:20.679234000 EDT   \n",
      "9      5492598        66  Jun  4, 2023 12:18:56.912841000 EDT   \n",
      "\n",
      "    frame.time_epoch                            frame.protocols  \\\n",
      "0  1685895813.466544  eth:ethertype:ip:tcp:http:data-text-lines   \n",
      "1  1685892591.272605  eth:ethertype:ip:tcp:http:data-text-lines   \n",
      "2  1685897343.684361                   eth:ethertype:ip:udp:dns   \n",
      "3  1685892822.040858                       eth:ethertype:ip:tcp   \n",
      "4   1685893304.31269                       eth:ethertype:ip:tcp   \n",
      "5  1685892650.703997                  eth:ethertype:ip:tcp:http   \n",
      "6  1685894756.948452  eth:ethertype:ip:tcp:http:data-text-lines   \n",
      "7  1685893726.111849                       eth:ethertype:ip:tcp   \n",
      "8  1685893220.679234  eth:ethertype:ip:tcp:http:data-text-lines   \n",
      "9  1685895536.912841                       eth:ethertype:ip:tcp   \n",
      "\n",
      "             eth.src            eth.dst eth.type        ip.src        ip.dst  \\\n",
      "0  00:0c:29:8f:ca:0a  00:0c:29:94:f6:85   0x0800  10.20.30.101  10.20.30.103   \n",
      "1  00:0c:29:8f:ca:0a  00:0c:29:94:f6:85   0x0800  10.20.30.101  10.20.30.103   \n",
      "2  00:0c:29:94:f6:85  00:50:56:c0:00:0a   0x0800  10.20.30.103    10.20.30.1   \n",
      "3  00:0c:29:8f:ca:0a  00:0c:29:94:f6:85   0x0800  10.20.30.101  10.20.30.103   \n",
      "4  00:0c:29:94:f6:85  00:0c:29:8f:ca:0a   0x0800  10.20.30.103  10.20.30.101   \n",
      "5  00:0c:29:94:f6:85  00:0c:29:8f:ca:0a   0x0800  10.20.30.103  10.20.30.101   \n",
      "6  00:0c:29:8f:ca:0a  00:0c:29:94:f6:85   0x0800  10.20.30.101  10.20.30.103   \n",
      "7  00:0c:29:8f:ca:0a  00:0c:29:94:f6:85   0x0800  10.20.30.101  10.20.30.103   \n",
      "8  00:0c:29:8f:ca:0a  00:0c:29:94:f6:85   0x0800  10.20.30.101  10.20.30.103   \n",
      "9  00:0c:29:8f:ca:0a  00:0c:29:94:f6:85   0x0800  10.20.30.101  10.20.30.103   \n",
      "\n",
      "   ... imap.request.command imap.response ftp.request.command ftp.request.arg  \\\n",
      "0  ...                  NaN           NaN                 NaN             NaN   \n",
      "1  ...                  NaN           NaN                 NaN             NaN   \n",
      "2  ...                  NaN           NaN                 NaN             NaN   \n",
      "3  ...                  NaN           NaN                 NaN             NaN   \n",
      "4  ...                  NaN           NaN                 NaN             NaN   \n",
      "5  ...                  NaN           NaN                 NaN             NaN   \n",
      "6  ...                  NaN           NaN                 NaN             NaN   \n",
      "7  ...                  NaN           NaN                 NaN             NaN   \n",
      "8  ...                  NaN           NaN                 NaN             NaN   \n",
      "9  ...                  NaN           NaN                 NaN             NaN   \n",
      "\n",
      "  ftp.response.code ftp.response.arg ipv6.src ipv6.dst ipv6.plen       alert  \n",
      "0               NaN              NaN      NaN      NaN       NaN  suspicious  \n",
      "1               NaN              NaN      NaN      NaN       NaN  suspicious  \n",
      "2               NaN              NaN      NaN      NaN       NaN  suspicious  \n",
      "3               NaN              NaN      NaN      NaN       NaN  suspicious  \n",
      "4               NaN              NaN      NaN      NaN       NaN  suspicious  \n",
      "5               NaN              NaN      NaN      NaN       NaN  suspicious  \n",
      "6               NaN              NaN      NaN      NaN       NaN  suspicious  \n",
      "7               NaN              NaN      NaN      NaN       NaN  suspicious  \n",
      "8               NaN              NaN      NaN      NaN       NaN  suspicious  \n",
      "9               NaN              NaN      NaN      NaN       NaN  suspicious  \n",
      "\n",
      "[10 rows x 74 columns]\n"
     ]
    }
   ],
   "source": [
    "filepath = \"../attack-sample-3m.csv\"\n",
    "df = load_data(filepath)\n",
    "\n",
    "print(df.head(10))"
   ],
   "metadata": {
    "collapsed": false,
    "ExecuteTime": {
     "end_time": "2024-01-16T16:13:45.469055Z",
     "start_time": "2024-01-16T16:13:24.375650Z"
    }
   }
  },
  {
   "cell_type": "code",
   "execution_count": 4,
   "outputs": [
    {
     "name": "stdout",
     "output_type": "stream",
     "text": [
      "0-20% Missing Values: ['ip.src', 'ip.dst', 'ip.len', 'ip.ttl', 'ip.flags', 'ip.frag_offset', 'ip.proto', 'ip.version', 'ip.dsfield', 'ip.checksum', 'tcp.srcport', 'tcp.dstport', 'tcp.len', 'tcp.seq', 'tcp.ack', 'tcp.flags', 'tcp.flags.syn', 'tcp.flags.ack', 'tcp.flags.fin', 'tcp.flags.reset', 'tcp.window_size', 'tcp.checksum', 'tcp.stream']\n",
      "20-40% Missing Values: []\n",
      "40-60% Missing Values: []\n",
      "60-80% Missing Values: ['http.request.method', 'http.request.uri', 'http.request.version', 'http.request.full_uri', 'http.response.code', 'http.user_agent', 'http.content_length_header', 'http.content_type', 'http.host', 'http.connection']\n",
      "80-100% Missing Values: ['udp.srcport', 'udp.dstport', 'udp.length', 'udp.checksum', 'icmp.type', 'icmp.code', 'icmp.checksum', 'http.cookie', 'http.referer', 'http.location', 'http.authorization', 'dns.qry.name', 'dns.qry.type', 'dns.qry.class', 'dns.flags.response', 'dns.flags.recdesired', 'dns.flags.rcode', 'dns.resp.ttl', 'dns.resp.len', 'smtp.req.command', 'smtp.data.fragment', 'pop.request.command', 'pop.response', 'imap.request.command', 'imap.response', 'ftp.request.command', 'ftp.request.arg', 'ftp.response.code', 'ftp.response.arg', 'ipv6.src', 'ipv6.dst', 'ipv6.plen']\n"
     ]
    }
   ],
   "source": [
    "# Checking for missing values\n",
    "# Calculate the percentage of missing values for each column\n",
    "missing_percentage = df.isnull().sum() * 100 / len(df)\n",
    "\n",
    "# Categorize columns based on missing value percentages\n",
    "missing_categories = {\n",
    "    \"0-20%\": missing_percentage[(missing_percentage > 0) & (missing_percentage <= 20)].index.tolist(),\n",
    "    \"20-40%\": missing_percentage[(missing_percentage > 20) & (missing_percentage <= 40)].index.tolist(),\n",
    "    \"40-60%\": missing_percentage[(missing_percentage > 40) & (missing_percentage <= 60)].index.tolist(),\n",
    "    \"60-80%\": missing_percentage[(missing_percentage > 60) & (missing_percentage <= 80)].index.tolist(),\n",
    "    \"80-100%\": missing_percentage[(missing_percentage > 80) & (missing_percentage <= 100)].index.tolist()\n",
    "}\n",
    "\n",
    "# Print out the categorized lists\n",
    "for category, features in missing_categories.items():\n",
    "    print(f\"{category} Missing Values: {features}\")\n"
   ],
   "metadata": {
    "collapsed": false,
    "ExecuteTime": {
     "end_time": "2024-01-16T16:14:03.438208Z",
     "start_time": "2024-01-16T16:14:03.336439Z"
    }
   }
  },
  {
   "cell_type": "markdown",
   "source": [
    "The sample has more TCP packets than the UDP:\n",
    "\n",
    "- 0-20% Missing Values --> these are the common features for each packet (Layer 3 and 4 of the OSI Network layer). In other words, each packet has all/the majority of these features regardless of the application protocol (HTTP, DNS,POP3, SMTP,..)\n",
    "\n",
    "- 60-80% Missing Values --> These are http related, meaning lots of packets are not related to the http protocol\n",
    "\n",
    "- 80-100% Missing Values --> these are udp, DNS, pop, imap,smtp related and one packet cannot have values for all of these.\n",
    "\n",
    "If a packet is a TCP packet, it won't have UDP-specific features and vice versa. Hence, the missing values in these cases aren't really 'missing' in the traditional sense; they're simply not applicable.\n",
    "\n",
    "This information will help me with my feature selection."
   ],
   "metadata": {
    "collapsed": false
   }
  },
  {
   "cell_type": "code",
   "execution_count": 5,
   "outputs": [
    {
     "name": "stdout",
     "output_type": "stream",
     "text": [
      "Number of rows with both UDP and TCP source ports set: 1\n"
     ]
    },
    {
     "data": {
      "text/plain": "         frame.number  frame.len  frame.time  frame.time_epoch  \\\n2042160  frame.number  frame.len  frame.time  frame.time_epoch   \n\n         frame.protocols  eth.src  eth.dst  eth.type  ip.src  ip.dst  ...  \\\n2042160  frame.protocols  eth.src  eth.dst  eth.type  ip.src  ip.dst  ...   \n\n         imap.request.command  imap.response  ftp.request.command  \\\n2042160  imap.request.command  imap.response  ftp.request.command   \n\n         ftp.request.arg  ftp.response.code  ftp.response.arg  ipv6.src  \\\n2042160  ftp.request.arg  ftp.response.code  ftp.response.arg  ipv6.src   \n\n         ipv6.dst  ipv6.plen  alert  \n2042160  ipv6.dst  ipv6.plen  alert  \n\n[1 rows x 74 columns]",
      "text/html": "<div>\n<style scoped>\n    .dataframe tbody tr th:only-of-type {\n        vertical-align: middle;\n    }\n\n    .dataframe tbody tr th {\n        vertical-align: top;\n    }\n\n    .dataframe thead th {\n        text-align: right;\n    }\n</style>\n<table border=\"1\" class=\"dataframe\">\n  <thead>\n    <tr style=\"text-align: right;\">\n      <th></th>\n      <th>frame.number</th>\n      <th>frame.len</th>\n      <th>frame.time</th>\n      <th>frame.time_epoch</th>\n      <th>frame.protocols</th>\n      <th>eth.src</th>\n      <th>eth.dst</th>\n      <th>eth.type</th>\n      <th>ip.src</th>\n      <th>ip.dst</th>\n      <th>...</th>\n      <th>imap.request.command</th>\n      <th>imap.response</th>\n      <th>ftp.request.command</th>\n      <th>ftp.request.arg</th>\n      <th>ftp.response.code</th>\n      <th>ftp.response.arg</th>\n      <th>ipv6.src</th>\n      <th>ipv6.dst</th>\n      <th>ipv6.plen</th>\n      <th>alert</th>\n    </tr>\n  </thead>\n  <tbody>\n    <tr>\n      <th>2042160</th>\n      <td>frame.number</td>\n      <td>frame.len</td>\n      <td>frame.time</td>\n      <td>frame.time_epoch</td>\n      <td>frame.protocols</td>\n      <td>eth.src</td>\n      <td>eth.dst</td>\n      <td>eth.type</td>\n      <td>ip.src</td>\n      <td>ip.dst</td>\n      <td>...</td>\n      <td>imap.request.command</td>\n      <td>imap.response</td>\n      <td>ftp.request.command</td>\n      <td>ftp.request.arg</td>\n      <td>ftp.response.code</td>\n      <td>ftp.response.arg</td>\n      <td>ipv6.src</td>\n      <td>ipv6.dst</td>\n      <td>ipv6.plen</td>\n      <td>alert</td>\n    </tr>\n  </tbody>\n</table>\n<p>1 rows × 74 columns</p>\n</div>"
     },
     "execution_count": 5,
     "metadata": {},
     "output_type": "execute_result"
    }
   ],
   "source": [
    "# I would like to now gain more insight about the tcp and udp proportion in the df\n",
    "# Check for rows where both udp.srcport and tcp.srcport are non-null\n",
    "both_set = df[(df['udp.srcport'].notnull()) & (df['tcp.srcport'].notnull())]\n",
    "print(f\"Number of rows with both UDP and TCP source ports set: {len(both_set)}\")\n",
    "both_set"
   ],
   "metadata": {
    "collapsed": false,
    "ExecuteTime": {
     "end_time": "2024-01-16T16:14:43.206456Z",
     "start_time": "2024-01-16T16:14:43.057303Z"
    }
   }
  },
  {
   "cell_type": "code",
   "execution_count": 6,
   "outputs": [],
   "source": [
    "# This row should be removed. It's the duplicate of the column names.\n",
    "df = df[df['frame.number'] != 'frame.number']"
   ],
   "metadata": {
    "collapsed": false,
    "ExecuteTime": {
     "end_time": "2024-01-16T16:15:43.484461Z",
     "start_time": "2024-01-16T16:15:41.371157Z"
    }
   }
  },
  {
   "cell_type": "markdown",
   "source": [
    "There is a feature called \"frame.protocols\" which has the list of all protocols used in the packet. I'd like to see the variety of protocols in the dataset. I first need to break down these lists into individual protocols and then count their occurrences."
   ],
   "metadata": {
    "collapsed": false
   }
  },
  {
   "cell_type": "code",
   "execution_count": 7,
   "outputs": [
    {
     "data": {
      "text/plain": "<Figure size 1200x600 with 1 Axes>",
      "image/png": "[encoded data removed]"
     },
     "metadata": {},
     "output_type": "display_data"
    }
   ],
   "source": [
    "# Split the 'frame.protocols' entries into individual protocols and stack them\n",
    "protocols = df['frame.protocols'].str.split(':', expand=True).stack()\n",
    "\n",
    "# Count the occurrences of each protocol\n",
    "protocol_counts = protocols.value_counts()\n",
    "\n",
    "# Plotting\n",
    "plt.figure(figsize=(12, 6))\n",
    "protocol_counts.plot(kind='bar')\n",
    "# Format y-axis to show actual numbers\n",
    "plt.title('Histogram of Protocols')\n",
    "plt.xlabel('Protocol')\n",
    "plt.ylabel('Count')\n",
    "# plt.xticks(rotation=45)\n",
    "plt.show()"
   ],
   "metadata": {
    "collapsed": false,
    "ExecuteTime": {
     "end_time": "2024-01-16T16:16:01.420236Z",
     "start_time": "2024-01-16T16:15:52.643900Z"
    }
   }
  },
  {
   "cell_type": "code",
   "execution_count": 8,
   "outputs": [
    {
     "name": "stdout",
     "output_type": "stream",
     "text": [
      "eth                2999999\n",
      "ethertype          2999999\n",
      "ip                 2999821\n",
      "tcp                2996268\n",
      "http               1915842\n",
      "data-text-lines     930433\n",
      "xml                 260543\n",
      "urlencoded-form      40628\n",
      "data                  2496\n",
      "icmp                  2336\n",
      "Name: count, dtype: int64\n"
     ]
    }
   ],
   "source": [
    "# Print the top 10 protocols with their counts\n",
    "print(protocol_counts.head(10))"
   ],
   "metadata": {
    "collapsed": false,
    "ExecuteTime": {
     "end_time": "2024-01-16T16:16:12.554300Z",
     "start_time": "2024-01-16T16:16:12.485009Z"
    }
   }
  },
  {
   "cell_type": "markdown",
   "source": [
    "At this stage I would like to simplify the problem as much as I can. Due to my domain knowledge and considering the insight I have got from the dataset, I will be including tcp-related features listed below in addition to some frame-related columns. As long as my model gives me 50% of accuracy, I'm glad. I can always come back and add more features. I will be keeping the feature \"alert\" as I can use this in order to evaluate how my model is doing."
   ],
   "metadata": {
    "collapsed": false
   }
  },
  {
   "cell_type": "code",
   "execution_count": 10,
   "outputs": [],
   "source": [
    "columns_to_keep = ['frame.number', 'frame.time', 'frame.protocols', 'tcp.seq', 'tcp.stream', 'tcp.srcport','tcp.dstport','tcp.len', 'tcp.window_size', 'tcp.flags.syn', 'tcp.flags.reset','udp.srcport', 'udp.dstport', 'ip.src', 'ip.dst', 'alert']\n"
   ],
   "metadata": {
    "collapsed": false,
    "ExecuteTime": {
     "end_time": "2024-01-16T16:19:00.356468Z",
     "start_time": "2024-01-16T16:19:00.310328Z"
    }
   }
  },
  {
   "cell_type": "code",
   "execution_count": 11,
   "outputs": [
    {
     "data": {
      "text/plain": "['../chosen_features_df.csv']"
     },
     "execution_count": 11,
     "metadata": {},
     "output_type": "execute_result"
    }
   ],
   "source": [
    "df = df[columns_to_keep]\n",
    "\n",
    "joblib.dump(df,'../chosen_features_df.csv')"
   ],
   "metadata": {
    "collapsed": false,
    "ExecuteTime": {
     "end_time": "2024-01-16T16:19:05.539616Z",
     "start_time": "2024-01-16T16:19:02.960822Z"
    }
   }
  },
  {
   "cell_type": "code",
   "execution_count": 12,
   "outputs": [
    {
     "name": "stdout",
     "output_type": "stream",
     "text": [
      "<class 'pandas.core.frame.DataFrame'>\n",
      "Index: 2999999 entries, 0 to 2999999\n",
      "Data columns (total 16 columns):\n",
      " #   Column           Dtype \n",
      "---  ------           ----- \n",
      " 0   frame.number     object\n",
      " 1   frame.time       object\n",
      " 2   frame.protocols  object\n",
      " 3   tcp.seq          object\n",
      " 4   tcp.stream       object\n",
      " 5   tcp.srcport      object\n",
      " 6   tcp.dstport      object\n",
      " 7   tcp.len          object\n",
      " 8   tcp.window_size  object\n",
      " 9   tcp.flags.syn    object\n",
      " 10  tcp.flags.reset  object\n",
      " 11  udp.srcport      object\n",
      " 12  udp.dstport      object\n",
      " 13  ip.src           object\n",
      " 14  ip.dst           object\n",
      " 15  alert            object\n",
      "dtypes: object(16)\n",
      "memory usage: 453.6+ MB\n"
     ]
    }
   ],
   "source": [
    "df.info()"
   ],
   "metadata": {
    "collapsed": false,
    "ExecuteTime": {
     "end_time": "2024-01-16T16:19:14.802976Z",
     "start_time": "2024-01-16T16:19:14.720974Z"
    }
   }
  },
  {
   "cell_type": "code",
   "execution_count": 3,
   "outputs": [],
   "source": [
    "df = joblib.load('../chosen_features_df.csv')"
   ],
   "metadata": {
    "collapsed": false,
    "ExecuteTime": {
     "end_time": "2024-01-16T18:57:40.988870Z",
     "start_time": "2024-01-16T18:57:38.558008Z"
    }
   }
  },
  {
   "cell_type": "code",
   "execution_count": 4,
   "outputs": [
    {
     "name": "stdout",
     "output_type": "stream",
     "text": [
      "<class 'pandas.core.frame.DataFrame'>\n",
      "Index: 2999999 entries, 0 to 2999999\n",
      "Data columns (total 16 columns):\n",
      " #   Column           Dtype \n",
      "---  ------           ----- \n",
      " 0   frame.number     object\n",
      " 1   frame.time       object\n",
      " 2   frame.protocols  object\n",
      " 3   tcp.seq          object\n",
      " 4   tcp.stream       object\n",
      " 5   tcp.srcport      object\n",
      " 6   tcp.dstport      object\n",
      " 7   tcp.len          object\n",
      " 8   tcp.window_size  object\n",
      " 9   tcp.flags.syn    object\n",
      " 10  tcp.flags.reset  object\n",
      " 11  udp.srcport      object\n",
      " 12  udp.dstport      object\n",
      " 13  ip.src           object\n",
      " 14  ip.dst           object\n",
      " 15  alert            object\n",
      "dtypes: object(16)\n",
      "memory usage: 389.1+ MB\n"
     ]
    }
   ],
   "source": [
    "df.info()"
   ],
   "metadata": {
    "collapsed": false,
    "ExecuteTime": {
     "end_time": "2024-01-16T18:22:30.396496Z",
     "start_time": "2024-01-16T18:22:30.256569Z"
    }
   }
  },
  {
   "cell_type": "code",
   "execution_count": 5,
   "outputs": [
    {
     "data": {
      "text/plain": "frame.number             0\nframe.time               0\nframe.protocols          0\ntcp.seq               3731\ntcp.stream            3731\ntcp.srcport           3731\ntcp.dstport           3731\ntcp.len               3731\ntcp.window_size       3731\ntcp.flags.syn         3731\ntcp.flags.reset       3731\nudp.srcport        2998760\nudp.dstport        2998760\nip.src                 179\nip.dst                 179\nalert                    0\ndtype: int64"
     },
     "execution_count": 5,
     "metadata": {},
     "output_type": "execute_result"
    }
   ],
   "source": [
    "df.isna().sum()"
   ],
   "metadata": {
    "collapsed": false,
    "ExecuteTime": {
     "end_time": "2024-01-16T18:22:40.645701Z",
     "start_time": "2024-01-16T18:22:40.527542Z"
    }
   }
  },
  {
   "cell_type": "markdown",
   "source": [
    "I will drop the rows with null values for tcp.len"
   ],
   "metadata": {
    "collapsed": false
   }
  },
  {
   "cell_type": "code",
   "execution_count": 4,
   "outputs": [],
   "source": [
    "df = df.dropna(subset=['tcp.len'])"
   ],
   "metadata": {
    "collapsed": false,
    "ExecuteTime": {
     "end_time": "2024-01-16T18:57:46.073273Z",
     "start_time": "2024-01-16T18:57:45.514633Z"
    }
   }
  },
  {
   "cell_type": "code",
   "execution_count": 7,
   "outputs": [
    {
     "data": {
      "text/plain": "frame.number             0\nframe.time               0\nframe.protocols          0\ntcp.seq                  0\ntcp.stream               0\ntcp.srcport              0\ntcp.dstport              0\ntcp.len                  0\ntcp.window_size          0\ntcp.flags.syn            0\ntcp.flags.reset          0\nudp.srcport        2996268\nudp.dstport        2996268\nip.src                   0\nip.dst                   0\nalert                    0\ndtype: int64"
     },
     "execution_count": 7,
     "metadata": {},
     "output_type": "execute_result"
    }
   ],
   "source": [
    "df.isna().sum()"
   ],
   "metadata": {
    "collapsed": false,
    "ExecuteTime": {
     "end_time": "2024-01-16T18:22:51.388329Z",
     "start_time": "2024-01-16T18:22:51.381993Z"
    }
   }
  },
  {
   "cell_type": "code",
   "execution_count": 5,
   "outputs": [
    {
     "name": "stdout",
     "output_type": "stream",
     "text": [
      "<class 'pandas.core.frame.DataFrame'>\n",
      "Index: 1500 entries, 475736 to 172870\n",
      "Data columns (total 16 columns):\n",
      " #   Column           Non-Null Count  Dtype \n",
      "---  ------           --------------  ----- \n",
      " 0   frame.number     1500 non-null   object\n",
      " 1   frame.time       1500 non-null   object\n",
      " 2   frame.protocols  1500 non-null   object\n",
      " 3   tcp.seq          1500 non-null   object\n",
      " 4   tcp.stream       1500 non-null   object\n",
      " 5   tcp.srcport      1500 non-null   object\n",
      " 6   tcp.dstport      1500 non-null   object\n",
      " 7   tcp.len          1500 non-null   object\n",
      " 8   tcp.window_size  1500 non-null   object\n",
      " 9   tcp.flags.syn    1500 non-null   object\n",
      " 10  tcp.flags.reset  1500 non-null   object\n",
      " 11  udp.srcport      0 non-null      object\n",
      " 12  udp.dstport      0 non-null      object\n",
      " 13  ip.src           1500 non-null   object\n",
      " 14  ip.dst           1500 non-null   object\n",
      " 15  alert            1500 non-null   object\n",
      "dtypes: object(16)\n",
      "memory usage: 199.2+ KB\n"
     ]
    }
   ],
   "source": [
    "df_sample_1500 = df.sample(n= 1500, random_state=42)\n",
    "df_sample_1500.info()"
   ],
   "metadata": {
    "collapsed": false,
    "ExecuteTime": {
     "end_time": "2024-01-16T18:58:15.985965Z",
     "start_time": "2024-01-16T18:58:15.704266Z"
    }
   }
  },
  {
   "cell_type": "code",
   "execution_count": 6,
   "outputs": [],
   "source": [
    "features = ['tcp.seq', 'tcp.stream', 'tcp.srcport', 'tcp.dstport',\n",
    " 'tcp.len', 'tcp.window_size', 'tcp.flags.syn', 'tcp.flags.reset', 'alert']"
   ],
   "metadata": {
    "collapsed": false,
    "ExecuteTime": {
     "end_time": "2024-01-16T18:58:22.706440Z",
     "start_time": "2024-01-16T18:58:22.682113Z"
    }
   }
  },
  {
   "cell_type": "code",
   "execution_count": null,
   "outputs": [],
   "source": [
    "distribution_plot(df_sample_1500, features)"
   ],
   "metadata": {
    "collapsed": false,
    "is_executing": true,
    "ExecuteTime": {
     "start_time": "2024-01-16T18:58:33.348329Z"
    }
   }
  },
  {
   "cell_type": "markdown",
   "source": [],
   "metadata": {
    "collapsed": false
   }
  },
  {
   "cell_type": "markdown",
   "source": [],
   "metadata": {
    "collapsed": false
   }
  },
  {
   "cell_type": "code",
   "execution_count": 8,
   "outputs": [
    {
     "name": "stdout",
     "output_type": "stream",
     "text": [
      "0-20% Missing Values: ['ip.src', 'ip.dst', 'ip.len', 'ip.ttl', 'ip.flags', 'ip.frag_offset', 'ip.proto', 'ip.version', 'ip.dsfield', 'ip.checksum', 'tcp.srcport', 'tcp.dstport', 'tcp.len', 'tcp.seq', 'tcp.ack', 'tcp.flags', 'tcp.flags.syn', 'tcp.flags.ack', 'tcp.flags.fin', 'tcp.flags.reset', 'tcp.window_size', 'tcp.checksum', 'tcp.stream']\n",
      "20-40% Missing Values: []\n",
      "40-60% Missing Values: []\n",
      "60-80% Missing Values: ['http.request.method', 'http.request.uri', 'http.request.version', 'http.request.full_uri', 'http.response.code', 'http.user_agent', 'http.content_length_header', 'http.content_type', 'http.host', 'http.connection']\n",
      "80-100% Missing Values: ['udp.srcport', 'udp.dstport', 'udp.length', 'udp.checksum', 'icmp.type', 'icmp.code', 'icmp.checksum', 'http.cookie', 'http.referer', 'http.location', 'http.authorization', 'dns.qry.name', 'dns.qry.type', 'dns.qry.class', 'dns.flags.response', 'dns.flags.recdesired', 'dns.flags.rcode', 'dns.resp.ttl', 'dns.resp.len', 'smtp.req.command', 'smtp.data.fragment', 'pop.request.command', 'pop.response', 'imap.request.command', 'imap.response', 'ftp.request.command', 'ftp.request.arg', 'ftp.response.code', 'ftp.response.arg', 'ipv6.src', 'ipv6.dst', 'ipv6.plen']\n"
     ]
    }
   ],
   "source": [
    "#  I would like to scale the features then plot them again\n",
    "scaler = StandardScaler()\n",
    "df_scaled = pd.DataFrame(scaler.fit_transform(df[features]), columns = features)\n",
    "\n",
    "for feature in features:\n",
    "    plt.figure(figsize=(10, 6))\n",
    "    sns.histplot(df[feature], kde=True, stat=\"density\", linewidth=0)\n",
    "\n",
    "    # Calculate mean and standard deviation\n",
    "    mean_value = df[feature].mean()\n",
    "    std_deviation = df[feature].std()\n",
    "\n",
    "    # Plot vertical lines for mean and std deviation\n",
    "    plt.axvline(mean_value, color='r', linestyle='--', label=f'Mean: {mean_value:.2f}')\n",
    "    plt.axvline(mean_value + std_deviation, color='g', linestyle=':', label=f'Std Dev: {std_deviation:.2f}')\n",
    "    plt.axvline(mean_value - std_deviation, color='g', linestyle=':')\n",
    "\n",
    "    plt.title(f'Distribution of {feature}')\n",
    "    plt.legend()\n",
    "    plt.show()\n",
    "\n",
    "#  I cannot see a clean Gaussian distribution in any of the features.\n",
    "\n",
    "#  I would like to see the pairplot of the feature to see if anything stands out.\n",
    "sns.pairplot(df)\n",
    "plt.show()\n",
    "\n",
    "\n",
    "# Boxplot for outlier detection\n",
    "df.plot(kind='box', subplots=True, layout=(2,3), figsize=(15, 10))\n",
    "plt.show()\n",
    "\n",
    "#  Let's proceed with the corelation analysis of the features\n",
    "# Correlation matrix\n",
    "corr_matrix = df.corr()\n",
    "plt.figure(figsize=(8, 6))\n",
    "sns.heatmap(corr_matrix, annot=True, cmap='cividis')\n",
    "plt.title('Correlation Matrix')\n",
    "plt.show()\n",
    "\n",
    "# After considering the distribution of the chosen features, none of them look like a\n",
    "# Gaussian distribution.\n",
    "\n",
    "# I will be focusing on only one feature now: tcp.len.  it seems that the distribution\n",
    "# of tcp.len is multimodal with several peaks, and it's not symmetrical or bell-shaped\n",
    "# like a Gaussian distribution.\n",
    "\n",
    "# There are a few key observations we can make from the plot:\n",
    "# 1. Presence of Modes: There are several distinct peaks, which could indicate the\n",
    "# presence of specific groups or types of traffic within my TCP data.\n",
    "\n",
    "# 2. Mean and Standard Deviation: The mean and standard deviation are marked on the plot.\n",
    "# The mean is not centered amongst the modes, which is characteristic of skewed or\n",
    "# multimodal distributions.\n",
    "\n",
    "# 3. Outliers or Sparse Data: There are bars on the far right of the plot, suggesting\n",
    "# the presence of outliers or a sparse distribution in the higher range of tcp.len.\n",
    "\n",
    "# Transformations Needed: Since the data is not normally distributed, transformations\n",
    "# could be applied to try to make the distribution more Gaussian-like. Given the\n",
    "# multimodality, a single transformation might not be sufficient to achieve normality.\n",
    "\n",
    "# There are 4 peaks in the distribution of this feature. I will try to see which\n",
    "# protocols are there in the packets. I am doing this in batches for each peak.\n",
    "#  Will need to load the original df\n",
    "filepath = \"data/attack-sample.csv\"\n",
    "df_original = load_data(filepath)\n",
    "peak_traffic_1 = df_original.loc[(df_original['tcp.len'] >100) & (df_original['tcp.len'] < 250), 'frame.protocols'].str.split(':', expand=True).stack().value_counts()\n",
    "print(f'** First Peak Packet Protocols: \\n{peak_traffic_1}' )\n",
    "\n",
    "peak_traffic_2 = df_original.loc[(df_original['tcp.len'] >250) & (df_original['tcp.len'] < 400), 'frame.protocols'].str.split(':', expand=True).stack().value_counts()\n",
    "print(f'** Second Peak Packet Protocols: \\n{peak_traffic_2}' )\n",
    "\n",
    "peak_traffic_3 = df_original.loc[(df_original['tcp.len'] >570) & (df_original['tcp.len'] < 700), 'frame.protocols'].str.split(':', expand=True).stack().value_counts()\n",
    "print(f'** Third Peak Packet Protocols: \\n{peak_traffic_3}' )\n",
    "\n",
    "peak_traffic_4 = df_original.loc[(df_original['tcp.len'] >1100) & (df_original['tcp.len'] < 1300), 'frame.protocols'].str.split(':', expand=True).stack().value_counts()\n",
    "print(f'** Fourth Peak Packet Protocols: \\n{peak_traffic_4}' )\n",
    "\n",
    "\n",
    "#   Next step is to do Transformations on this feature to try to make the distribution\n",
    "#   more Gaussian-like\n",
    "feature = 'tcp.len'\n",
    "distribution_plot(feature)\n",
    "\n",
    "\n",
    "# I'll try to see what happens if I scale the df (z_score):\n",
    "scaler = StandardScaler()\n",
    "scaled_feature = scaler.fit_transform(df[feature].values.reshape(-1,1))\n",
    "# scaled_feature = scaler.fit_transform(df[[feature]].values.reshape(-1,1))\n",
    "df[f'{feature}_scaled'] = scaled_feature.flatten()\n",
    "distribution_plot(f'{feature}_scaled')\n",
    "\n",
    "# I'll try to see what happens if I use the log of the df feature :\n",
    "feature_log = np.log(df[[feature]] + 1 - df[[feature]].min())\n",
    "df[f'{feature}_log'] = feature_log\n",
    "distribution_plot(f'{feature}_log')\n",
    "\n",
    "# I'll try to see what happens if I use the square root of the df feature :\n",
    "df_sqrt = np.sqrt(df[[feature]] - df[[feature]].min() + 1)\n",
    "df[f'{feature}_sqrt'] = df_sqrt\n",
    "distribution_plot(f'{feature}_sqrt')\n",
    "\n",
    "# I'll try to see what happens if I use the yeo johnson method on the feature :\n",
    "yeo_johnson_transformed = power_transform(df[[feature]], method='yeo-johnson')\n",
    "df[f'{feature}_yeo_johnson'] = yeo_johnson_transformed\n",
    "distribution_plot(f'{feature}_yeo_johnson')\n",
    "\n",
    "# The Box-Cox transformation is a family of power transformations that aim to stabilize\n",
    "# variance and make a dataset more closely approximate a normal distribution. The Box-Cox\n",
    "# transformation is a statistical technique used to transform non-normal dependent variables\n",
    "# into a normal shape. Normal data is often required for various data analysis techniques\n",
    "# and machine learning algorithms.\n",
    "\n",
    "# Dealing with Skewness: If the data you're working with is not normally distributed\n",
    "# (it could be skewed to the left or right), the Box-Cox transformation tries to correct\n",
    "# this skewness. It does this by applying a mathematical operation to the data.\n",
    "# Power Transformation: The transformation is a \"power\" transformation. This means it\n",
    "# raises the data to a power, like squaring or taking the square root. However, the Box-Cox transformation doesn't just square or square root the data; it tries many different powers (including fractional powers) to find the best one that makes the data look most like a normal distribution.\n",
    "\n",
    "# The Lambda (λ): The power that the Box-Cox transformation raises the data to is called\n",
    "# lambda (λ). The transformation tests out many different lambda values and selects the\n",
    "# one that makes the data most normal. If λ is zero, the transformation is equivalent to\n",
    "# taking the natural logarithm of the data.\n",
    "\n",
    "# Positive Values Only: The Box-Cox transformation can only be applied to positive data.\n",
    "# If the data contains zeros or negative values, they must be adjusted to be positive\n",
    "# before the transformation can be applied.\n",
    "\n",
    "# Result: After the best lambda is found and applied, the skewed data should now be more\n",
    "# symmetric, resembling the bell curve of a normal distribution. This can be particularly\n",
    "# helpful when you need to meet the assumptions of a statistical model or algorithm that\n",
    "# requires normally distributed data.\n",
    "df['tcp.len'].value_counts()\n",
    "# There are 219006 values of 0\n",
    "\n",
    "min_val = df[feature].min()\n",
    "if min_val <= 0:\n",
    "    shift_val = abs(min_val) + 1\n",
    "    df[feature] += shift_val\n",
    "\n",
    "from scipy import stats\n",
    "df[f'{feature}_box_cox'] , fitted_lambda = stats.boxcox(df[feature])\n",
    "distribution_plot(df[f'{feature}_box_cox'])\n",
    "# BracketError: The algorithm terminated without finding a valid bracket. Consider trying\n",
    "# different initial points.\n",
    "\"\"\"\n",
    "I got the error: BracketError: The algorithm terminated without finding a valid bracket.\n",
    "Consider trying different initial points.\n",
    "\n",
    "This can occur when:\n",
    "\n",
    "The range of values in the data is very narrow (e.g., many values are very close to each\n",
    "other).\n",
    "There is an outlier that is far away from the rest of the data, which can greatly influence\n",
    " the calculation of λ.\n",
    "The data is not suitable for Box-Cox transformation due to its distribution characteristics.\n",
    "\n",
    "\"\"\"\n",
    "\n",
    "# I will need to treat this in chunks with 4 peaks. then I have somewhat gaussian\n",
    "# distribution\n",
    "\n",
    "\n",
    "\n",
    "# *** Now I will start training my models : z_score,isolation forest, and autoencoder. ***"
   ],
   "metadata": {
    "collapsed": false,
    "ExecuteTime": {
     "end_time": "2024-01-08T15:43:34.445386Z",
     "start_time": "2024-01-08T15:43:30.909039Z"
    }
   }
  }
 ],
 "metadata": {
  "kernelspec": {
   "display_name": "Python 3",
   "language": "python",
   "name": "python3"
  },
  "language_info": {
   "codemirror_mode": {
    "name": "ipython",
    "version": 2
   },
   "file_extension": ".py",
   "mimetype": "text/x-python",
   "name": "python",
   "nbconvert_exporter": "python",
   "pygments_lexer": "ipython2",
   "version": "2.7.6"
  }
 },
 "nbformat": 4,
 "nbformat_minor": 0
}
