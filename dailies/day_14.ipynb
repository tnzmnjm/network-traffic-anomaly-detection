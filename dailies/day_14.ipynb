{
 "cells": [
  {
   "cell_type": "code",
   "execution_count": 5,
   "outputs": [],
   "source": [
    "import pandas as pd\n",
    "import numpy as np\n",
    "from sklearn.ensemble import IsolationForest\n",
    "from sklearn.preprocessing import LabelEncoder\n",
    "from sklearn.model_selection import train_test_split\n",
    "from sklearn.metrics import confusion_matrix, precision_score, recall_score\n",
    "import plotly.express as px\n",
    "import matplotlib.pyplot as plt\n",
    "import joblib\n",
    "import wandb\n",
    "from dotenv import load_dotenv\n",
    "import os\n",
    "\n",
    "load_dotenv()\n",
    "WANDB_API_KEY = os.environ.get('WANDB_API_KEY')"
   ],
   "metadata": {
    "collapsed": false,
    "ExecuteTime": {
     "end_time": "2023-12-14T18:36:13.421877Z",
     "start_time": "2023-12-14T18:36:13.370213Z"
    }
   }
  },
  {
   "cell_type": "code",
   "execution_count": 2,
   "outputs": [
    {
     "name": "stderr",
     "output_type": "stream",
     "text": [
      "/tmp/ipykernel_519305/3278689918.py:1: DtypeWarning: Columns (34,37,44,50,52,54,70,71) have mixed types. Specify dtype option on import or set low_memory=False.\n",
      "  df = pd.read_csv('../attack-sample.csv')\n"
     ]
    }
   ],
   "source": [
    "df = pd.read_csv('../attack-sample.csv')"
   ],
   "metadata": {
    "collapsed": false,
    "ExecuteTime": {
     "end_time": "2023-12-14T18:35:34.937547Z",
     "start_time": "2023-12-14T18:35:29.880162Z"
    }
   }
  },
  {
   "cell_type": "code",
   "execution_count": 3,
   "metadata": {
    "collapsed": true,
    "ExecuteTime": {
     "end_time": "2023-12-14T18:22:06.839422Z",
     "start_time": "2023-12-14T18:22:06.795697Z"
    }
   },
   "outputs": [
    {
     "data": {
      "text/plain": "(1000000, 74)"
     },
     "execution_count": 3,
     "metadata": {},
     "output_type": "execute_result"
    }
   ],
   "source": [
    "df.shape"
   ]
  },
  {
   "cell_type": "markdown",
   "source": [
    "Based on my yesterday's analysis I would like to train the Isolation forest on the http data."
   ],
   "metadata": {
    "collapsed": false
   }
  },
  {
   "cell_type": "code",
   "execution_count": 4,
   "outputs": [
    {
     "data": {
      "text/plain": "Index(['frame.number', 'frame.len', 'frame.time', 'frame.time_epoch',\n       'frame.protocols', 'eth.src', 'eth.dst', 'eth.type', 'ip.src', 'ip.dst',\n       'ip.len', 'ip.ttl', 'ip.flags', 'ip.frag_offset', 'ip.proto',\n       'ip.version', 'ip.dsfield', 'ip.checksum', 'tcp.srcport', 'tcp.dstport',\n       'tcp.len', 'tcp.seq', 'tcp.ack', 'tcp.flags', 'tcp.flags.syn',\n       'tcp.flags.ack', 'tcp.flags.fin', 'tcp.flags.reset', 'tcp.window_size',\n       'tcp.checksum', 'tcp.stream', 'udp.srcport', 'udp.dstport',\n       'udp.length', 'udp.checksum', 'icmp.type', 'icmp.code', 'icmp.checksum',\n       'http.request.method', 'http.request.uri', 'http.request.version',\n       'http.request.full_uri', 'http.response.code', 'http.user_agent',\n       'http.content_length_header', 'http.content_type', 'http.cookie',\n       'http.host', 'http.referer', 'http.location', 'http.authorization',\n       'http.connection', 'dns.qry.name', 'dns.qry.type', 'dns.qry.class',\n       'dns.flags.response', 'dns.flags.recdesired', 'dns.flags.rcode',\n       'dns.resp.ttl', 'dns.resp.len', 'smtp.req.command',\n       'smtp.data.fragment', 'pop.request.command', 'pop.response',\n       'imap.request.command', 'imap.response', 'ftp.request.command',\n       'ftp.request.arg', 'ftp.response.code', 'ftp.response.arg', 'ipv6.src',\n       'ipv6.dst', 'ipv6.plen', 'alert'],\n      dtype='object')"
     },
     "execution_count": 4,
     "metadata": {},
     "output_type": "execute_result"
    }
   ],
   "source": [
    "df.columns\n"
   ],
   "metadata": {
    "collapsed": false,
    "ExecuteTime": {
     "end_time": "2023-12-14T18:22:12.941742Z",
     "start_time": "2023-12-14T18:22:12.855244Z"
    }
   }
  },
  {
   "cell_type": "code",
   "execution_count": 11,
   "outputs": [
    {
     "data": {
      "text/plain": "http.authorization\nBasic YWRtaW46aXJvbnBvcnQ=                    1\nBasic d2ViYWRtaW46d2ViYWRtaW4=                1\nBasic d2ViYWRtaW46MTIzNA==                    1\nBasic YWRtaW46YmFycmljYWRl                    1\nBasic dGVzdDp0ZXN0                            1\nBasic ZnRwOg==                                1\nBasic cm9vdDpjaGFuZ2VtZQ==                    1\nBasic YWRtaW46MDAwMA==                        1\nBasic dXNlcl9lZGl0b3I6ZGVtbw==                1\nBasic ZTI1MDplMjUwY2hhbmdlbWU=                1\nBasic YWRtaW46c2VjdXJl                        1\nBasic UUNDOlFMb2dpYzY2                        1\nBasic YmlsbHktYm9iOg==                        1\nBasic c3RvcndhdGNoOnNwZWNpYWxpc3Q=            1\nBasic YWRtaW5pc3RyYXRvcjphZG1pbmlzdHJhdG9y    1\nBasic OnBhc3N3b3Jk                            1\nBasic eGFtcHA6eGFtcHA=                        1\nBasic YWRtaW46b3BlcmF0b3I=                    1\nBasic YWRtaW46aGFncG9sbTE=                    1\nBasic dXNlcl9wdWJsaXNoZXI6ZGVtbw==            1\nBasic YWRtaW46Y2hhbmdldGhpcw==                1\nBasic ZTUwMDplNTAwY2hhbmdlbWU=                1\nBasic QWRtaW5pc3RyYXRvcjoxOTc1MDQwNw==        1\nBasic c3VwZXJ1c2VyOmFkbWlu                    1\nBasic YWRtaW46bXAzbXlzdGlj                    1\nBasic QWRtaW5pc3RyYXRvcjphZG1pbg==            1\nBasic YWRtaW46VEFOREJFUkc=                    1\nBasic OnNtY2FkbWlu                            1\nName: count, dtype: int64"
     },
     "execution_count": 11,
     "metadata": {},
     "output_type": "execute_result"
    }
   ],
   "source": [
    "df['http.authorization'].value_counts()"
   ],
   "metadata": {
    "collapsed": false,
    "ExecuteTime": {
     "end_time": "2023-12-14T18:18:08.351207Z",
     "start_time": "2023-12-14T18:18:08.317010Z"
    }
   }
  },
  {
   "cell_type": "code",
   "execution_count": 12,
   "outputs": [],
   "source": [
    "# http.request.version' I will treat this column as categorical Since this is a categorical field with a limited number of expected values (plus some anomalies), label encoding can be a good approach.\n",
    "\n",
    "# 'http.response.code' --> Treat this column as categorical. one-hot encoding might be more appropriate than label encoding. This is because HTTP response codes are not ordinal (i.e., a higher code doesn't necessarily imply a 'greater' or 'lesser' category in a meaningful way for modeling). One-hot encoding will treat each response code as a separate feature, which could help the model distinguish between different types of responses more effectively.\n",
    "\n",
    "# 'http.content_length_header'--> Since this is inherently a numerical feature, I can use it directly without the need for categorical encoding. Given the likely wide range of values, normalization might be beneficial. Techniques like Min-Max Scaling or Standardization (Z-score normalization) could be used to bring this feature onto a comparable scale with other features.\n",
    "\n",
    "# 'http.content_type' --> This column contains various MIME types indicating the nature of the content in the HTTP response. Common types include text/html, application/x-www-form-urlencoded, image/png, image/gif, etc. There are entries that appear to be irregular or not standard MIME types (e.g., entries with sfish and session IDs). These could be indicative of non-standard behavior or anomalies --> could map all text/html variants to a single category, irrespective of the character set details. This would reduce the dimensionality and focus on the broader content type.The anomalous or non-standard types should be handled carefully. Depending on their frequency and significance, you might treat them as a separate category or group them under a generic 'other' category. One-Hot Encoding: After simplification, one-hot encoding can be a good approach, as it will treat each content type as a separate feature.\n",
    "\n",
    "# 'http.cookie' --> The values are quite complex and varied. There are standard session cookies like PHPSESSID, JSESSIONID, and ASP.NET_SessionId. However, there are also entries that look non-standard or potentially indicative of unusual activity (e.g., strings with -->>'>'\" and sfish). Need to simplify the features --> Simplifying the feature might involve extracting specific, common patterns (like the presence of standard session IDs) or quantifying the complexity of the cookie string (e.g., length, number of distinct components). --> Binary or Categorical Encoding: Depending on the simplification approach, I might encode this feature as a binary variable (e.g., indicating the presence or absence of a certain pattern) or as a categorical variable with a manageable number of categories. The anomalous or unusual cookie values should be carefully considered, as they might be significant for detecting anomalies in web traffic.\n",
    "\n",
    "# 'http.host' --> The http.host column primarily consists of IP addresses and domain names. The most frequent host is 10.20.30.101, which appears to be a local or private IP address, followed by other hosts including a multicast address 239.255.255.250:1900 (commonly used for SSDP), and various domain names. Some entries include specific ports (e.g., 10.20.30.101:8080), while others appear irregular or malformed (e.g., entries with sfish and keep-alive). Categorical Encoding with Simplification: Given the high frequency of the primary IP address and the diversity of other hosts, it might be beneficial to simplify this feature. For instance, I could categorize the data into 'Local IP', 'Multicast IP', 'Domain Name', 'Irregular', etc. The unusual and non-standard entries are potentially significant for anomaly detection and should be encoded in a way that highlights their presence. Depending on the final number of categories after simplification, either one-hot encoding or label encoding can be used. One-hot encoding is preferable if the number of categories is not too high.\n",
    "\n",
    "# 'http.location' --> This feature contains URLs to which the client is being redirected or specific pages being accessed. It includes both relative paths (like error.php, login.php) and absolute URLs --> The variety ranges from standard application paths (like login pages) to more specific and potentially unusual URLs (such as those ending with .sfish).potential Indicators of Web Application Flow: Standard paths like login.php or signup pages could indicate normal application flow, while frequent redirects to error.php or database-offline.php might signify operational issues or anomalies --> Given the high diversity of URLs, direct use might be impractical due to high dimensionality. A possible approach is to simplify the URLs into broader categories, like 'Error Page', 'Login Page', 'Signup Page', 'External Redirect', 'Unusual Path', etc --> Particular attention should be given to unusual or non-standard paths, as they might be significant for anomaly detection. These could be encoded separately --> One-Hot Encoding or Label Encoding: After categorization, either one-hot encoding or label encoding can be used, depending on the number of categories. One-hot encoding would be preferable for maintaining distinct information about each category.\n",
    "\n",
    "# http.authorization --> This column contains Base64 encoded authorization credentials, typically in the format Basic [encoded credentials]. Each encoded string represents a username and password pair. --> I will remove this column\n",
    "\n",
    "# http.request.full_uri --> Feature Transformation for Dimensionality Reduction: Given the high diversity and specificity of the URIs, direct usage in their current form could lead to extremely high dimensionality. A transformation approach might be needed. Some options include: Extracting the base path or resource (e.g., basket.jsp, login.php) and ignoring query parameters or unique identifiers. Grouping URIs into broader categories based on their structure or content. Handling Anomalies: I need to pay special attention to unusual or rarely occurring URIs, as they might be significant for detecting anomalies. However, I need to ensure that the transformation method does not overly generalize these unique URIs. Categorical Encoding: After simplification, I can use categorical encoding methods like one-hot encoding or label encoding. The choice depends on the number of categories after transformation. Text Processing Techniques: Depending on the complexity, text processing techniques like tokenization or feature hashing might be applicable to extract meaningful patterns from the URIs.\n"
   ],
   "metadata": {
    "collapsed": false,
    "ExecuteTime": {
     "end_time": "2023-12-14T18:20:58.419850Z",
     "start_time": "2023-12-14T18:20:58.408995Z"
    }
   }
  },
  {
   "cell_type": "code",
   "execution_count": 3,
   "outputs": [],
   "source": [
    "features_to_keep = ['http.request.version','http.response.code', 'http.request.full_uri',\n",
    "                    'http.content_length_header', 'http.content_type',\n",
    "                    'http.cookie', 'http.host', 'http.location', 'alert']"
   ],
   "metadata": {
    "collapsed": false,
    "ExecuteTime": {
     "end_time": "2023-12-14T18:35:44.740605Z",
     "start_time": "2023-12-14T18:35:44.706945Z"
    }
   }
  },
  {
   "cell_type": "code",
   "execution_count": 4,
   "outputs": [],
   "source": [
    "df_http = df[features_to_keep]\n"
   ],
   "metadata": {
    "collapsed": false,
    "ExecuteTime": {
     "end_time": "2023-12-14T18:35:47.593322Z",
     "start_time": "2023-12-14T18:35:47.585275Z"
    }
   }
  },
  {
   "cell_type": "code",
   "execution_count": 7,
   "outputs": [
    {
     "data": {
      "text/plain": "(1000000, 8)"
     },
     "execution_count": 7,
     "metadata": {},
     "output_type": "execute_result"
    }
   ],
   "source": [
    "df_http.shape"
   ],
   "metadata": {
    "collapsed": false,
    "ExecuteTime": {
     "end_time": "2023-12-14T18:23:58.067960Z",
     "start_time": "2023-12-14T18:23:58.033807Z"
    }
   }
  },
  {
   "cell_type": "code",
   "execution_count": 8,
   "outputs": [
    {
     "name": "stdout",
     "output_type": "stream",
     "text": [
      "<class 'pandas.core.frame.DataFrame'>\n",
      "RangeIndex: 1000000 entries, 0 to 999999\n",
      "Data columns (total 8 columns):\n",
      " #   Column                      Non-Null Count    Dtype  \n",
      "---  ------                      --------------    -----  \n",
      " 0   http.request.version        319771 non-null   object \n",
      " 1   http.response.code          319200 non-null   float64\n",
      " 2   http.content_length_header  333432 non-null   object \n",
      " 3   http.content_type           333479 non-null   object \n",
      " 4   http.cookie                 161531 non-null   object \n",
      " 5   http.host                   319298 non-null   object \n",
      " 6   http.location               7996 non-null     object \n",
      " 7   alert                       1000000 non-null  object \n",
      "dtypes: float64(1), object(7)\n",
      "memory usage: 61.0+ MB\n"
     ]
    }
   ],
   "source": [
    "df_http.info()"
   ],
   "metadata": {
    "collapsed": false,
    "ExecuteTime": {
     "end_time": "2023-12-14T18:24:03.841022Z",
     "start_time": "2023-12-14T18:24:03.498972Z"
    }
   }
  },
  {
   "cell_type": "markdown",
   "source": [
    "I will drop the response feature for now as it has more than %70 of missing values"
   ],
   "metadata": {
    "collapsed": false
   }
  },
  {
   "cell_type": "code",
   "execution_count": 13,
   "outputs": [
    {
     "data": {
      "text/plain": "http.response.code\nTrue     680800\nFalse    319200\nName: count, dtype: int64"
     },
     "execution_count": 13,
     "metadata": {},
     "output_type": "execute_result"
    }
   ],
   "source": [
    "df_http['http.response.code'].isnull().value_counts()"
   ],
   "metadata": {
    "collapsed": false,
    "ExecuteTime": {
     "end_time": "2023-12-14T18:26:19.595445Z",
     "start_time": "2023-12-14T18:26:19.437723Z"
    }
   }
  },
  {
   "cell_type": "code",
   "execution_count": 14,
   "outputs": [],
   "source": [
    "df_http =  df_http.drop(columns=['http.response.code'])\n"
   ],
   "metadata": {
    "collapsed": false,
    "ExecuteTime": {
     "end_time": "2023-12-14T18:26:42.312915Z",
     "start_time": "2023-12-14T18:26:42.309167Z"
    }
   }
  },
  {
   "cell_type": "code",
   "execution_count": 6,
   "outputs": [
    {
     "data": {
      "text/plain": "['df_http.csv']"
     },
     "execution_count": 6,
     "metadata": {},
     "output_type": "execute_result"
    }
   ],
   "source": [
    "joblib.dump(df_http, 'df_http.csv')"
   ],
   "metadata": {
    "collapsed": false,
    "ExecuteTime": {
     "end_time": "2023-12-14T18:37:00.342214Z",
     "start_time": "2023-12-14T18:36:59.887146Z"
    }
   }
  },
  {
   "cell_type": "code",
   "execution_count": 8,
   "outputs": [
    {
     "data": {
      "text/plain": "  http.request.version  http.response.code  \\\n0             HTTP/1.1                 NaN   \n1                  NaN               404.0   \n2                  NaN                 NaN   \n3             HTTP/1.1                 NaN   \n4                  NaN               404.0   \n5                  NaN                 NaN   \n6                  NaN               404.0   \n7                  NaN               404.0   \n8             HTTP/1.1                 NaN   \n9             HTTP/1.1                 NaN   \n\n                               http.request.full_uri  \\\n0  http://10.20.30.101/joomla/libraries/joomla/ht...   \n1                                                NaN   \n2                                                NaN   \n3  http://10.20.30.101/joomla/plugins/editors/tin...   \n4                                                NaN   \n5                                                NaN   \n6                                                NaN   \n7                                                NaN   \n8  http://10.20.30.101/joomla/plugins/editors/tin...   \n9  http://10.20.30.101/mono/owasp.net/head.sfish/...   \n\n  http.content_length_header              http.content_type  \\\n0                        NaN                            NaN   \n1                       2196       text/html; charset=utf-8   \n2                        NaN                            NaN   \n3                        NaN                            NaN   \n4                       2200       text/html; charset=utf-8   \n5                        NaN                            NaN   \n6                        186  text/html; charset=iso-8859-1   \n7                       2210       text/html; charset=utf-8   \n8                        NaN                            NaN   \n9                        NaN                            NaN   \n\n                                         http.cookie     http.host  \\\n0                                                NaN  10.20.30.101   \n1                                                NaN           NaN   \n2                                                NaN           NaN   \n3                                                NaN  10.20.30.101   \n4                                                NaN           NaN   \n5                                                NaN           NaN   \n6                                                NaN           NaN   \n7                                                NaN           NaN   \n8                                                NaN  10.20.30.101   \n9  PHPSESSID=3ks8clrkpt2b3l0p7hkemej9q7; JSESSION...  10.20.30.101   \n\n  http.location       alert  \n0           NaN  suspicious  \n1           NaN  suspicious  \n2           NaN  suspicious  \n3           NaN  suspicious  \n4           NaN  suspicious  \n5           NaN  suspicious  \n6           NaN  suspicious  \n7           NaN  suspicious  \n8           NaN  suspicious  \n9           NaN  suspicious  ",
      "text/html": "<div>\n<style scoped>\n    .dataframe tbody tr th:only-of-type {\n        vertical-align: middle;\n    }\n\n    .dataframe tbody tr th {\n        vertical-align: top;\n    }\n\n    .dataframe thead th {\n        text-align: right;\n    }\n</style>\n<table border=\"1\" class=\"dataframe\">\n  <thead>\n    <tr style=\"text-align: right;\">\n      <th></th>\n      <th>http.request.version</th>\n      <th>http.response.code</th>\n      <th>http.request.full_uri</th>\n      <th>http.content_length_header</th>\n      <th>http.content_type</th>\n      <th>http.cookie</th>\n      <th>http.host</th>\n      <th>http.location</th>\n      <th>alert</th>\n    </tr>\n  </thead>\n  <tbody>\n    <tr>\n      <th>0</th>\n      <td>HTTP/1.1</td>\n      <td>NaN</td>\n      <td>http://10.20.30.101/joomla/libraries/joomla/ht...</td>\n      <td>NaN</td>\n      <td>NaN</td>\n      <td>NaN</td>\n      <td>10.20.30.101</td>\n      <td>NaN</td>\n      <td>suspicious</td>\n    </tr>\n    <tr>\n      <th>1</th>\n      <td>NaN</td>\n      <td>404.0</td>\n      <td>NaN</td>\n      <td>2196</td>\n      <td>text/html; charset=utf-8</td>\n      <td>NaN</td>\n      <td>NaN</td>\n      <td>NaN</td>\n      <td>suspicious</td>\n    </tr>\n    <tr>\n      <th>2</th>\n      <td>NaN</td>\n      <td>NaN</td>\n      <td>NaN</td>\n      <td>NaN</td>\n      <td>NaN</td>\n      <td>NaN</td>\n      <td>NaN</td>\n      <td>NaN</td>\n      <td>suspicious</td>\n    </tr>\n    <tr>\n      <th>3</th>\n      <td>HTTP/1.1</td>\n      <td>NaN</td>\n      <td>http://10.20.30.101/joomla/plugins/editors/tin...</td>\n      <td>NaN</td>\n      <td>NaN</td>\n      <td>NaN</td>\n      <td>10.20.30.101</td>\n      <td>NaN</td>\n      <td>suspicious</td>\n    </tr>\n    <tr>\n      <th>4</th>\n      <td>NaN</td>\n      <td>404.0</td>\n      <td>NaN</td>\n      <td>2200</td>\n      <td>text/html; charset=utf-8</td>\n      <td>NaN</td>\n      <td>NaN</td>\n      <td>NaN</td>\n      <td>suspicious</td>\n    </tr>\n    <tr>\n      <th>5</th>\n      <td>NaN</td>\n      <td>NaN</td>\n      <td>NaN</td>\n      <td>NaN</td>\n      <td>NaN</td>\n      <td>NaN</td>\n      <td>NaN</td>\n      <td>NaN</td>\n      <td>suspicious</td>\n    </tr>\n    <tr>\n      <th>6</th>\n      <td>NaN</td>\n      <td>404.0</td>\n      <td>NaN</td>\n      <td>186</td>\n      <td>text/html; charset=iso-8859-1</td>\n      <td>NaN</td>\n      <td>NaN</td>\n      <td>NaN</td>\n      <td>suspicious</td>\n    </tr>\n    <tr>\n      <th>7</th>\n      <td>NaN</td>\n      <td>404.0</td>\n      <td>NaN</td>\n      <td>2210</td>\n      <td>text/html; charset=utf-8</td>\n      <td>NaN</td>\n      <td>NaN</td>\n      <td>NaN</td>\n      <td>suspicious</td>\n    </tr>\n    <tr>\n      <th>8</th>\n      <td>HTTP/1.1</td>\n      <td>NaN</td>\n      <td>http://10.20.30.101/joomla/plugins/editors/tin...</td>\n      <td>NaN</td>\n      <td>NaN</td>\n      <td>NaN</td>\n      <td>10.20.30.101</td>\n      <td>NaN</td>\n      <td>suspicious</td>\n    </tr>\n    <tr>\n      <th>9</th>\n      <td>HTTP/1.1</td>\n      <td>NaN</td>\n      <td>http://10.20.30.101/mono/owasp.net/head.sfish/...</td>\n      <td>NaN</td>\n      <td>NaN</td>\n      <td>PHPSESSID=3ks8clrkpt2b3l0p7hkemej9q7; JSESSION...</td>\n      <td>10.20.30.101</td>\n      <td>NaN</td>\n      <td>suspicious</td>\n    </tr>\n  </tbody>\n</table>\n</div>"
     },
     "execution_count": 8,
     "metadata": {},
     "output_type": "execute_result"
    }
   ],
   "source": [
    "df_http.head(10)"
   ],
   "metadata": {
    "collapsed": false,
    "ExecuteTime": {
     "end_time": "2023-12-14T18:38:26.388600Z",
     "start_time": "2023-12-14T18:38:26.358778Z"
    }
   }
  },
  {
   "cell_type": "code",
   "execution_count": 13,
   "outputs": [
    {
     "name": "stdout",
     "output_type": "stream",
     "text": [
      "df_http shape is: (1000000, 9)\n",
      "http.request.version          68.0229\n",
      "http.response.code            68.0800\n",
      "http.request.full_uri         68.0664\n",
      "http.content_length_header    66.6568\n",
      "http.content_type             66.6521\n",
      "http.cookie                   83.8469\n",
      "http.host                     68.0702\n",
      "http.location                 99.2004\n",
      "alert                          0.0000\n",
      "dtype: float64\n"
     ]
    },
    {
     "data": {
      "text/plain": "http.request.version          680229\nhttp.response.code            680800\nhttp.request.full_uri         680664\nhttp.content_length_header    666568\nhttp.content_type             666521\nhttp.cookie                   838469\nhttp.host                     680702\nhttp.location                 992004\nalert                              0\ndtype: int64"
     },
     "execution_count": 13,
     "metadata": {},
     "output_type": "execute_result"
    }
   ],
   "source": [
    "print(f'df_http shape is: {df_http.shape}')\n",
    "print((df_http.isna().sum() / len(df_http)) * 100)\n",
    "df_http.isna().sum()"
   ],
   "metadata": {
    "collapsed": false,
    "ExecuteTime": {
     "end_time": "2023-12-14T18:45:29.408586Z",
     "start_time": "2023-12-14T18:45:29.245546Z"
    }
   }
  },
  {
   "cell_type": "markdown",
   "source": [
    "I need to do feature engineering + deciding about missing values in each feature"
   ],
   "metadata": {
    "collapsed": false
   }
  },
  {
   "cell_type": "code",
   "execution_count": null,
   "outputs": [],
   "source": [],
   "metadata": {
    "collapsed": false
   }
  }
 ],
 "metadata": {
  "kernelspec": {
   "display_name": "Python 3",
   "language": "python",
   "name": "python3"
  },
  "language_info": {
   "codemirror_mode": {
    "name": "ipython",
    "version": 2
   },
   "file_extension": ".py",
   "mimetype": "text/x-python",
   "name": "python",
   "nbconvert_exporter": "python",
   "pygments_lexer": "ipython2",
   "version": "2.7.6"
  }
 },
 "nbformat": 4,
 "nbformat_minor": 0
}
