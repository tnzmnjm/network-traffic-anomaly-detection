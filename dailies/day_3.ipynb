{
 "cells": [
  {
   "cell_type": "code",
   "execution_count": 1,
   "metadata": {
    "collapsed": true,
    "ExecuteTime": {
     "end_time": "2023-12-03T12:27:26.281228Z",
     "start_time": "2023-12-03T12:27:25.264072Z"
    }
   },
   "outputs": [],
   "source": [
    "import pandas as pd\n",
    "\n",
    "def load_data(filepath):\n",
    "    try:\n",
    "        df = pd.read_csv(filepath)\n",
    "        print(f'Dataframe shape: {df.shape}')\n",
    "        print(f'Dataframe columns: {df.columns.tolist()}')\n",
    "        df.info()\n",
    "        return df\n",
    "\n",
    "    except Exception as e:\n",
    "        print(f'Error Loading data: {e}')\n",
    "    return None\n"
   ]
  },
  {
   "cell_type": "code",
   "execution_count": 25,
   "outputs": [
    {
     "name": "stderr",
     "output_type": "stream",
     "text": [
      "/tmp/ipykernel_322180/2127223456.py:5: DtypeWarning: Columns (34,37,44,50,52,54,70,71) have mixed types. Specify dtype option on import or set low_memory=False.\n",
      "  df = pd.read_csv(filepath)\n"
     ]
    },
    {
     "name": "stdout",
     "output_type": "stream",
     "text": [
      "Dataframe shape: (1000000, 74)\n",
      "Dataframe columns: ['frame.number', 'frame.len', 'frame.time', 'frame.time_epoch', 'frame.protocols', 'eth.src', 'eth.dst', 'eth.type', 'ip.src', 'ip.dst', 'ip.len', 'ip.ttl', 'ip.flags', 'ip.frag_offset', 'ip.proto', 'ip.version', 'ip.dsfield', 'ip.checksum', 'tcp.srcport', 'tcp.dstport', 'tcp.len', 'tcp.seq', 'tcp.ack', 'tcp.flags', 'tcp.flags.syn', 'tcp.flags.ack', 'tcp.flags.fin', 'tcp.flags.reset', 'tcp.window_size', 'tcp.checksum', 'tcp.stream', 'udp.srcport', 'udp.dstport', 'udp.length', 'udp.checksum', 'icmp.type', 'icmp.code', 'icmp.checksum', 'http.request.method', 'http.request.uri', 'http.request.version', 'http.request.full_uri', 'http.response.code', 'http.user_agent', 'http.content_length_header', 'http.content_type', 'http.cookie', 'http.host', 'http.referer', 'http.location', 'http.authorization', 'http.connection', 'dns.qry.name', 'dns.qry.type', 'dns.qry.class', 'dns.flags.response', 'dns.flags.recdesired', 'dns.flags.rcode', 'dns.resp.ttl', 'dns.resp.len', 'smtp.req.command', 'smtp.data.fragment', 'pop.request.command', 'pop.response', 'imap.request.command', 'imap.response', 'ftp.request.command', 'ftp.request.arg', 'ftp.response.code', 'ftp.response.arg', 'ipv6.src', 'ipv6.dst', 'ipv6.plen', 'alert']\n",
      "<class 'pandas.core.frame.DataFrame'>\n",
      "RangeIndex: 1000000 entries, 0 to 999999\n",
      "Data columns (total 74 columns):\n",
      " #   Column                      Non-Null Count    Dtype  \n",
      "---  ------                      --------------    -----  \n",
      " 0   frame.number                1000000 non-null  int64  \n",
      " 1   frame.len                   1000000 non-null  int64  \n",
      " 2   frame.time                  1000000 non-null  object \n",
      " 3   frame.time_epoch            1000000 non-null  float64\n",
      " 4   frame.protocols             1000000 non-null  object \n",
      " 5   eth.src                     1000000 non-null  object \n",
      " 6   eth.dst                     1000000 non-null  object \n",
      " 7   eth.type                    1000000 non-null  object \n",
      " 8   ip.src                      999929 non-null   object \n",
      " 9   ip.dst                      999929 non-null   object \n",
      " 10  ip.len                      999929 non-null   float64\n",
      " 11  ip.ttl                      999929 non-null   float64\n",
      " 12  ip.flags                    999929 non-null   object \n",
      " 13  ip.frag_offset              999929 non-null   float64\n",
      " 14  ip.proto                    999929 non-null   float64\n",
      " 15  ip.version                  999959 non-null   float64\n",
      " 16  ip.dsfield                  999929 non-null   object \n",
      " 17  ip.checksum                 999929 non-null   object \n",
      " 18  tcp.srcport                 998778 non-null   float64\n",
      " 19  tcp.dstport                 998778 non-null   float64\n",
      " 20  tcp.len                     998778 non-null   float64\n",
      " 21  tcp.seq                     998778 non-null   float64\n",
      " 22  tcp.ack                     998778 non-null   float64\n",
      " 23  tcp.flags                   998778 non-null   object \n",
      " 24  tcp.flags.syn               998778 non-null   float64\n",
      " 25  tcp.flags.ack               998778 non-null   float64\n",
      " 26  tcp.flags.fin               998778 non-null   float64\n",
      " 27  tcp.flags.reset             998778 non-null   float64\n",
      " 28  tcp.window_size             998778 non-null   float64\n",
      " 29  tcp.checksum                998778 non-null   object \n",
      " 30  tcp.stream                  998778 non-null   float64\n",
      " 31  udp.srcport                 416 non-null      float64\n",
      " 32  udp.dstport                 416 non-null      float64\n",
      " 33  udp.length                  416 non-null      float64\n",
      " 34  udp.checksum                416 non-null      object \n",
      " 35  icmp.type                   750 non-null      float64\n",
      " 36  icmp.code                   750 non-null      float64\n",
      " 37  icmp.checksum               750 non-null      object \n",
      " 38  http.request.method         319771 non-null   object \n",
      " 39  http.request.uri            319771 non-null   object \n",
      " 40  http.request.version        319771 non-null   object \n",
      " 41  http.request.full_uri       319336 non-null   object \n",
      " 42  http.response.code          319200 non-null   float64\n",
      " 43  http.user_agent             319771 non-null   object \n",
      " 44  http.content_length_header  333432 non-null   object \n",
      " 45  http.content_type           333479 non-null   object \n",
      " 46  http.cookie                 161531 non-null   object \n",
      " 47  http.host                   319298 non-null   object \n",
      " 48  http.referer                161588 non-null   object \n",
      " 49  http.location               7996 non-null     object \n",
      " 50  http.authorization          28 non-null       object \n",
      " 51  http.connection             306617 non-null   object \n",
      " 52  dns.qry.name                366 non-null      object \n",
      " 53  dns.qry.type                366 non-null      float64\n",
      " 54  dns.qry.class               366 non-null      object \n",
      " 55  dns.flags.response          372 non-null      float64\n",
      " 56  dns.flags.recdesired        368 non-null      float64\n",
      " 57  dns.flags.rcode             6 non-null        float64\n",
      " 58  dns.resp.ttl                6 non-null        float64\n",
      " 59  dns.resp.len                6 non-null        float64\n",
      " 60  smtp.req.command            0 non-null        float64\n",
      " 61  smtp.data.fragment          0 non-null        float64\n",
      " 62  pop.request.command         0 non-null        float64\n",
      " 63  pop.response                0 non-null        float64\n",
      " 64  imap.request.command        0 non-null        float64\n",
      " 65  imap.response               0 non-null        float64\n",
      " 66  ftp.request.command         0 non-null        float64\n",
      " 67  ftp.request.arg             0 non-null        float64\n",
      " 68  ftp.response.code           0 non-null        float64\n",
      " 69  ftp.response.arg            0 non-null        float64\n",
      " 70  ipv6.src                    30 non-null       object \n",
      " 71  ipv6.dst                    30 non-null       object \n",
      " 72  ipv6.plen                   30 non-null       float64\n",
      " 73  alert                       1000000 non-null  object \n",
      "dtypes: float64(40), int64(2), object(32)\n",
      "memory usage: 564.6+ MB\n"
     ]
    }
   ],
   "source": [
    "filepath = \"attack-sample.csv\"\n",
    "df = load_data(filepath)"
   ],
   "metadata": {
    "collapsed": false,
    "ExecuteTime": {
     "end_time": "2023-12-03T14:43:54.532233Z",
     "start_time": "2023-12-03T14:43:45.251142Z"
    }
   }
  },
  {
   "cell_type": "markdown",
   "source": [
    "Dataframe shape: (1000000, 74)"
   ],
   "metadata": {
    "collapsed": false
   }
  },
  {
   "cell_type": "code",
   "execution_count": 4,
   "outputs": [
    {
     "name": "stdout",
     "output_type": "stream",
     "text": [
      "   frame.number  frame.len                           frame.time  \\\n",
      "0       1000015        218  Jun  4, 2023 11:33:48.850590000 EDT   \n",
      "1       2765616       1266  Jun  4, 2023 11:46:30.692656000 EDT   \n",
      "2       3975708         66  Jun  4, 2023 11:50:49.274117000 EDT   \n",
      "3       1905266        253  Jun  4, 2023 11:40:13.113264000 EDT   \n",
      "4       2544724       1270  Jun  4, 2023 11:45:50.803925000 EDT   \n",
      "\n",
      "   frame.time_epoch                                frame.protocols  \\\n",
      "0      1.685893e+09                      eth:ethertype:ip:tcp:http   \n",
      "1      1.685894e+09  eth:ethertype:ip:tcp:http:data-text-lines:xml   \n",
      "2      1.685894e+09                           eth:ethertype:ip:tcp   \n",
      "3      1.685893e+09                      eth:ethertype:ip:tcp:http   \n",
      "4      1.685894e+09  eth:ethertype:ip:tcp:http:data-text-lines:xml   \n",
      "\n",
      "             eth.src            eth.dst eth.type        ip.src        ip.dst  \\\n",
      "0  00:0c:29:94:f6:85  00:0c:29:8f:ca:0a   0x0800  10.20.30.103  10.20.30.101   \n",
      "1  00:0c:29:8f:ca:0a  00:0c:29:94:f6:85   0x0800  10.20.30.101  10.20.30.103   \n",
      "2  00:0c:29:94:f6:85  00:0c:29:8f:ca:0a   0x0800  10.20.30.103  10.20.30.101   \n",
      "3  00:0c:29:94:f6:85  00:0c:29:8f:ca:0a   0x0800  10.20.30.103  10.20.30.101   \n",
      "4  00:0c:29:8f:ca:0a  00:0c:29:94:f6:85   0x0800  10.20.30.101  10.20.30.103   \n",
      "\n",
      "   ...  imap.request.command  imap.response ftp.request.command  \\\n",
      "0  ...                   NaN            NaN                 NaN   \n",
      "1  ...                   NaN            NaN                 NaN   \n",
      "2  ...                   NaN            NaN                 NaN   \n",
      "3  ...                   NaN            NaN                 NaN   \n",
      "4  ...                   NaN            NaN                 NaN   \n",
      "\n",
      "   ftp.request.arg  ftp.response.code  ftp.response.arg ipv6.src ipv6.dst  \\\n",
      "0              NaN                NaN               NaN      NaN      NaN   \n",
      "1              NaN                NaN               NaN      NaN      NaN   \n",
      "2              NaN                NaN               NaN      NaN      NaN   \n",
      "3              NaN                NaN               NaN      NaN      NaN   \n",
      "4              NaN                NaN               NaN      NaN      NaN   \n",
      "\n",
      "   ipv6.plen       alert  \n",
      "0        NaN  suspicious  \n",
      "1        NaN  suspicious  \n",
      "2        NaN  suspicious  \n",
      "3        NaN  suspicious  \n",
      "4        NaN  suspicious  \n",
      "\n",
      "[5 rows x 74 columns]\n",
      "Dataset shape: (1000000, 74)\n",
      "Columns: ['frame.number', 'frame.len', 'frame.time', 'frame.time_epoch', 'frame.protocols', 'eth.src', 'eth.dst', 'eth.type', 'ip.src', 'ip.dst', 'ip.len', 'ip.ttl', 'ip.flags', 'ip.frag_offset', 'ip.proto', 'ip.version', 'ip.dsfield', 'ip.checksum', 'tcp.srcport', 'tcp.dstport', 'tcp.len', 'tcp.seq', 'tcp.ack', 'tcp.flags', 'tcp.flags.syn', 'tcp.flags.ack', 'tcp.flags.fin', 'tcp.flags.reset', 'tcp.window_size', 'tcp.checksum', 'tcp.stream', 'udp.srcport', 'udp.dstport', 'udp.length', 'udp.checksum', 'icmp.type', 'icmp.code', 'icmp.checksum', 'http.request.method', 'http.request.uri', 'http.request.version', 'http.request.full_uri', 'http.response.code', 'http.user_agent', 'http.content_length_header', 'http.content_type', 'http.cookie', 'http.host', 'http.referer', 'http.location', 'http.authorization', 'http.connection', 'dns.qry.name', 'dns.qry.type', 'dns.qry.class', 'dns.flags.response', 'dns.flags.recdesired', 'dns.flags.rcode', 'dns.resp.ttl', 'dns.resp.len', 'smtp.req.command', 'smtp.data.fragment', 'pop.request.command', 'pop.response', 'imap.request.command', 'imap.response', 'ftp.request.command', 'ftp.request.arg', 'ftp.response.code', 'ftp.response.arg', 'ipv6.src', 'ipv6.dst', 'ipv6.plen', 'alert']\n"
     ]
    }
   ],
   "source": [
    "# Display the first few rows of the dataset\n",
    "print(df.head(5))"
   ],
   "metadata": {
    "collapsed": false,
    "ExecuteTime": {
     "end_time": "2023-12-03T12:48:00.336747Z",
     "start_time": "2023-12-03T12:48:00.296952Z"
    }
   }
  },
  {
   "cell_type": "markdown",
   "source": [
    "There are lots of NaN values in the dataset. I would like to Calculate the percentage of missing values for each column.\n"
   ],
   "metadata": {
    "collapsed": false
   }
  },
  {
   "cell_type": "code",
   "execution_count": 12,
   "outputs": [
    {
     "name": "stdout",
     "output_type": "stream",
     "text": [
      "0-20% Missing Values: ['ip.src', 'ip.dst', 'ip.len', 'ip.ttl', 'ip.flags', 'ip.frag_offset', 'ip.proto', 'ip.version', 'ip.dsfield', 'ip.checksum', 'tcp.srcport', 'tcp.dstport', 'tcp.len', 'tcp.seq', 'tcp.ack', 'tcp.flags', 'tcp.flags.syn', 'tcp.flags.ack', 'tcp.flags.fin', 'tcp.flags.reset', 'tcp.window_size', 'tcp.checksum', 'tcp.stream']\n",
      "20-40% Missing Values: []\n",
      "40-60% Missing Values: []\n",
      "60-80% Missing Values: ['http.request.method', 'http.request.uri', 'http.request.version', 'http.request.full_uri', 'http.response.code', 'http.user_agent', 'http.content_length_header', 'http.content_type', 'http.host', 'http.connection']\n",
      "80-100% Missing Values: ['udp.srcport', 'udp.dstport', 'udp.length', 'udp.checksum', 'icmp.type', 'icmp.code', 'icmp.checksum', 'http.cookie', 'http.referer', 'http.location', 'http.authorization', 'dns.qry.name', 'dns.qry.type', 'dns.qry.class', 'dns.flags.response', 'dns.flags.recdesired', 'dns.flags.rcode', 'dns.resp.ttl', 'dns.resp.len', 'smtp.req.command', 'smtp.data.fragment', 'pop.request.command', 'pop.response', 'imap.request.command', 'imap.response', 'ftp.request.command', 'ftp.request.arg', 'ftp.response.code', 'ftp.response.arg', 'ipv6.src', 'ipv6.dst', 'ipv6.plen']\n"
     ]
    }
   ],
   "source": [
    "missing_percentage = df.isnull().sum() * 100 / len(df)\n",
    "\n",
    "# Categorize columns based on missing value percentages\n",
    "missing_categories = {\n",
    "    \"0-20%\": missing_percentage[(missing_percentage > 0) & (missing_percentage <= 20)].index.tolist(),\n",
    "    \"20-40%\": missing_percentage[(missing_percentage > 20) & (missing_percentage <= 40)].index.tolist(),\n",
    "    \"40-60%\": missing_percentage[(missing_percentage > 40) & (missing_percentage <= 60)].index.tolist(),\n",
    "    \"60-80%\": missing_percentage[(missing_percentage > 60) & (missing_percentage <= 80)].index.tolist(),\n",
    "    \"80-100%\": missing_percentage[(missing_percentage > 80) & (missing_percentage <= 100)].index.tolist()\n",
    "}\n",
    "\n",
    "# Print out the categorized lists\n",
    "for category, features in missing_categories.items():\n",
    "    print(f\"{category} Missing Values: {features}\")"
   ],
   "metadata": {
    "collapsed": false,
    "ExecuteTime": {
     "end_time": "2023-12-03T13:23:39.960462Z",
     "start_time": "2023-12-03T13:23:39.048219Z"
    }
   }
  },
  {
   "cell_type": "markdown",
   "source": [
    "The sample has more TCP packets than the UDP:\n",
    "\n",
    "- 0-20% Missing Values --> these are the common features for each packet (Layer 3 of the OSI Network layer). In other words, each packet has all/the majority of these features regardless of the application protocol (HTTP, DNS,POP3, SMTP,..)\n",
    "- 60-80% Missing Values --> These are http related, meaning the majprity of packets are not related to the http protocol\n",
    "- 80-100% Missing Values --> these are udp, DNS, pop, imap,smtp related and one packet cannot have values for all of these.\n",
    "\n",
    "TCP vs. UDP: If a packet is a TCP packet, it won't have UDP-specific features and vice versa. Hence, the missing values in these cases aren't really 'missing' in the traditional sense; they're simply not applicable."
   ],
   "metadata": {
    "collapsed": false
   }
  },
  {
   "cell_type": "code",
   "execution_count": 36,
   "outputs": [
    {
     "name": "stdout",
     "output_type": "stream",
     "text": [
      "Number of rows with both UDP and TCP source ports set: 0\n",
      "Number of rows with both TCP and UDP source ports null: 806\n",
      "Number of rows with non-null UDP source port: 416\n",
      "Number of rows with non-null TCP source port: 998778\n"
     ]
    }
   ],
   "source": [
    "# I would like to now gain more insight about the tcp and udp proportion in the df\n",
    "# Check for rows where both udp.srcport and tcp.srcport are non-null\n",
    "both_set = df[(df['udp.srcport'].notnull()) & (df['tcp.srcport'].notnull())]\n",
    "print(f\"Number of rows with both UDP and TCP source ports set: {len(both_set)}\")\n",
    "\n",
    "both_null_count = df[(df['udp.srcport'].isnull()) & (df['tcp.srcport'].isnull())].shape[0]\n",
    "print(f\"Number of rows with both TCP and UDP source ports null: {both_null_count}\")\n",
    "\n",
    "# Count of non-null values in udp.srcport\n",
    "udp_srcport_count = df['udp.srcport'].notnull().sum()\n",
    "\n",
    "# Count of non-null values in tcp.srcport\n",
    "tcp_srcport_count = df['tcp.srcport'].notnull().sum()\n",
    "\n",
    "# Print the counts\n",
    "print(f\"Number of rows with non-null UDP source port: {udp_srcport_count}\")\n",
    "print(f\"Number of rows with non-null TCP source port: {tcp_srcport_count}\")"
   ],
   "metadata": {
    "collapsed": false,
    "ExecuteTime": {
     "end_time": "2023-12-03T18:45:40.278020Z",
     "start_time": "2023-12-03T18:45:40.226050Z"
    }
   }
  },
  {
   "cell_type": "markdown",
   "source": [
    "There is a feature called \"frame.protocols\" which has the list of all protocols used in the packet. I'd like to see the variety of protocols in the dataset. To visualize the frame.protocols feature from the dataset as a histogram, I first need to break down these lists into individual protocols and then count their occurrences."
   ],
   "metadata": {
    "collapsed": false
   }
  },
  {
   "cell_type": "code",
   "execution_count": 37,
   "outputs": [],
   "source": [
    "# Split the 'frame.protocols' entries into individual protocols and stack them\n",
    "protocols = df['frame.protocols'].str.split(':', expand=True).stack()\n",
    "\n",
    "# Count the occurrences of each protocol\n",
    "protocol_counts = protocols.value_counts()"
   ],
   "metadata": {
    "collapsed": false,
    "ExecuteTime": {
     "end_time": "2023-12-03T18:50:01.728625Z",
     "start_time": "2023-12-03T18:49:57.922211Z"
    }
   }
  },
  {
   "cell_type": "markdown",
   "source": [
    "Now, visualize the protocol counts using a histogram or a bar chart."
   ],
   "metadata": {
    "collapsed": false
   }
  },
  {
   "cell_type": "code",
   "execution_count": 38,
   "outputs": [
    {
     "data": {
      "text/plain": "<Figure size 1200x600 with 1 Axes>",
      "image/png": "[encoded data removed]"
     },
     "metadata": {},
     "output_type": "display_data"
    }
   ],
   "source": [
    "import matplotlib.pyplot as plt\n",
    "\n",
    "# Plotting\n",
    "plt.figure(figsize=(12, 6))\n",
    "protocol_counts.plot(kind='bar')\n",
    "# Format y-axis to show actual numbers\n",
    "plt.title('Histogram of Protocols')\n",
    "plt.xlabel('Protocol')\n",
    "plt.ylabel('Count')\n",
    "# plt.xticks(rotation=45)\n",
    "plt.show()\n"
   ],
   "metadata": {
    "collapsed": false,
    "ExecuteTime": {
     "end_time": "2023-12-03T18:50:47.622756Z",
     "start_time": "2023-12-03T18:50:47.151414Z"
    }
   }
  },
  {
   "cell_type": "code",
   "execution_count": 39,
   "outputs": [
    {
     "name": "stdout",
     "output_type": "stream",
     "text": [
      "eth                1000000\n",
      "ethertype          1000000\n",
      "ip                  999929\n",
      "tcp                 998778\n",
      "http                638981\n",
      "data-text-lines     309996\n",
      "xml                  86692\n",
      "urlencoded-form      13779\n",
      "data                   805\n",
      "icmp                   750\n",
      "Name: count, dtype: int64\n"
     ]
    }
   ],
   "source": [
    "# Print the top 10 protocols with their counts\n",
    "print(protocol_counts.head(10))"
   ],
   "metadata": {
    "collapsed": false,
    "ExecuteTime": {
     "end_time": "2023-12-03T18:51:52.750658Z",
     "start_time": "2023-12-03T18:51:52.678812Z"
    }
   }
  },
  {
   "cell_type": "markdown",
   "source": [
    "At this stage I would like to simplify the problem as much as I can. Due to my domain knowledge and considering the insight I have got from the dataset, I will be choosing tcp-related features listed below:\n",
    "- tcp.flags.syn\n",
    "- tcp.window_size\n",
    "- tcp.len\n",
    "- tcp.srcport\n",
    "- tcp.dstport\n",
    "\n",
    "and as long as my model gives me 50% of accuracy,\n",
    "I'm glad. I can always come back and use more features."
   ],
   "metadata": {
    "collapsed": false
   }
  },
  {
   "cell_type": "code",
   "execution_count": 46,
   "outputs": [],
   "source": [
    "columns_to_keep = ['tcp.srcport', 'tcp.dstport','tcp.len', 'tcp.window_size', 'tcp.flags.syn'  ]\n",
    "df = df[columns_to_keep]"
   ],
   "metadata": {
    "collapsed": false,
    "ExecuteTime": {
     "end_time": "2023-12-03T19:34:22.311403Z",
     "start_time": "2023-12-03T19:34:22.263231Z"
    }
   }
  },
  {
   "cell_type": "code",
   "execution_count": 47,
   "outputs": [
    {
     "data": {
      "text/plain": "(1000000, 5)"
     },
     "execution_count": 47,
     "metadata": {},
     "output_type": "execute_result"
    }
   ],
   "source": [
    "df.shape"
   ],
   "metadata": {
    "collapsed": false,
    "ExecuteTime": {
     "end_time": "2023-12-03T19:34:38.988181Z",
     "start_time": "2023-12-03T19:34:38.950357Z"
    }
   }
  },
  {
   "cell_type": "code",
   "execution_count": 49,
   "outputs": [
    {
     "data": {
      "text/plain": "['df_chosen_features.csv']"
     },
     "execution_count": 49,
     "metadata": {},
     "output_type": "execute_result"
    }
   ],
   "source": [
    "import joblib\n",
    "joblib.dump(df,'df_chosen_features.csv')"
   ],
   "metadata": {
    "collapsed": false,
    "ExecuteTime": {
     "end_time": "2023-12-03T19:41:36.027229Z",
     "start_time": "2023-12-03T19:41:35.964017Z"
    }
   }
  },
  {
   "cell_type": "code",
   "execution_count": null,
   "outputs": [],
   "source": [],
   "metadata": {
    "collapsed": false
   }
  }
 ],
 "metadata": {
  "kernelspec": {
   "display_name": "Python 3",
   "language": "python",
   "name": "python3"
  },
  "language_info": {
   "codemirror_mode": {
    "name": "ipython",
    "version": 2
   },
   "file_extension": ".py",
   "mimetype": "text/x-python",
   "name": "python",
   "nbconvert_exporter": "python",
   "pygments_lexer": "ipython2",
   "version": "2.7.6"
  }
 },
 "nbformat": 4,
 "nbformat_minor": 0
}
