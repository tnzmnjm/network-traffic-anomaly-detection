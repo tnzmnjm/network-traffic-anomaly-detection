{
 "cells": [
  {
   "cell_type": "code",
   "execution_count": 1,
   "metadata": {
    "collapsed": true,
    "ExecuteTime": {
     "end_time": "2023-12-21T11:29:44.038473Z",
     "start_time": "2023-12-21T11:29:43.156986Z"
    }
   },
   "outputs": [],
   "source": [
    "import pandas as pd\n",
    "import numpy as np\n",
    "import plotly.express as px\n",
    "import matplotlib.pyplot as plt"
   ]
  },
  {
   "cell_type": "code",
   "execution_count": 2,
   "outputs": [],
   "source": [
    "def convert_to_int(x):\n",
    "    try:\n",
    "        if isinstance(x, str) or isinstance(x, float):\n",
    "            return int(x)\n",
    "        else:\n",
    "            return x\n",
    "    except ValueError:\n",
    "        return x"
   ],
   "metadata": {
    "collapsed": false,
    "ExecuteTime": {
     "end_time": "2023-12-21T11:29:46.100818Z",
     "start_time": "2023-12-21T11:29:46.090604Z"
    }
   }
  },
  {
   "cell_type": "code",
   "execution_count": 3,
   "outputs": [
    {
     "name": "stderr",
     "output_type": "stream",
     "text": [
      "/tmp/ipykernel_601512/2804803071.py:8: DtypeWarning: Columns (0,1,3,10,11,13,14,15,18,19,20,21,22,24,25,26,27,28,30,31,32,33,34,35,36,37,42,44,50,52,53,54,55,56,57,58,59,60,61,62,63,64,65,66,67,68,69,70,71,72) have mixed types. Specify dtype option on import or set low_memory=False.\n",
      "  df = pd.read_csv('../attack-sample-3m.csv')\n"
     ]
    }
   ],
   "source": [
    "# I would like to add more features. I will be focusing on tcp.seq :\n",
    "# 1. Large, unexplained jumps in TCP sequence numbers can indicate packet loss or reordering. This might happen due to network congestion, faulty hardware, or malicious activities disrupting normal traffic flow.\n",
    "# 2. If we observe packets with the same sequence number but different payload data, it could be indicative of a session hijacking attack or man-in-the-middle attack, where an attacker is trying to inject malicious packets into a legitimate TCP stream.\n",
    "# 3. Patterns like regular gaps or strange distributions in sequence numbers might suggest an attacker is trying to infer the state of a TCP session or manipulate TCP traffic.\n",
    "# 4. Anomalous sequence number patterns can also be associated with port scanning activities, where attackers send TCP packets to various ports to discover services they can exploit.\n",
    "# 5. In a SYN flooding attack, attackers exploit the TCP handshake mechanism by sending a large number of SYN packets with spoofed IP addresses. An unusual pattern in sequence numbers, combined with a high volume of SYN packets, could indicate such an attack.\n",
    "# 6. RST packets with sequence numbers that don't align with the expected flow of the ongoing TCP session might be an attempt to prematurely close a TCP connection, potentially indicating a denial-of-service attack or other malicious disruptions.\n",
    "df = pd.read_csv('../attack-sample-3m.csv')"
   ],
   "metadata": {
    "collapsed": false,
    "ExecuteTime": {
     "end_time": "2023-12-21T11:30:15.880951Z",
     "start_time": "2023-12-21T11:29:55.518388Z"
    }
   }
  },
  {
   "cell_type": "code",
   "execution_count": 6,
   "outputs": [
    {
     "data": {
      "text/plain": "Index(['frame.number', 'frame.len', 'frame.time', 'frame.time_epoch',\n       'frame.protocols', 'eth.src', 'eth.dst', 'eth.type', 'ip.src', 'ip.dst',\n       'ip.len', 'ip.ttl', 'ip.flags', 'ip.frag_offset', 'ip.proto',\n       'ip.version', 'ip.dsfield', 'ip.checksum', 'tcp.srcport', 'tcp.dstport',\n       'tcp.len', 'tcp.seq', 'tcp.ack', 'tcp.flags', 'tcp.flags.syn',\n       'tcp.flags.ack', 'tcp.flags.fin', 'tcp.flags.reset', 'tcp.window_size',\n       'tcp.checksum', 'tcp.stream', 'udp.srcport', 'udp.dstport',\n       'udp.length', 'udp.checksum', 'icmp.type', 'icmp.code', 'icmp.checksum',\n       'http.request.method', 'http.request.uri', 'http.request.version',\n       'http.request.full_uri', 'http.response.code', 'http.user_agent',\n       'http.content_length_header', 'http.content_type', 'http.cookie',\n       'http.host', 'http.referer', 'http.location', 'http.authorization',\n       'http.connection', 'dns.qry.name', 'dns.qry.type', 'dns.qry.class',\n       'dns.flags.response', 'dns.flags.recdesired', 'dns.flags.rcode',\n       'dns.resp.ttl', 'dns.resp.len', 'smtp.req.command',\n       'smtp.data.fragment', 'pop.request.command', 'pop.response',\n       'imap.request.command', 'imap.response', 'ftp.request.command',\n       'ftp.request.arg', 'ftp.response.code', 'ftp.response.arg', 'ipv6.src',\n       'ipv6.dst', 'ipv6.plen', 'alert'],\n      dtype='object')"
     },
     "execution_count": 6,
     "metadata": {},
     "output_type": "execute_result"
    }
   ],
   "source": [
    "df.columns"
   ],
   "metadata": {
    "collapsed": false,
    "ExecuteTime": {
     "end_time": "2023-12-20T18:57:22.012453Z",
     "start_time": "2023-12-20T18:57:21.978615Z"
    }
   }
  },
  {
   "cell_type": "code",
   "execution_count": 4,
   "outputs": [],
   "source": [
    "columns_to_keep = ['frame.number', 'frame.time', 'frame.protocols', 'tcp.seq', 'tcp.stream', 'tcp.srcport','tcp.dstport', 'udp.srcport', 'udp.dstport', 'tcp.flags.syn', 'tcp.flags.reset', 'ip.src', 'ip.dst', 'alert']"
   ],
   "metadata": {
    "collapsed": false,
    "ExecuteTime": {
     "end_time": "2023-12-21T11:30:32.392592Z",
     "start_time": "2023-12-21T11:30:32.383090Z"
    }
   }
  },
  {
   "cell_type": "code",
   "execution_count": 5,
   "outputs": [
    {
     "data": {
      "text/plain": "(3000000, 14)"
     },
     "execution_count": 5,
     "metadata": {},
     "output_type": "execute_result"
    }
   ],
   "source": [
    "df = df[columns_to_keep]\n",
    "df.shape"
   ],
   "metadata": {
    "collapsed": false,
    "ExecuteTime": {
     "end_time": "2023-12-21T11:30:38.744820Z",
     "start_time": "2023-12-21T11:30:36.893277Z"
    }
   }
  },
  {
   "cell_type": "code",
   "execution_count": 9,
   "outputs": [
    {
     "name": "stdout",
     "output_type": "stream",
     "text": [
      "<class 'pandas.core.series.Series'>\n",
      "RangeIndex: 3000000 entries, 0 to 2999999\n",
      "Series name: tcp.seq\n",
      "Non-Null Count    Dtype \n",
      "--------------    ----- \n",
      "2996269 non-null  object\n",
      "dtypes: object(1)\n",
      "memory usage: 22.9+ MB\n"
     ]
    }
   ],
   "source": [
    "df['tcp.seq'].info()"
   ],
   "metadata": {
    "collapsed": false,
    "ExecuteTime": {
     "end_time": "2023-12-20T18:57:28.798379Z",
     "start_time": "2023-12-20T18:57:28.730914Z"
    }
   }
  },
  {
   "cell_type": "code",
   "execution_count": 12,
   "outputs": [
    {
     "data": {
      "text/plain": "        frame.number                           frame.time  \\\n2039808      5025081  Jun  4, 2023 11:54:48.903692000 EDT   \n2039809      3374184  Jun  4, 2023 11:48:50.351842000 EDT   \n2039810      3137260  Jun  4, 2023 11:48:00.518732000 EDT   \n2039811      1295432  Jun  4, 2023 11:35:55.144273000 EDT   \n2039812      4616984  Jun  4, 2023 11:52:59.232568000 EDT   \n...              ...                                  ...   \n2047995      1127451  Jun  4, 2023 11:34:42.752891000 EDT   \n2047996      5347165  Jun  4, 2023 12:08:21.131228000 EDT   \n2047997       900431  Jun  4, 2023 11:33:08.888339000 EDT   \n2047998      4676276  Jun  4, 2023 11:53:13.465266000 EDT   \n2047999      3748802  Jun  4, 2023 11:50:04.115721000 EDT   \n\n                                   frame.protocols tcp.seq tcp.stream  \\\n2039808                  eth:ethertype:ip:tcp:http    9681      89649   \n2039809                  eth:ethertype:ip:tcp:http   14443      82366   \n2039810                       eth:ethertype:ip:tcp    6283      81239   \n2039811                  eth:ethertype:ip:tcp:http    9331      73352   \n2039812                  eth:ethertype:ip:tcp:http   25165      87610   \n...                                            ...     ...        ...   \n2047995                  eth:ethertype:ip:tcp:http   11587      72529   \n2047996                       eth:ethertype:ip:tcp   86062      91192   \n2047997  eth:ethertype:ip:tcp:http:data-text-lines   28668      71419   \n2047998  eth:ethertype:ip:tcp:http:data-text-lines   95067      87980   \n2047999                       eth:ethertype:ip:tcp     317      83792   \n\n        tcp.srcport tcp.dstport udp.srcport udp.dstport tcp.flags.syn  \\\n2039808       59544          80         NaN         NaN             0   \n2039809       40352          80         NaN         NaN             0   \n2039810       56466          80         NaN         NaN             0   \n2039811       57504          80         NaN         NaN             0   \n2039812       40900          80         NaN         NaN             0   \n...             ...         ...         ...         ...           ...   \n2047995       45090          80         NaN         NaN             0   \n2047996          80       58622         NaN         NaN             0   \n2047997          80       57996         NaN         NaN             0   \n2047998          80       42164         NaN         NaN             0   \n2047999       41436          80         NaN         NaN             0   \n\n        tcp.flags.reset        ip.src        ip.dst  \n2039808               0  10.20.30.103  10.20.30.101  \n2039809               0  10.20.30.103  10.20.30.101  \n2039810               0  10.20.30.103  10.20.30.101  \n2039811               0  10.20.30.103  10.20.30.101  \n2039812               0  10.20.30.103  10.20.30.101  \n...                 ...           ...           ...  \n2047995               0  10.20.30.103  10.20.30.101  \n2047996               0  10.20.30.101  10.20.30.103  \n2047997               0  10.20.30.101  10.20.30.103  \n2047998               0  10.20.30.101  10.20.30.103  \n2047999               0  10.20.30.103  10.20.30.101  \n\n[8186 rows x 13 columns]",
      "text/html": "<div>\n<style scoped>\n    .dataframe tbody tr th:only-of-type {\n        vertical-align: middle;\n    }\n\n    .dataframe tbody tr th {\n        vertical-align: top;\n    }\n\n    .dataframe thead th {\n        text-align: right;\n    }\n</style>\n<table border=\"1\" class=\"dataframe\">\n  <thead>\n    <tr style=\"text-align: right;\">\n      <th></th>\n      <th>frame.number</th>\n      <th>frame.time</th>\n      <th>frame.protocols</th>\n      <th>tcp.seq</th>\n      <th>tcp.stream</th>\n      <th>tcp.srcport</th>\n      <th>tcp.dstport</th>\n      <th>udp.srcport</th>\n      <th>udp.dstport</th>\n      <th>tcp.flags.syn</th>\n      <th>tcp.flags.reset</th>\n      <th>ip.src</th>\n      <th>ip.dst</th>\n    </tr>\n  </thead>\n  <tbody>\n    <tr>\n      <th>2039808</th>\n      <td>5025081</td>\n      <td>Jun  4, 2023 11:54:48.903692000 EDT</td>\n      <td>eth:ethertype:ip:tcp:http</td>\n      <td>9681</td>\n      <td>89649</td>\n      <td>59544</td>\n      <td>80</td>\n      <td>NaN</td>\n      <td>NaN</td>\n      <td>0</td>\n      <td>0</td>\n      <td>10.20.30.103</td>\n      <td>10.20.30.101</td>\n    </tr>\n    <tr>\n      <th>2039809</th>\n      <td>3374184</td>\n      <td>Jun  4, 2023 11:48:50.351842000 EDT</td>\n      <td>eth:ethertype:ip:tcp:http</td>\n      <td>14443</td>\n      <td>82366</td>\n      <td>40352</td>\n      <td>80</td>\n      <td>NaN</td>\n      <td>NaN</td>\n      <td>0</td>\n      <td>0</td>\n      <td>10.20.30.103</td>\n      <td>10.20.30.101</td>\n    </tr>\n    <tr>\n      <th>2039810</th>\n      <td>3137260</td>\n      <td>Jun  4, 2023 11:48:00.518732000 EDT</td>\n      <td>eth:ethertype:ip:tcp</td>\n      <td>6283</td>\n      <td>81239</td>\n      <td>56466</td>\n      <td>80</td>\n      <td>NaN</td>\n      <td>NaN</td>\n      <td>0</td>\n      <td>0</td>\n      <td>10.20.30.103</td>\n      <td>10.20.30.101</td>\n    </tr>\n    <tr>\n      <th>2039811</th>\n      <td>1295432</td>\n      <td>Jun  4, 2023 11:35:55.144273000 EDT</td>\n      <td>eth:ethertype:ip:tcp:http</td>\n      <td>9331</td>\n      <td>73352</td>\n      <td>57504</td>\n      <td>80</td>\n      <td>NaN</td>\n      <td>NaN</td>\n      <td>0</td>\n      <td>0</td>\n      <td>10.20.30.103</td>\n      <td>10.20.30.101</td>\n    </tr>\n    <tr>\n      <th>2039812</th>\n      <td>4616984</td>\n      <td>Jun  4, 2023 11:52:59.232568000 EDT</td>\n      <td>eth:ethertype:ip:tcp:http</td>\n      <td>25165</td>\n      <td>87610</td>\n      <td>40900</td>\n      <td>80</td>\n      <td>NaN</td>\n      <td>NaN</td>\n      <td>0</td>\n      <td>0</td>\n      <td>10.20.30.103</td>\n      <td>10.20.30.101</td>\n    </tr>\n    <tr>\n      <th>...</th>\n      <td>...</td>\n      <td>...</td>\n      <td>...</td>\n      <td>...</td>\n      <td>...</td>\n      <td>...</td>\n      <td>...</td>\n      <td>...</td>\n      <td>...</td>\n      <td>...</td>\n      <td>...</td>\n      <td>...</td>\n      <td>...</td>\n    </tr>\n    <tr>\n      <th>2047995</th>\n      <td>1127451</td>\n      <td>Jun  4, 2023 11:34:42.752891000 EDT</td>\n      <td>eth:ethertype:ip:tcp:http</td>\n      <td>11587</td>\n      <td>72529</td>\n      <td>45090</td>\n      <td>80</td>\n      <td>NaN</td>\n      <td>NaN</td>\n      <td>0</td>\n      <td>0</td>\n      <td>10.20.30.103</td>\n      <td>10.20.30.101</td>\n    </tr>\n    <tr>\n      <th>2047996</th>\n      <td>5347165</td>\n      <td>Jun  4, 2023 12:08:21.131228000 EDT</td>\n      <td>eth:ethertype:ip:tcp</td>\n      <td>86062</td>\n      <td>91192</td>\n      <td>80</td>\n      <td>58622</td>\n      <td>NaN</td>\n      <td>NaN</td>\n      <td>0</td>\n      <td>0</td>\n      <td>10.20.30.101</td>\n      <td>10.20.30.103</td>\n    </tr>\n    <tr>\n      <th>2047997</th>\n      <td>900431</td>\n      <td>Jun  4, 2023 11:33:08.888339000 EDT</td>\n      <td>eth:ethertype:ip:tcp:http:data-text-lines</td>\n      <td>28668</td>\n      <td>71419</td>\n      <td>80</td>\n      <td>57996</td>\n      <td>NaN</td>\n      <td>NaN</td>\n      <td>0</td>\n      <td>0</td>\n      <td>10.20.30.101</td>\n      <td>10.20.30.103</td>\n    </tr>\n    <tr>\n      <th>2047998</th>\n      <td>4676276</td>\n      <td>Jun  4, 2023 11:53:13.465266000 EDT</td>\n      <td>eth:ethertype:ip:tcp:http:data-text-lines</td>\n      <td>95067</td>\n      <td>87980</td>\n      <td>80</td>\n      <td>42164</td>\n      <td>NaN</td>\n      <td>NaN</td>\n      <td>0</td>\n      <td>0</td>\n      <td>10.20.30.101</td>\n      <td>10.20.30.103</td>\n    </tr>\n    <tr>\n      <th>2047999</th>\n      <td>3748802</td>\n      <td>Jun  4, 2023 11:50:04.115721000 EDT</td>\n      <td>eth:ethertype:ip:tcp</td>\n      <td>317</td>\n      <td>83792</td>\n      <td>41436</td>\n      <td>80</td>\n      <td>NaN</td>\n      <td>NaN</td>\n      <td>0</td>\n      <td>0</td>\n      <td>10.20.30.103</td>\n      <td>10.20.30.101</td>\n    </tr>\n  </tbody>\n</table>\n<p>8186 rows × 13 columns</p>\n</div>"
     },
     "execution_count": 12,
     "metadata": {},
     "output_type": "execute_result"
    }
   ],
   "source": [
    "df.loc[df['tcp.seq'].apply(lambda x: not isinstance(x, float))]"
   ],
   "metadata": {
    "collapsed": false,
    "ExecuteTime": {
     "end_time": "2023-12-20T18:57:36.176891Z",
     "start_time": "2023-12-20T18:57:35.768779Z"
    }
   }
  },
  {
   "cell_type": "markdown",
   "source": [],
   "metadata": {
    "collapsed": false
   }
  },
  {
   "cell_type": "code",
   "execution_count": 6,
   "outputs": [],
   "source": [
    "df['tcp.seq'] = df['tcp.seq'].apply(convert_to_int)"
   ],
   "metadata": {
    "collapsed": false,
    "ExecuteTime": {
     "end_time": "2023-12-21T11:31:50.501110Z",
     "start_time": "2023-12-21T11:31:49.557635Z"
    }
   }
  },
  {
   "cell_type": "code",
   "execution_count": 14,
   "outputs": [
    {
     "data": {
      "text/plain": "        frame.number                           frame.time  \\\n2            6220814  Jun  4, 2023 12:49:03.684361000 EDT   \n821          5660535  Jun  4, 2023 12:31:19.537102000 EDT   \n2943         5302458  Jun  4, 2023 12:03:54.649791000 EDT   \n3480         5613249  Jun  4, 2023 12:27:47.429178000 EDT   \n3614         6053987  Jun  4, 2023 12:43:18.556629000 EDT   \n...              ...                                  ...   \n2992803      5310352  Jun  4, 2023 12:04:43.218403000 EDT   \n2993072      5814079  Jun  4, 2023 12:32:52.456929000 EDT   \n2996716      5958091  Jun  4, 2023 12:33:44.468790000 EDT   \n2998023      5568365  Jun  4, 2023 12:24:22.385555000 EDT   \n2998323      6055424  Jun  4, 2023 12:43:33.370702000 EDT   \n\n                    frame.protocols tcp.seq tcp.stream tcp.srcport  \\\n2          eth:ethertype:ip:udp:dns     NaN        NaN         NaN   \n821        eth:ethertype:ip:udp:dns     NaN        NaN         NaN   \n2943       eth:ethertype:ip:udp:dns     NaN        NaN         NaN   \n3480       eth:ethertype:ip:udp:dns     NaN        NaN         NaN   \n3614     eth:ethertype:ip:icmp:data     NaN        NaN         NaN   \n...                             ...     ...        ...         ...   \n2992803    eth:ethertype:ip:udp:dns     NaN        NaN         NaN   \n2993072  eth:ethertype:ip:icmp:data     NaN        NaN         NaN   \n2996716  eth:ethertype:ip:icmp:data     NaN        NaN         NaN   \n2998023  eth:ethertype:ip:icmp:data     NaN        NaN         NaN   \n2998323    eth:ethertype:ip:udp:dns     NaN        NaN         NaN   \n\n        tcp.dstport udp.srcport udp.dstport tcp.flags.syn tcp.flags.reset  \\\n2               NaN     43998.0        53.0           NaN             NaN   \n821             NaN     37982.0        53.0           NaN             NaN   \n2943            NaN     44776.0        53.0           NaN             NaN   \n3480            NaN     39117.0        53.0           NaN             NaN   \n3614            NaN         NaN         NaN           NaN             NaN   \n...             ...         ...         ...           ...             ...   \n2992803         NaN     58316.0        53.0           NaN             NaN   \n2993072         NaN         NaN         NaN           NaN             NaN   \n2996716         NaN         NaN         NaN           NaN             NaN   \n2998023         NaN         NaN         NaN           NaN             NaN   \n2998323         NaN     38632.0        53.0           NaN             NaN   \n\n               ip.src        ip.dst  \n2        10.20.30.103    10.20.30.1  \n821      10.20.30.103    10.20.30.1  \n2943     10.20.30.103    10.20.30.1  \n3480     10.20.30.103    10.20.30.1  \n3614     10.20.30.103  10.20.30.101  \n...               ...           ...  \n2992803  10.20.30.103    10.20.30.1  \n2993072  10.20.30.101  10.20.30.103  \n2996716  10.20.30.103  10.20.30.101  \n2998023  10.20.30.103  10.20.30.101  \n2998323  10.20.30.103    10.20.30.1  \n\n[3732 rows x 13 columns]",
      "text/html": "<div>\n<style scoped>\n    .dataframe tbody tr th:only-of-type {\n        vertical-align: middle;\n    }\n\n    .dataframe tbody tr th {\n        vertical-align: top;\n    }\n\n    .dataframe thead th {\n        text-align: right;\n    }\n</style>\n<table border=\"1\" class=\"dataframe\">\n  <thead>\n    <tr style=\"text-align: right;\">\n      <th></th>\n      <th>frame.number</th>\n      <th>frame.time</th>\n      <th>frame.protocols</th>\n      <th>tcp.seq</th>\n      <th>tcp.stream</th>\n      <th>tcp.srcport</th>\n      <th>tcp.dstport</th>\n      <th>udp.srcport</th>\n      <th>udp.dstport</th>\n      <th>tcp.flags.syn</th>\n      <th>tcp.flags.reset</th>\n      <th>ip.src</th>\n      <th>ip.dst</th>\n    </tr>\n  </thead>\n  <tbody>\n    <tr>\n      <th>2</th>\n      <td>6220814</td>\n      <td>Jun  4, 2023 12:49:03.684361000 EDT</td>\n      <td>eth:ethertype:ip:udp:dns</td>\n      <td>NaN</td>\n      <td>NaN</td>\n      <td>NaN</td>\n      <td>NaN</td>\n      <td>43998.0</td>\n      <td>53.0</td>\n      <td>NaN</td>\n      <td>NaN</td>\n      <td>10.20.30.103</td>\n      <td>10.20.30.1</td>\n    </tr>\n    <tr>\n      <th>821</th>\n      <td>5660535</td>\n      <td>Jun  4, 2023 12:31:19.537102000 EDT</td>\n      <td>eth:ethertype:ip:udp:dns</td>\n      <td>NaN</td>\n      <td>NaN</td>\n      <td>NaN</td>\n      <td>NaN</td>\n      <td>37982.0</td>\n      <td>53.0</td>\n      <td>NaN</td>\n      <td>NaN</td>\n      <td>10.20.30.103</td>\n      <td>10.20.30.1</td>\n    </tr>\n    <tr>\n      <th>2943</th>\n      <td>5302458</td>\n      <td>Jun  4, 2023 12:03:54.649791000 EDT</td>\n      <td>eth:ethertype:ip:udp:dns</td>\n      <td>NaN</td>\n      <td>NaN</td>\n      <td>NaN</td>\n      <td>NaN</td>\n      <td>44776.0</td>\n      <td>53.0</td>\n      <td>NaN</td>\n      <td>NaN</td>\n      <td>10.20.30.103</td>\n      <td>10.20.30.1</td>\n    </tr>\n    <tr>\n      <th>3480</th>\n      <td>5613249</td>\n      <td>Jun  4, 2023 12:27:47.429178000 EDT</td>\n      <td>eth:ethertype:ip:udp:dns</td>\n      <td>NaN</td>\n      <td>NaN</td>\n      <td>NaN</td>\n      <td>NaN</td>\n      <td>39117.0</td>\n      <td>53.0</td>\n      <td>NaN</td>\n      <td>NaN</td>\n      <td>10.20.30.103</td>\n      <td>10.20.30.1</td>\n    </tr>\n    <tr>\n      <th>3614</th>\n      <td>6053987</td>\n      <td>Jun  4, 2023 12:43:18.556629000 EDT</td>\n      <td>eth:ethertype:ip:icmp:data</td>\n      <td>NaN</td>\n      <td>NaN</td>\n      <td>NaN</td>\n      <td>NaN</td>\n      <td>NaN</td>\n      <td>NaN</td>\n      <td>NaN</td>\n      <td>NaN</td>\n      <td>10.20.30.103</td>\n      <td>10.20.30.101</td>\n    </tr>\n    <tr>\n      <th>...</th>\n      <td>...</td>\n      <td>...</td>\n      <td>...</td>\n      <td>...</td>\n      <td>...</td>\n      <td>...</td>\n      <td>...</td>\n      <td>...</td>\n      <td>...</td>\n      <td>...</td>\n      <td>...</td>\n      <td>...</td>\n      <td>...</td>\n    </tr>\n    <tr>\n      <th>2992803</th>\n      <td>5310352</td>\n      <td>Jun  4, 2023 12:04:43.218403000 EDT</td>\n      <td>eth:ethertype:ip:udp:dns</td>\n      <td>NaN</td>\n      <td>NaN</td>\n      <td>NaN</td>\n      <td>NaN</td>\n      <td>58316.0</td>\n      <td>53.0</td>\n      <td>NaN</td>\n      <td>NaN</td>\n      <td>10.20.30.103</td>\n      <td>10.20.30.1</td>\n    </tr>\n    <tr>\n      <th>2993072</th>\n      <td>5814079</td>\n      <td>Jun  4, 2023 12:32:52.456929000 EDT</td>\n      <td>eth:ethertype:ip:icmp:data</td>\n      <td>NaN</td>\n      <td>NaN</td>\n      <td>NaN</td>\n      <td>NaN</td>\n      <td>NaN</td>\n      <td>NaN</td>\n      <td>NaN</td>\n      <td>NaN</td>\n      <td>10.20.30.101</td>\n      <td>10.20.30.103</td>\n    </tr>\n    <tr>\n      <th>2996716</th>\n      <td>5958091</td>\n      <td>Jun  4, 2023 12:33:44.468790000 EDT</td>\n      <td>eth:ethertype:ip:icmp:data</td>\n      <td>NaN</td>\n      <td>NaN</td>\n      <td>NaN</td>\n      <td>NaN</td>\n      <td>NaN</td>\n      <td>NaN</td>\n      <td>NaN</td>\n      <td>NaN</td>\n      <td>10.20.30.103</td>\n      <td>10.20.30.101</td>\n    </tr>\n    <tr>\n      <th>2998023</th>\n      <td>5568365</td>\n      <td>Jun  4, 2023 12:24:22.385555000 EDT</td>\n      <td>eth:ethertype:ip:icmp:data</td>\n      <td>NaN</td>\n      <td>NaN</td>\n      <td>NaN</td>\n      <td>NaN</td>\n      <td>NaN</td>\n      <td>NaN</td>\n      <td>NaN</td>\n      <td>NaN</td>\n      <td>10.20.30.103</td>\n      <td>10.20.30.101</td>\n    </tr>\n    <tr>\n      <th>2998323</th>\n      <td>6055424</td>\n      <td>Jun  4, 2023 12:43:33.370702000 EDT</td>\n      <td>eth:ethertype:ip:udp:dns</td>\n      <td>NaN</td>\n      <td>NaN</td>\n      <td>NaN</td>\n      <td>NaN</td>\n      <td>38632.0</td>\n      <td>53.0</td>\n      <td>NaN</td>\n      <td>NaN</td>\n      <td>10.20.30.103</td>\n      <td>10.20.30.1</td>\n    </tr>\n  </tbody>\n</table>\n<p>3732 rows × 13 columns</p>\n</div>"
     },
     "execution_count": 14,
     "metadata": {},
     "output_type": "execute_result"
    }
   ],
   "source": [
    "df.loc[df['tcp.seq'].apply(lambda x: not isinstance(x, int))]"
   ],
   "metadata": {
    "collapsed": false,
    "ExecuteTime": {
     "end_time": "2023-12-20T18:57:40.375329Z",
     "start_time": "2023-12-20T18:57:40.026275Z"
    }
   }
  },
  {
   "cell_type": "code",
   "execution_count": 7,
   "outputs": [],
   "source": [
    "df = df.dropna(subset = ['tcp.seq'])"
   ],
   "metadata": {
    "collapsed": false,
    "ExecuteTime": {
     "end_time": "2023-12-21T11:31:56.861203Z",
     "start_time": "2023-12-21T11:31:56.207036Z"
    }
   }
  },
  {
   "cell_type": "code",
   "execution_count": 16,
   "outputs": [
    {
     "data": {
      "text/plain": "         frame.number  frame.time  frame.protocols  tcp.seq  tcp.stream  \\\n2042160  frame.number  frame.time  frame.protocols  tcp.seq  tcp.stream   \n\n         tcp.srcport  tcp.dstport  udp.srcport  udp.dstport  tcp.flags.syn  \\\n2042160  tcp.srcport  tcp.dstport  udp.srcport  udp.dstport  tcp.flags.syn   \n\n         tcp.flags.reset  ip.src  ip.dst  \n2042160  tcp.flags.reset  ip.src  ip.dst  ",
      "text/html": "<div>\n<style scoped>\n    .dataframe tbody tr th:only-of-type {\n        vertical-align: middle;\n    }\n\n    .dataframe tbody tr th {\n        vertical-align: top;\n    }\n\n    .dataframe thead th {\n        text-align: right;\n    }\n</style>\n<table border=\"1\" class=\"dataframe\">\n  <thead>\n    <tr style=\"text-align: right;\">\n      <th></th>\n      <th>frame.number</th>\n      <th>frame.time</th>\n      <th>frame.protocols</th>\n      <th>tcp.seq</th>\n      <th>tcp.stream</th>\n      <th>tcp.srcport</th>\n      <th>tcp.dstport</th>\n      <th>udp.srcport</th>\n      <th>udp.dstport</th>\n      <th>tcp.flags.syn</th>\n      <th>tcp.flags.reset</th>\n      <th>ip.src</th>\n      <th>ip.dst</th>\n    </tr>\n  </thead>\n  <tbody>\n    <tr>\n      <th>2042160</th>\n      <td>frame.number</td>\n      <td>frame.time</td>\n      <td>frame.protocols</td>\n      <td>tcp.seq</td>\n      <td>tcp.stream</td>\n      <td>tcp.srcport</td>\n      <td>tcp.dstport</td>\n      <td>udp.srcport</td>\n      <td>udp.dstport</td>\n      <td>tcp.flags.syn</td>\n      <td>tcp.flags.reset</td>\n      <td>ip.src</td>\n      <td>ip.dst</td>\n    </tr>\n  </tbody>\n</table>\n</div>"
     },
     "execution_count": 16,
     "metadata": {},
     "output_type": "execute_result"
    }
   ],
   "source": [
    "df.loc[df['tcp.seq'].apply(lambda x: not isinstance(x, int))]"
   ],
   "metadata": {
    "collapsed": false,
    "ExecuteTime": {
     "end_time": "2023-12-20T18:57:44.361705Z",
     "start_time": "2023-12-20T18:57:44.024962Z"
    }
   }
  },
  {
   "cell_type": "code",
   "execution_count": 8,
   "outputs": [],
   "source": [
    "df = df[df['tcp.seq'] != 'tcp.seq']"
   ],
   "metadata": {
    "collapsed": false,
    "ExecuteTime": {
     "end_time": "2023-12-21T11:32:17.025759Z",
     "start_time": "2023-12-21T11:32:14.959416Z"
    }
   }
  },
  {
   "cell_type": "code",
   "execution_count": 18,
   "outputs": [],
   "source": [
    "# # I would like to see the distribution of this feature:\n",
    "# fig = px.histogram(df, x='tcp.seq',title='Distribution of TCP Sequence Numbers' )\n",
    "\n",
    "# fig.update_layout(\n",
    "#     xaxis_title='TCP Sequence Number',\n",
    "#     yaxis_title='Frequency',\n",
    "#     bargap=0.2  # Adjust the gap between bars\n",
    "# )\n",
    "\n",
    "# # Show the plot\n",
    "# fig.show()"
   ],
   "metadata": {
    "collapsed": false,
    "ExecuteTime": {
     "end_time": "2023-12-20T18:57:47.648104Z",
     "start_time": "2023-12-20T18:57:47.592246Z"
    }
   }
  },
  {
   "cell_type": "code",
   "execution_count": 9,
   "outputs": [
    {
     "data": {
      "text/plain": "Index(['frame.number', 'frame.time', 'frame.protocols', 'tcp.seq',\n       'tcp.stream', 'tcp.srcport', 'tcp.dstport', 'udp.srcport',\n       'udp.dstport', 'tcp.flags.syn', 'tcp.flags.reset', 'ip.src', 'ip.dst',\n       'alert'],\n      dtype='object')"
     },
     "execution_count": 9,
     "metadata": {},
     "output_type": "execute_result"
    }
   ],
   "source": [
    "df.columns"
   ],
   "metadata": {
    "collapsed": false,
    "ExecuteTime": {
     "end_time": "2023-12-21T11:34:27.658053Z",
     "start_time": "2023-12-21T11:34:27.614409Z"
    }
   }
  },
  {
   "cell_type": "code",
   "execution_count": 12,
   "outputs": [
    {
     "data": {
      "text/plain": "0     Jun  4, 2023 12:23:33.466544000 EDT\n1     Jun  4, 2023 11:29:51.272605000 EDT\n3     Jun  4, 2023 11:33:42.040858000 EDT\n4     Jun  4, 2023 11:41:44.312690000 EDT\n5     Jun  4, 2023 11:30:50.703997000 EDT\n6     Jun  4, 2023 12:05:56.948452000 EDT\n7     Jun  4, 2023 11:48:46.111849000 EDT\n8     Jun  4, 2023 11:40:20.679234000 EDT\n9     Jun  4, 2023 12:18:56.912841000 EDT\n10    Jun  4, 2023 11:46:23.237869000 EDT\nName: frame.time, dtype: object"
     },
     "execution_count": 12,
     "metadata": {},
     "output_type": "execute_result"
    }
   ],
   "source": [
    "# I would like to see if there is a jump in a specific tcp.seq number in at a specific time\n",
    "ç"
   ],
   "metadata": {
    "collapsed": false,
    "ExecuteTime": {
     "end_time": "2023-12-21T11:35:52.199966Z",
     "start_time": "2023-12-21T11:35:52.187931Z"
    }
   }
  },
  {
   "cell_type": "code",
   "execution_count": 13,
   "outputs": [
    {
     "name": "stderr",
     "output_type": "stream",
     "text": [
      "/media/sumanas/Storage/envs/lowl-jaja-test/lib/python3.10/site-packages/dateutil/parser/_parser.py:1207: UnknownTimezoneWarning: tzname EDT identified but not understood.  Pass `tzinfos` argument in order to correctly return a timezone-aware datetime.  In a future version, this will raise an exception.\n",
      "  warnings.warn(\"tzname {tzname} identified but not understood.  \"\n"
     ]
    }
   ],
   "source": [
    "# I need to convert the frame.time feature to a datetime format\n",
    "df['frame.time'] = pd.to_datetime(df['frame.time'])\n"
   ],
   "metadata": {
    "collapsed": false,
    "ExecuteTime": {
     "end_time": "2023-12-21T11:38:57.393119Z",
     "start_time": "2023-12-21T11:38:49.385673Z"
    }
   }
  },
  {
   "cell_type": "code",
   "execution_count": 14,
   "outputs": [
    {
     "data": {
      "text/plain": "0    2023-06-04 12:23:33.466544\n1    2023-06-04 11:29:51.272605\n3    2023-06-04 11:33:42.040858\n4    2023-06-04 11:41:44.312690\n5    2023-06-04 11:30:50.703997\n6    2023-06-04 12:05:56.948452\n7    2023-06-04 11:48:46.111849\n8    2023-06-04 11:40:20.679234\n9    2023-06-04 12:18:56.912841\n10   2023-06-04 11:46:23.237869\nName: frame.time, dtype: datetime64[ns]"
     },
     "execution_count": 14,
     "metadata": {},
     "output_type": "execute_result"
    }
   ],
   "source": [
    "df['frame.time'].head(10)"
   ],
   "metadata": {
    "collapsed": false,
    "ExecuteTime": {
     "end_time": "2023-12-21T11:39:33.738416Z",
     "start_time": "2023-12-21T11:39:33.716733Z"
    }
   }
  },
  {
   "cell_type": "code",
   "execution_count": 15,
   "outputs": [],
   "source": [
    "# Setting the 'frame.time' as the index\n",
    "df.set_index('frame.time', inplace=True)"
   ],
   "metadata": {
    "collapsed": false,
    "ExecuteTime": {
     "end_time": "2023-12-21T11:42:41.326891Z",
     "start_time": "2023-12-21T11:42:41.296718Z"
    }
   }
  },
  {
   "cell_type": "code",
   "execution_count": 16,
   "outputs": [
    {
     "data": {
      "text/plain": "tcp.seq\n1          147321\n0          104339\n1449        15321\n2897         1658\n3312          805\n            ...  \n1166799         1\n139417          1\n268495          1\n367740          1\n348866          1\nName: count, Length: 286187, dtype: int64"
     },
     "execution_count": 16,
     "metadata": {},
     "output_type": "execute_result"
    }
   ],
   "source": [
    "df['tcp.seq'].value_counts()"
   ],
   "metadata": {
    "collapsed": false,
    "ExecuteTime": {
     "end_time": "2023-12-21T11:43:21.676685Z",
     "start_time": "2023-12-21T11:43:21.548677Z"
    }
   }
  },
  {
   "cell_type": "code",
   "execution_count": 18,
   "outputs": [],
   "source": [
    "# I'm choosin a specific tcp.seq number(1) to investigate\n",
    "specific_sequence_number = 1\n",
    "\n",
    "# I will now filter the df\n",
    "df_tcp_sq_1 = df[df['tcp.seq'] == specific_sequence_number]"
   ],
   "metadata": {
    "collapsed": false,
    "ExecuteTime": {
     "end_time": "2023-12-21T11:46:44.063172Z",
     "start_time": "2023-12-21T11:46:44.006702Z"
    }
   }
  },
  {
   "cell_type": "code",
   "execution_count": 24,
   "outputs": [
    {
     "data": {
      "text/plain": "                           frame.number            frame.protocols tcp.seq  \\\nframe.time                                                                   \n2023-06-04 11:25:33.953265        45067       eth:ethertype:ip:tcp       1   \n2023-06-04 11:55:19.390367      5099834       eth:ethertype:ip:tcp       1   \n2023-06-04 11:35:30.646321      1237944       eth:ethertype:ip:tcp       1   \n2023-06-04 12:33:18.716646      5855649       eth:ethertype:ip:tcp       1   \n2023-06-04 12:48:33.204212      6153495       eth:ethertype:ip:tcp       1   \n...                                 ...                        ...     ...   \n2023-06-04 12:33:19.451894      5878300       eth:ethertype:ip:tcp       1   \n2023-06-04 11:54:10.527097      4885730       eth:ethertype:ip:tcp       1   \n2023-06-04 11:45:42.814420      2501150       eth:ethertype:ip:tcp       1   \n2023-06-04 12:33:11.947976      5819327  eth:ethertype:ip:tcp:http       1   \n2023-06-04 11:33:36.035284       967826       eth:ethertype:ip:tcp       1   \n\n                           tcp.stream tcp.srcport tcp.dstport udp.srcport  \\\nframe.time                                                                  \n2023-06-04 11:25:33.953265    22340.0     54437.0     48942.0         NaN   \n2023-06-04 11:55:19.390367    90077.0     58740.0        80.0         NaN   \n2023-06-04 11:35:30.646321    73071.0     47764.0        80.0         NaN   \n2023-06-04 12:33:18.716646   119269.0     24849.0     40030.0         NaN   \n2023-06-04 12:48:33.204212   170657.0        80.0     55662.0         NaN   \n...                               ...         ...         ...         ...   \n2023-06-04 12:33:19.451894   130583.0     13549.0     60014.0         NaN   \n2023-06-04 11:54:10.527097    88934.0     49684.0        80.0         NaN   \n2023-06-04 11:45:42.814420    78820.0        80.0     40212.0         NaN   \n2023-06-04 12:33:11.947976   101828.0        80.0     51806.0         NaN   \n2023-06-04 11:33:36.035284    71750.0        80.0     49400.0         NaN   \n\n                           udp.dstport tcp.flags.syn tcp.flags.reset  \\\nframe.time                                                             \n2023-06-04 11:25:33.953265         NaN           0.0             1.0   \n2023-06-04 11:55:19.390367         NaN           0.0             0.0   \n2023-06-04 11:35:30.646321         NaN           0.0             0.0   \n2023-06-04 12:33:18.716646         NaN           0.0             1.0   \n2023-06-04 12:48:33.204212         NaN           0.0             0.0   \n...                                ...           ...             ...   \n2023-06-04 12:33:19.451894         NaN           0.0             1.0   \n2023-06-04 11:54:10.527097         NaN           0.0             0.0   \n2023-06-04 11:45:42.814420         NaN           0.0             0.0   \n2023-06-04 12:33:11.947976         NaN           0.0             0.0   \n2023-06-04 11:33:36.035284         NaN           0.0             0.0   \n\n                                  ip.src        ip.dst       alert  \nframe.time                                                          \n2023-06-04 11:25:33.953265  10.20.30.101  10.20.30.103  suspicious  \n2023-06-04 11:55:19.390367  10.20.30.103  10.20.30.101  suspicious  \n2023-06-04 11:35:30.646321  10.20.30.103  10.20.30.101  suspicious  \n2023-06-04 12:33:18.716646  10.20.30.101  10.20.30.103  suspicious  \n2023-06-04 12:48:33.204212  10.20.30.101  10.20.30.103  suspicious  \n...                                  ...           ...         ...  \n2023-06-04 12:33:19.451894  10.20.30.101  10.20.30.103  suspicious  \n2023-06-04 11:54:10.527097  10.20.30.103  10.20.30.101  suspicious  \n2023-06-04 11:45:42.814420  10.20.30.101  10.20.30.103  suspicious  \n2023-06-04 12:33:11.947976  10.20.30.101  10.20.30.103  suspicious  \n2023-06-04 11:33:36.035284  10.20.30.101  10.20.30.103  suspicious  \n\n[147321 rows x 13 columns]",
      "text/html": "<div>\n<style scoped>\n    .dataframe tbody tr th:only-of-type {\n        vertical-align: middle;\n    }\n\n    .dataframe tbody tr th {\n        vertical-align: top;\n    }\n\n    .dataframe thead th {\n        text-align: right;\n    }\n</style>\n<table border=\"1\" class=\"dataframe\">\n  <thead>\n    <tr style=\"text-align: right;\">\n      <th></th>\n      <th>frame.number</th>\n      <th>frame.protocols</th>\n      <th>tcp.seq</th>\n      <th>tcp.stream</th>\n      <th>tcp.srcport</th>\n      <th>tcp.dstport</th>\n      <th>udp.srcport</th>\n      <th>udp.dstport</th>\n      <th>tcp.flags.syn</th>\n      <th>tcp.flags.reset</th>\n      <th>ip.src</th>\n      <th>ip.dst</th>\n      <th>alert</th>\n    </tr>\n    <tr>\n      <th>frame.time</th>\n      <th></th>\n      <th></th>\n      <th></th>\n      <th></th>\n      <th></th>\n      <th></th>\n      <th></th>\n      <th></th>\n      <th></th>\n      <th></th>\n      <th></th>\n      <th></th>\n      <th></th>\n    </tr>\n  </thead>\n  <tbody>\n    <tr>\n      <th>2023-06-04 11:25:33.953265</th>\n      <td>45067</td>\n      <td>eth:ethertype:ip:tcp</td>\n      <td>1</td>\n      <td>22340.0</td>\n      <td>54437.0</td>\n      <td>48942.0</td>\n      <td>NaN</td>\n      <td>NaN</td>\n      <td>0.0</td>\n      <td>1.0</td>\n      <td>10.20.30.101</td>\n      <td>10.20.30.103</td>\n      <td>suspicious</td>\n    </tr>\n    <tr>\n      <th>2023-06-04 11:55:19.390367</th>\n      <td>5099834</td>\n      <td>eth:ethertype:ip:tcp</td>\n      <td>1</td>\n      <td>90077.0</td>\n      <td>58740.0</td>\n      <td>80.0</td>\n      <td>NaN</td>\n      <td>NaN</td>\n      <td>0.0</td>\n      <td>0.0</td>\n      <td>10.20.30.103</td>\n      <td>10.20.30.101</td>\n      <td>suspicious</td>\n    </tr>\n    <tr>\n      <th>2023-06-04 11:35:30.646321</th>\n      <td>1237944</td>\n      <td>eth:ethertype:ip:tcp</td>\n      <td>1</td>\n      <td>73071.0</td>\n      <td>47764.0</td>\n      <td>80.0</td>\n      <td>NaN</td>\n      <td>NaN</td>\n      <td>0.0</td>\n      <td>0.0</td>\n      <td>10.20.30.103</td>\n      <td>10.20.30.101</td>\n      <td>suspicious</td>\n    </tr>\n    <tr>\n      <th>2023-06-04 12:33:18.716646</th>\n      <td>5855649</td>\n      <td>eth:ethertype:ip:tcp</td>\n      <td>1</td>\n      <td>119269.0</td>\n      <td>24849.0</td>\n      <td>40030.0</td>\n      <td>NaN</td>\n      <td>NaN</td>\n      <td>0.0</td>\n      <td>1.0</td>\n      <td>10.20.30.101</td>\n      <td>10.20.30.103</td>\n      <td>suspicious</td>\n    </tr>\n    <tr>\n      <th>2023-06-04 12:48:33.204212</th>\n      <td>6153495</td>\n      <td>eth:ethertype:ip:tcp</td>\n      <td>1</td>\n      <td>170657.0</td>\n      <td>80.0</td>\n      <td>55662.0</td>\n      <td>NaN</td>\n      <td>NaN</td>\n      <td>0.0</td>\n      <td>0.0</td>\n      <td>10.20.30.101</td>\n      <td>10.20.30.103</td>\n      <td>suspicious</td>\n    </tr>\n    <tr>\n      <th>...</th>\n      <td>...</td>\n      <td>...</td>\n      <td>...</td>\n      <td>...</td>\n      <td>...</td>\n      <td>...</td>\n      <td>...</td>\n      <td>...</td>\n      <td>...</td>\n      <td>...</td>\n      <td>...</td>\n      <td>...</td>\n      <td>...</td>\n    </tr>\n    <tr>\n      <th>2023-06-04 12:33:19.451894</th>\n      <td>5878300</td>\n      <td>eth:ethertype:ip:tcp</td>\n      <td>1</td>\n      <td>130583.0</td>\n      <td>13549.0</td>\n      <td>60014.0</td>\n      <td>NaN</td>\n      <td>NaN</td>\n      <td>0.0</td>\n      <td>1.0</td>\n      <td>10.20.30.101</td>\n      <td>10.20.30.103</td>\n      <td>suspicious</td>\n    </tr>\n    <tr>\n      <th>2023-06-04 11:54:10.527097</th>\n      <td>4885730</td>\n      <td>eth:ethertype:ip:tcp</td>\n      <td>1</td>\n      <td>88934.0</td>\n      <td>49684.0</td>\n      <td>80.0</td>\n      <td>NaN</td>\n      <td>NaN</td>\n      <td>0.0</td>\n      <td>0.0</td>\n      <td>10.20.30.103</td>\n      <td>10.20.30.101</td>\n      <td>suspicious</td>\n    </tr>\n    <tr>\n      <th>2023-06-04 11:45:42.814420</th>\n      <td>2501150</td>\n      <td>eth:ethertype:ip:tcp</td>\n      <td>1</td>\n      <td>78820.0</td>\n      <td>80.0</td>\n      <td>40212.0</td>\n      <td>NaN</td>\n      <td>NaN</td>\n      <td>0.0</td>\n      <td>0.0</td>\n      <td>10.20.30.101</td>\n      <td>10.20.30.103</td>\n      <td>suspicious</td>\n    </tr>\n    <tr>\n      <th>2023-06-04 12:33:11.947976</th>\n      <td>5819327</td>\n      <td>eth:ethertype:ip:tcp:http</td>\n      <td>1</td>\n      <td>101828.0</td>\n      <td>80.0</td>\n      <td>51806.0</td>\n      <td>NaN</td>\n      <td>NaN</td>\n      <td>0.0</td>\n      <td>0.0</td>\n      <td>10.20.30.101</td>\n      <td>10.20.30.103</td>\n      <td>suspicious</td>\n    </tr>\n    <tr>\n      <th>2023-06-04 11:33:36.035284</th>\n      <td>967826</td>\n      <td>eth:ethertype:ip:tcp</td>\n      <td>1</td>\n      <td>71750.0</td>\n      <td>80.0</td>\n      <td>49400.0</td>\n      <td>NaN</td>\n      <td>NaN</td>\n      <td>0.0</td>\n      <td>0.0</td>\n      <td>10.20.30.101</td>\n      <td>10.20.30.103</td>\n      <td>suspicious</td>\n    </tr>\n  </tbody>\n</table>\n<p>147321 rows × 13 columns</p>\n</div>"
     },
     "execution_count": 24,
     "metadata": {},
     "output_type": "execute_result"
    }
   ],
   "source": [
    "df_tcp_sq_1"
   ],
   "metadata": {
    "collapsed": false,
    "ExecuteTime": {
     "end_time": "2023-12-21T11:57:13.572965Z",
     "start_time": "2023-12-21T11:57:13.503842Z"
    }
   }
  },
  {
   "cell_type": "code",
   "execution_count": 26,
   "outputs": [],
   "source": [
    "# Group by the index with a specific time frequency and count occurrences, include 'alert' and 'frame.protocols' in the group by\n",
    "\n",
    "counts_over_time = (df_tcp_sq_1.resample('T')\n",
    ".agg({'tcp.seq': 'size', 'alert': 'last', 'frame.protocols': 'last'})\n",
    ".reset_index()\n",
    ".rename(columns={'tcp.seq': 'count'}))\n",
    "\n",
    "\n",
    "# resampling('T') --> This is resampling the data based on time intervals. The 'T' argument specifies that the data should be resampled into 1-minute intervals.\n",
    "# For the 'tcp.seq' column, it calculates the size of each group, which is the number of rows in each 1-minute interval.\n",
    "# For the 'alert' column, it takes the last value in each 1-minute interval. This could be used to get the most recent alert state.\n",
    "# .reset_index() --> method is used to reset the index of the DataFrame. After resampling, the new time intervals become the index of the DataFrame. By resetting the index, you move the time intervals back into a regular column and create a standard integer index.\n",
    "# .rename(columns={'tcp.seq': 'count'}) -->Finally, the .rename() method is used to rename the columns of the DataFrame. Here, it's renaming the column 'tcp.seq' to 'count'. This is probably done to clarify that the column now represents the count of occurrences of 'tcp.seq' in each time interval, rather than the sequence numbers themselves."
   ],
   "metadata": {
    "collapsed": false,
    "ExecuteTime": {
     "end_time": "2023-12-21T13:06:09.513791Z",
     "start_time": "2023-12-21T13:06:09.267721Z"
    }
   }
  },
  {
   "cell_type": "code",
   "execution_count": 27,
   "outputs": [
    {
     "data": {
      "text/plain": "            frame.time  count       alert  \\\n0  2023-06-04 11:23:00     20      benign   \n1  2023-06-04 11:24:00     36      benign   \n2  2023-06-04 11:25:00  31918      benign   \n3  2023-06-04 11:26:00    582      benign   \n4  2023-06-04 11:27:00    801  suspicious   \n..                 ...    ...         ...   \n85 2023-06-04 12:48:00  11198  suspicious   \n86 2023-06-04 12:49:00     70  suspicious   \n87 2023-06-04 12:50:00   1428  suspicious   \n88 2023-06-04 12:51:00      7  suspicious   \n89 2023-06-04 12:52:00     11  suspicious   \n\n                              frame.protocols  \n0                        eth:ethertype:ip:tcp  \n1   eth:ethertype:ip:tcp:http:data-text-lines  \n2   eth:ethertype:ip:tcp:http:data-text-lines  \n3   eth:ethertype:ip:tcp:http:data-text-lines  \n4   eth:ethertype:ip:tcp:http:data-text-lines  \n..                                        ...  \n85                       eth:ethertype:ip:tcp  \n86                       eth:ethertype:ip:tcp  \n87                       eth:ethertype:ip:tcp  \n88  eth:ethertype:ip:tcp:http:data-text-lines  \n89                       eth:ethertype:ip:tcp  \n\n[90 rows x 4 columns]",
      "text/html": "<div>\n<style scoped>\n    .dataframe tbody tr th:only-of-type {\n        vertical-align: middle;\n    }\n\n    .dataframe tbody tr th {\n        vertical-align: top;\n    }\n\n    .dataframe thead th {\n        text-align: right;\n    }\n</style>\n<table border=\"1\" class=\"dataframe\">\n  <thead>\n    <tr style=\"text-align: right;\">\n      <th></th>\n      <th>frame.time</th>\n      <th>count</th>\n      <th>alert</th>\n      <th>frame.protocols</th>\n    </tr>\n  </thead>\n  <tbody>\n    <tr>\n      <th>0</th>\n      <td>2023-06-04 11:23:00</td>\n      <td>20</td>\n      <td>benign</td>\n      <td>eth:ethertype:ip:tcp</td>\n    </tr>\n    <tr>\n      <th>1</th>\n      <td>2023-06-04 11:24:00</td>\n      <td>36</td>\n      <td>benign</td>\n      <td>eth:ethertype:ip:tcp:http:data-text-lines</td>\n    </tr>\n    <tr>\n      <th>2</th>\n      <td>2023-06-04 11:25:00</td>\n      <td>31918</td>\n      <td>benign</td>\n      <td>eth:ethertype:ip:tcp:http:data-text-lines</td>\n    </tr>\n    <tr>\n      <th>3</th>\n      <td>2023-06-04 11:26:00</td>\n      <td>582</td>\n      <td>benign</td>\n      <td>eth:ethertype:ip:tcp:http:data-text-lines</td>\n    </tr>\n    <tr>\n      <th>4</th>\n      <td>2023-06-04 11:27:00</td>\n      <td>801</td>\n      <td>suspicious</td>\n      <td>eth:ethertype:ip:tcp:http:data-text-lines</td>\n    </tr>\n    <tr>\n      <th>...</th>\n      <td>...</td>\n      <td>...</td>\n      <td>...</td>\n      <td>...</td>\n    </tr>\n    <tr>\n      <th>85</th>\n      <td>2023-06-04 12:48:00</td>\n      <td>11198</td>\n      <td>suspicious</td>\n      <td>eth:ethertype:ip:tcp</td>\n    </tr>\n    <tr>\n      <th>86</th>\n      <td>2023-06-04 12:49:00</td>\n      <td>70</td>\n      <td>suspicious</td>\n      <td>eth:ethertype:ip:tcp</td>\n    </tr>\n    <tr>\n      <th>87</th>\n      <td>2023-06-04 12:50:00</td>\n      <td>1428</td>\n      <td>suspicious</td>\n      <td>eth:ethertype:ip:tcp</td>\n    </tr>\n    <tr>\n      <th>88</th>\n      <td>2023-06-04 12:51:00</td>\n      <td>7</td>\n      <td>suspicious</td>\n      <td>eth:ethertype:ip:tcp:http:data-text-lines</td>\n    </tr>\n    <tr>\n      <th>89</th>\n      <td>2023-06-04 12:52:00</td>\n      <td>11</td>\n      <td>suspicious</td>\n      <td>eth:ethertype:ip:tcp</td>\n    </tr>\n  </tbody>\n</table>\n<p>90 rows × 4 columns</p>\n</div>"
     },
     "execution_count": 27,
     "metadata": {},
     "output_type": "execute_result"
    }
   ],
   "source": [
    "counts_over_time"
   ],
   "metadata": {
    "collapsed": false,
    "ExecuteTime": {
     "end_time": "2023-12-21T13:06:16.486281Z",
     "start_time": "2023-12-21T13:06:16.378947Z"
    }
   }
  },
  {
   "cell_type": "code",
   "execution_count": 28,
   "outputs": [
    {
     "data": {
      "application/vnd.plotly.v1+json": {
       "data": [
        {
         "customdata": [
          [
           "benign",
           "eth:ethertype:ip:tcp"
          ],
          [
           "benign",
           "eth:ethertype:ip:tcp:http:data-text-lines"
          ],
          [
           "benign",
           "eth:ethertype:ip:tcp:http:data-text-lines"
          ],
          [
           "benign",
           "eth:ethertype:ip:tcp:http:data-text-lines"
          ],
          [
           "suspicious",
           "eth:ethertype:ip:tcp:http:data-text-lines"
          ],
          [
           "suspicious",
           "eth:ethertype:ip:tcp:http:data-text-lines"
          ],
          [
           "suspicious",
           "eth:ethertype:ip:tcp:http:data-text-lines"
          ],
          [
           "suspicious",
           "eth:ethertype:ip:tcp"
          ],
          [
           "suspicious",
           "eth:ethertype:ip:tcp:http:data-text-lines"
          ],
          [
           "suspicious",
           "eth:ethertype:ip:tcp:http:data-text-lines"
          ],
          [
           "suspicious",
           "eth:ethertype:ip:tcp"
          ],
          [
           "suspicious",
           "eth:ethertype:ip:tcp"
          ],
          [
           "suspicious",
           "eth:ethertype:ip:tcp"
          ],
          [
           "suspicious",
           "eth:ethertype:ip:tcp:http:data-text-lines"
          ],
          [
           "suspicious",
           "eth:ethertype:ip:tcp:http"
          ],
          [
           "suspicious",
           "eth:ethertype:ip:tcp"
          ],
          [
           "suspicious",
           "eth:ethertype:ip:tcp"
          ],
          [
           "suspicious",
           "eth:ethertype:ip:tcp:http:data-text-lines"
          ],
          [
           "suspicious",
           "eth:ethertype:ip:tcp:http"
          ],
          [
           "benign",
           "eth:ethertype:ip:tcp:http:data-text-lines"
          ],
          [
           "benign",
           "eth:ethertype:ip:tcp:http:data-text-lines"
          ],
          [
           "suspicious",
           "eth:ethertype:ip:tcp:http"
          ],
          [
           "suspicious",
           "eth:ethertype:ip:tcp"
          ],
          [
           "suspicious",
           "eth:ethertype:ip:tcp"
          ],
          [
           "suspicious",
           "eth:ethertype:ip:tcp"
          ],
          [
           "suspicious",
           "eth:ethertype:ip:tcp:http"
          ],
          [
           "suspicious",
           "eth:ethertype:ip:tcp"
          ],
          [
           "suspicious",
           "eth:ethertype:ip:tcp:http"
          ],
          [
           "suspicious",
           "eth:ethertype:ip:tcp"
          ],
          [
           "suspicious",
           "eth:ethertype:ip:tcp:http:data-text-lines"
          ],
          [
           "suspicious",
           "eth:ethertype:ip:tcp"
          ],
          [
           "suspicious",
           "eth:ethertype:ip:tcp:http:urlencoded-form"
          ],
          [
           "benign",
           "eth:ethertype:ip:tcp"
          ],
          [
           "benign",
           "eth:ethertype:ip:tcp:http:data-text-lines"
          ],
          [
           "benign",
           "eth:ethertype:ip:tcp:http:data-text-lines"
          ],
          [
           "benign",
           "eth:ethertype:ip:tcp:http:data-text-lines"
          ],
          [
           "benign",
           "eth:ethertype:ip:tcp"
          ],
          [
           "suspicious",
           "eth:ethertype:ip:tcp:http"
          ],
          [
           "suspicious",
           "eth:ethertype:ip:tcp:http"
          ],
          [
           "suspicious",
           "eth:ethertype:ip:tcp:http"
          ],
          [
           "benign",
           "eth:ethertype:ip:tcp"
          ],
          [
           "suspicious",
           "eth:ethertype:ip:tcp:http"
          ],
          [
           "benign",
           "eth:ethertype:ip:tcp"
          ],
          [
           "benign",
           "eth:ethertype:ip:tcp"
          ],
          [
           "benign",
           "eth:ethertype:ip:tcp:http:data-text-lines"
          ],
          [
           "benign",
           "eth:ethertype:ip:tcp:http:data-text-lines"
          ],
          [
           "benign",
           "eth:ethertype:ip:tcp:http:data-text-lines"
          ],
          [
           "benign",
           "eth:ethertype:ip:tcp:http"
          ],
          [
           "benign",
           "eth:ethertype:ip:tcp:http:data-text-lines"
          ],
          [
           "suspicious",
           "eth:ethertype:ip:tcp"
          ],
          [
           "benign",
           "eth:ethertype:ip:tcp:http:data-text-lines"
          ],
          [
           "suspicious",
           "eth:ethertype:ip:tcp"
          ],
          [
           "benign",
           "eth:ethertype:ip:tcp"
          ],
          [
           "benign",
           "eth:ethertype:ip:tcp:http:data-text-lines"
          ],
          [
           "benign",
           "eth:ethertype:ip:tcp:http:data-text-lines"
          ],
          [
           "benign",
           "eth:ethertype:ip:tcp:http"
          ],
          [
           "benign",
           "eth:ethertype:ip:tcp:http:data-text-lines"
          ],
          [
           "benign",
           "eth:ethertype:ip:tcp:http:data-text-lines"
          ],
          [
           "benign",
           "eth:ethertype:ip:tcp"
          ],
          [
           "benign",
           "eth:ethertype:ip:tcp"
          ],
          [
           "benign",
           "eth:ethertype:ip:tcp"
          ],
          [
           "benign",
           "eth:ethertype:ip:tcp"
          ],
          [
           "benign",
           "eth:ethertype:ip:tcp:http:data-text-lines"
          ],
          [
           "benign",
           "eth:ethertype:ip:tcp"
          ],
          [
           "suspicious",
           "eth:ethertype:ip:tcp"
          ],
          [
           "benign",
           "eth:ethertype:ip:tcp:http:data-text-lines"
          ],
          [
           "suspicious",
           "eth:ethertype:ip:tcp:http:data-text-lines"
          ],
          [
           "suspicious",
           "eth:ethertype:ip:tcp:http:data-text-lines"
          ],
          [
           "suspicious",
           "eth:ethertype:ip:tcp"
          ],
          [
           "suspicious",
           "eth:ethertype:ip:tcp:http"
          ],
          [
           "suspicious",
           "eth:ethertype:ip:tcp:http"
          ],
          [
           "benign",
           "eth:ethertype:ip:tcp:http"
          ],
          [
           "suspicious",
           "eth:ethertype:ip:tcp"
          ],
          [
           "benign",
           "eth:ethertype:ip:tcp:http:data-text-lines"
          ],
          [
           "benign",
           "eth:ethertype:ip:tcp"
          ],
          [
           "suspicious",
           "eth:ethertype:ip:tcp"
          ],
          [
           null,
           null
          ],
          [
           null,
           null
          ],
          [
           "suspicious",
           "eth:ethertype:ip:tcp"
          ],
          [
           "suspicious",
           "eth:ethertype:ip:tcp:http:data-text-lines"
          ],
          [
           "suspicious",
           "eth:ethertype:ip:tcp"
          ],
          [
           "suspicious",
           "eth:ethertype:ip:tcp"
          ],
          [
           "suspicious",
           "eth:ethertype:ip:tcp"
          ],
          [
           "suspicious",
           "eth:ethertype:ip:tcp:http"
          ],
          [
           "suspicious",
           "eth:ethertype:ip:tcp:http"
          ],
          [
           "suspicious",
           "eth:ethertype:ip:tcp"
          ],
          [
           "suspicious",
           "eth:ethertype:ip:tcp"
          ],
          [
           "suspicious",
           "eth:ethertype:ip:tcp"
          ],
          [
           "suspicious",
           "eth:ethertype:ip:tcp:http:data-text-lines"
          ],
          [
           "suspicious",
           "eth:ethertype:ip:tcp"
          ]
         ],
         "hovertemplate": "Time: %{x}<br>Count: %{y}<br>TCP Seq: 1<br>Alert: %{customdata[1]}<br>Frame Protocols: %{customdata[2]}",
         "legendgroup": "",
         "line": {
          "color": "#636efa",
          "dash": "solid"
         },
         "marker": {
          "symbol": "circle"
         },
         "mode": "lines",
         "name": "",
         "orientation": "v",
         "showlegend": false,
         "x": [
          "2023-06-04T11:23:00",
          "2023-06-04T11:24:00",
          "2023-06-04T11:25:00",
          "2023-06-04T11:26:00",
          "2023-06-04T11:27:00",
          "2023-06-04T11:28:00",
          "2023-06-04T11:29:00",
          "2023-06-04T11:30:00",
          "2023-06-04T11:31:00",
          "2023-06-04T11:32:00",
          "2023-06-04T11:33:00",
          "2023-06-04T11:34:00",
          "2023-06-04T11:35:00",
          "2023-06-04T11:36:00",
          "2023-06-04T11:37:00",
          "2023-06-04T11:38:00",
          "2023-06-04T11:39:00",
          "2023-06-04T11:40:00",
          "2023-06-04T11:41:00",
          "2023-06-04T11:42:00",
          "2023-06-04T11:43:00",
          "2023-06-04T11:44:00",
          "2023-06-04T11:45:00",
          "2023-06-04T11:46:00",
          "2023-06-04T11:47:00",
          "2023-06-04T11:48:00",
          "2023-06-04T11:49:00",
          "2023-06-04T11:50:00",
          "2023-06-04T11:51:00",
          "2023-06-04T11:52:00",
          "2023-06-04T11:53:00",
          "2023-06-04T11:54:00",
          "2023-06-04T11:55:00",
          "2023-06-04T11:56:00",
          "2023-06-04T11:57:00",
          "2023-06-04T11:58:00",
          "2023-06-04T11:59:00",
          "2023-06-04T12:00:00",
          "2023-06-04T12:01:00",
          "2023-06-04T12:02:00",
          "2023-06-04T12:03:00",
          "2023-06-04T12:04:00",
          "2023-06-04T12:05:00",
          "2023-06-04T12:06:00",
          "2023-06-04T12:07:00",
          "2023-06-04T12:08:00",
          "2023-06-04T12:09:00",
          "2023-06-04T12:10:00",
          "2023-06-04T12:11:00",
          "2023-06-04T12:12:00",
          "2023-06-04T12:13:00",
          "2023-06-04T12:14:00",
          "2023-06-04T12:15:00",
          "2023-06-04T12:16:00",
          "2023-06-04T12:17:00",
          "2023-06-04T12:18:00",
          "2023-06-04T12:19:00",
          "2023-06-04T12:20:00",
          "2023-06-04T12:21:00",
          "2023-06-04T12:22:00",
          "2023-06-04T12:23:00",
          "2023-06-04T12:24:00",
          "2023-06-04T12:25:00",
          "2023-06-04T12:26:00",
          "2023-06-04T12:27:00",
          "2023-06-04T12:28:00",
          "2023-06-04T12:29:00",
          "2023-06-04T12:30:00",
          "2023-06-04T12:31:00",
          "2023-06-04T12:32:00",
          "2023-06-04T12:33:00",
          "2023-06-04T12:34:00",
          "2023-06-04T12:35:00",
          "2023-06-04T12:36:00",
          "2023-06-04T12:37:00",
          "2023-06-04T12:38:00",
          "2023-06-04T12:39:00",
          "2023-06-04T12:40:00",
          "2023-06-04T12:41:00",
          "2023-06-04T12:42:00",
          "2023-06-04T12:43:00",
          "2023-06-04T12:44:00",
          "2023-06-04T12:45:00",
          "2023-06-04T12:46:00",
          "2023-06-04T12:47:00",
          "2023-06-04T12:48:00",
          "2023-06-04T12:49:00",
          "2023-06-04T12:50:00",
          "2023-06-04T12:51:00",
          "2023-06-04T12:52:00"
         ],
         "xaxis": "x",
         "y": [
          20,
          36,
          31918,
          582,
          801,
          530,
          1504,
          1410,
          1375,
          1381,
          1392,
          1318,
          1327,
          1352,
          1324,
          1324,
          1342,
          1373,
          1322,
          408,
          51,
          600,
          1961,
          2064,
          1844,
          2625,
          2180,
          3010,
          2203,
          2421,
          1995,
          2031,
          1751,
          83,
          85,
          89,
          92,
          98,
          86,
          57,
          78,
          69,
          81,
          81,
          84,
          83,
          76,
          97,
          92,
          84,
          75,
          210,
          94,
          84,
          82,
          82,
          88,
          79,
          82,
          63,
          119,
          100,
          87,
          82,
          102,
          160,
          170,
          133,
          15797,
          4013,
          31406,
          145,
          192,
          93,
          98,
          780,
          0,
          0,
          1167,
          7,
          5,
          8,
          17,
          104,
          693,
          11198,
          70,
          1428,
          7,
          11
         ],
         "yaxis": "y",
         "type": "scatter"
        }
       ],
       "layout": {
        "template": {
         "data": {
          "histogram2dcontour": [
           {
            "type": "histogram2dcontour",
            "colorbar": {
             "outlinewidth": 0,
             "ticks": ""
            },
            "colorscale": [
             [
              0.0,
              "#0d0887"
             ],
             [
              0.1111111111111111,
              "#46039f"
             ],
             [
              0.2222222222222222,
              "#7201a8"
             ],
             [
              0.3333333333333333,
              "#9c179e"
             ],
             [
              0.4444444444444444,
              "#bd3786"
             ],
             [
              0.5555555555555556,
              "#d8576b"
             ],
             [
              0.6666666666666666,
              "#ed7953"
             ],
             [
              0.7777777777777778,
              "#fb9f3a"
             ],
             [
              0.8888888888888888,
              "#fdca26"
             ],
             [
              1.0,
              "#f0f921"
             ]
            ]
           }
          ],
          "choropleth": [
           {
            "type": "choropleth",
            "colorbar": {
             "outlinewidth": 0,
             "ticks": ""
            }
           }
          ],
          "histogram2d": [
           {
            "type": "histogram2d",
            "colorbar": {
             "outlinewidth": 0,
             "ticks": ""
            },
            "colorscale": [
             [
              0.0,
              "#0d0887"
             ],
             [
              0.1111111111111111,
              "#46039f"
             ],
             [
              0.2222222222222222,
              "#7201a8"
             ],
             [
              0.3333333333333333,
              "#9c179e"
             ],
             [
              0.4444444444444444,
              "#bd3786"
             ],
             [
              0.5555555555555556,
              "#d8576b"
             ],
             [
              0.6666666666666666,
              "#ed7953"
             ],
             [
              0.7777777777777778,
              "#fb9f3a"
             ],
             [
              0.8888888888888888,
              "#fdca26"
             ],
             [
              1.0,
              "#f0f921"
             ]
            ]
           }
          ],
          "heatmap": [
           {
            "type": "heatmap",
            "colorbar": {
             "outlinewidth": 0,
             "ticks": ""
            },
            "colorscale": [
             [
              0.0,
              "#0d0887"
             ],
             [
              0.1111111111111111,
              "#46039f"
             ],
             [
              0.2222222222222222,
              "#7201a8"
             ],
             [
              0.3333333333333333,
              "#9c179e"
             ],
             [
              0.4444444444444444,
              "#bd3786"
             ],
             [
              0.5555555555555556,
              "#d8576b"
             ],
             [
              0.6666666666666666,
              "#ed7953"
             ],
             [
              0.7777777777777778,
              "#fb9f3a"
             ],
             [
              0.8888888888888888,
              "#fdca26"
             ],
             [
              1.0,
              "#f0f921"
             ]
            ]
           }
          ],
          "heatmapgl": [
           {
            "type": "heatmapgl",
            "colorbar": {
             "outlinewidth": 0,
             "ticks": ""
            },
            "colorscale": [
             [
              0.0,
              "#0d0887"
             ],
             [
              0.1111111111111111,
              "#46039f"
             ],
             [
              0.2222222222222222,
              "#7201a8"
             ],
             [
              0.3333333333333333,
              "#9c179e"
             ],
             [
              0.4444444444444444,
              "#bd3786"
             ],
             [
              0.5555555555555556,
              "#d8576b"
             ],
             [
              0.6666666666666666,
              "#ed7953"
             ],
             [
              0.7777777777777778,
              "#fb9f3a"
             ],
             [
              0.8888888888888888,
              "#fdca26"
             ],
             [
              1.0,
              "#f0f921"
             ]
            ]
           }
          ],
          "contourcarpet": [
           {
            "type": "contourcarpet",
            "colorbar": {
             "outlinewidth": 0,
             "ticks": ""
            }
           }
          ],
          "contour": [
           {
            "type": "contour",
            "colorbar": {
             "outlinewidth": 0,
             "ticks": ""
            },
            "colorscale": [
             [
              0.0,
              "#0d0887"
             ],
             [
              0.1111111111111111,
              "#46039f"
             ],
             [
              0.2222222222222222,
              "#7201a8"
             ],
             [
              0.3333333333333333,
              "#9c179e"
             ],
             [
              0.4444444444444444,
              "#bd3786"
             ],
             [
              0.5555555555555556,
              "#d8576b"
             ],
             [
              0.6666666666666666,
              "#ed7953"
             ],
             [
              0.7777777777777778,
              "#fb9f3a"
             ],
             [
              0.8888888888888888,
              "#fdca26"
             ],
             [
              1.0,
              "#f0f921"
             ]
            ]
           }
          ],
          "surface": [
           {
            "type": "surface",
            "colorbar": {
             "outlinewidth": 0,
             "ticks": ""
            },
            "colorscale": [
             [
              0.0,
              "#0d0887"
             ],
             [
              0.1111111111111111,
              "#46039f"
             ],
             [
              0.2222222222222222,
              "#7201a8"
             ],
             [
              0.3333333333333333,
              "#9c179e"
             ],
             [
              0.4444444444444444,
              "#bd3786"
             ],
             [
              0.5555555555555556,
              "#d8576b"
             ],
             [
              0.6666666666666666,
              "#ed7953"
             ],
             [
              0.7777777777777778,
              "#fb9f3a"
             ],
             [
              0.8888888888888888,
              "#fdca26"
             ],
             [
              1.0,
              "#f0f921"
             ]
            ]
           }
          ],
          "mesh3d": [
           {
            "type": "mesh3d",
            "colorbar": {
             "outlinewidth": 0,
             "ticks": ""
            }
           }
          ],
          "scatter": [
           {
            "marker": {
             "line": {
              "color": "#283442"
             }
            },
            "type": "scatter"
           }
          ],
          "parcoords": [
           {
            "type": "parcoords",
            "line": {
             "colorbar": {
              "outlinewidth": 0,
              "ticks": ""
             }
            }
           }
          ],
          "scatterpolargl": [
           {
            "type": "scatterpolargl",
            "marker": {
             "colorbar": {
              "outlinewidth": 0,
              "ticks": ""
             }
            }
           }
          ],
          "bar": [
           {
            "error_x": {
             "color": "#f2f5fa"
            },
            "error_y": {
             "color": "#f2f5fa"
            },
            "marker": {
             "line": {
              "color": "rgb(17,17,17)",
              "width": 0.5
             },
             "pattern": {
              "fillmode": "overlay",
              "size": 10,
              "solidity": 0.2
             }
            },
            "type": "bar"
           }
          ],
          "scattergeo": [
           {
            "type": "scattergeo",
            "marker": {
             "colorbar": {
              "outlinewidth": 0,
              "ticks": ""
             }
            }
           }
          ],
          "scatterpolar": [
           {
            "type": "scatterpolar",
            "marker": {
             "colorbar": {
              "outlinewidth": 0,
              "ticks": ""
             }
            }
           }
          ],
          "histogram": [
           {
            "marker": {
             "pattern": {
              "fillmode": "overlay",
              "size": 10,
              "solidity": 0.2
             }
            },
            "type": "histogram"
           }
          ],
          "scattergl": [
           {
            "marker": {
             "line": {
              "color": "#283442"
             }
            },
            "type": "scattergl"
           }
          ],
          "scatter3d": [
           {
            "type": "scatter3d",
            "line": {
             "colorbar": {
              "outlinewidth": 0,
              "ticks": ""
             }
            },
            "marker": {
             "colorbar": {
              "outlinewidth": 0,
              "ticks": ""
             }
            }
           }
          ],
          "scattermapbox": [
           {
            "type": "scattermapbox",
            "marker": {
             "colorbar": {
              "outlinewidth": 0,
              "ticks": ""
             }
            }
           }
          ],
          "scatterternary": [
           {
            "type": "scatterternary",
            "marker": {
             "colorbar": {
              "outlinewidth": 0,
              "ticks": ""
             }
            }
           }
          ],
          "scattercarpet": [
           {
            "type": "scattercarpet",
            "marker": {
             "colorbar": {
              "outlinewidth": 0,
              "ticks": ""
             }
            }
           }
          ],
          "carpet": [
           {
            "aaxis": {
             "endlinecolor": "#A2B1C6",
             "gridcolor": "#506784",
             "linecolor": "#506784",
             "minorgridcolor": "#506784",
             "startlinecolor": "#A2B1C6"
            },
            "baxis": {
             "endlinecolor": "#A2B1C6",
             "gridcolor": "#506784",
             "linecolor": "#506784",
             "minorgridcolor": "#506784",
             "startlinecolor": "#A2B1C6"
            },
            "type": "carpet"
           }
          ],
          "table": [
           {
            "cells": {
             "fill": {
              "color": "#506784"
             },
             "line": {
              "color": "rgb(17,17,17)"
             }
            },
            "header": {
             "fill": {
              "color": "#2a3f5f"
             },
             "line": {
              "color": "rgb(17,17,17)"
             }
            },
            "type": "table"
           }
          ],
          "barpolar": [
           {
            "marker": {
             "line": {
              "color": "rgb(17,17,17)",
              "width": 0.5
             },
             "pattern": {
              "fillmode": "overlay",
              "size": 10,
              "solidity": 0.2
             }
            },
            "type": "barpolar"
           }
          ],
          "pie": [
           {
            "automargin": true,
            "type": "pie"
           }
          ]
         },
         "layout": {
          "autotypenumbers": "strict",
          "colorway": [
           "#636efa",
           "#EF553B",
           "#00cc96",
           "#ab63fa",
           "#FFA15A",
           "#19d3f3",
           "#FF6692",
           "#B6E880",
           "#FF97FF",
           "#FECB52"
          ],
          "font": {
           "color": "#f2f5fa"
          },
          "hovermode": "closest",
          "hoverlabel": {
           "align": "left"
          },
          "paper_bgcolor": "rgb(17,17,17)",
          "plot_bgcolor": "rgb(17,17,17)",
          "polar": {
           "bgcolor": "rgb(17,17,17)",
           "angularaxis": {
            "gridcolor": "#506784",
            "linecolor": "#506784",
            "ticks": ""
           },
           "radialaxis": {
            "gridcolor": "#506784",
            "linecolor": "#506784",
            "ticks": ""
           }
          },
          "ternary": {
           "bgcolor": "rgb(17,17,17)",
           "aaxis": {
            "gridcolor": "#506784",
            "linecolor": "#506784",
            "ticks": ""
           },
           "baxis": {
            "gridcolor": "#506784",
            "linecolor": "#506784",
            "ticks": ""
           },
           "caxis": {
            "gridcolor": "#506784",
            "linecolor": "#506784",
            "ticks": ""
           }
          },
          "coloraxis": {
           "colorbar": {
            "outlinewidth": 0,
            "ticks": ""
           }
          },
          "colorscale": {
           "sequential": [
            [
             0.0,
             "#0d0887"
            ],
            [
             0.1111111111111111,
             "#46039f"
            ],
            [
             0.2222222222222222,
             "#7201a8"
            ],
            [
             0.3333333333333333,
             "#9c179e"
            ],
            [
             0.4444444444444444,
             "#bd3786"
            ],
            [
             0.5555555555555556,
             "#d8576b"
            ],
            [
             0.6666666666666666,
             "#ed7953"
            ],
            [
             0.7777777777777778,
             "#fb9f3a"
            ],
            [
             0.8888888888888888,
             "#fdca26"
            ],
            [
             1.0,
             "#f0f921"
            ]
           ],
           "sequentialminus": [
            [
             0.0,
             "#0d0887"
            ],
            [
             0.1111111111111111,
             "#46039f"
            ],
            [
             0.2222222222222222,
             "#7201a8"
            ],
            [
             0.3333333333333333,
             "#9c179e"
            ],
            [
             0.4444444444444444,
             "#bd3786"
            ],
            [
             0.5555555555555556,
             "#d8576b"
            ],
            [
             0.6666666666666666,
             "#ed7953"
            ],
            [
             0.7777777777777778,
             "#fb9f3a"
            ],
            [
             0.8888888888888888,
             "#fdca26"
            ],
            [
             1.0,
             "#f0f921"
            ]
           ],
           "diverging": [
            [
             0,
             "#8e0152"
            ],
            [
             0.1,
             "#c51b7d"
            ],
            [
             0.2,
             "#de77ae"
            ],
            [
             0.3,
             "#f1b6da"
            ],
            [
             0.4,
             "#fde0ef"
            ],
            [
             0.5,
             "#f7f7f7"
            ],
            [
             0.6,
             "#e6f5d0"
            ],
            [
             0.7,
             "#b8e186"
            ],
            [
             0.8,
             "#7fbc41"
            ],
            [
             0.9,
             "#4d9221"
            ],
            [
             1,
             "#276419"
            ]
           ]
          },
          "xaxis": {
           "gridcolor": "#283442",
           "linecolor": "#506784",
           "ticks": "",
           "title": {
            "standoff": 15
           },
           "zerolinecolor": "#283442",
           "automargin": true,
           "zerolinewidth": 2
          },
          "yaxis": {
           "gridcolor": "#283442",
           "linecolor": "#506784",
           "ticks": "",
           "title": {
            "standoff": 15
           },
           "zerolinecolor": "#283442",
           "automargin": true,
           "zerolinewidth": 2
          },
          "scene": {
           "xaxis": {
            "backgroundcolor": "rgb(17,17,17)",
            "gridcolor": "#506784",
            "linecolor": "#506784",
            "showbackground": true,
            "ticks": "",
            "zerolinecolor": "#C8D4E3",
            "gridwidth": 2
           },
           "yaxis": {
            "backgroundcolor": "rgb(17,17,17)",
            "gridcolor": "#506784",
            "linecolor": "#506784",
            "showbackground": true,
            "ticks": "",
            "zerolinecolor": "#C8D4E3",
            "gridwidth": 2
           },
           "zaxis": {
            "backgroundcolor": "rgb(17,17,17)",
            "gridcolor": "#506784",
            "linecolor": "#506784",
            "showbackground": true,
            "ticks": "",
            "zerolinecolor": "#C8D4E3",
            "gridwidth": 2
           }
          },
          "shapedefaults": {
           "line": {
            "color": "#f2f5fa"
           }
          },
          "annotationdefaults": {
           "arrowcolor": "#f2f5fa",
           "arrowhead": 0,
           "arrowwidth": 1
          },
          "geo": {
           "bgcolor": "rgb(17,17,17)",
           "landcolor": "rgb(17,17,17)",
           "subunitcolor": "#506784",
           "showland": true,
           "showlakes": true,
           "lakecolor": "rgb(17,17,17)"
          },
          "title": {
           "x": 0.05
          },
          "updatemenudefaults": {
           "bgcolor": "#506784",
           "borderwidth": 0
          },
          "sliderdefaults": {
           "bgcolor": "#C8D4E3",
           "borderwidth": 1,
           "bordercolor": "rgb(17,17,17)",
           "tickwidth": 0
          },
          "mapbox": {
           "style": "dark"
          }
         }
        },
        "xaxis": {
         "anchor": "y",
         "domain": [
          0.0,
          1.0
         ],
         "title": {
          "text": "frame.time"
         }
        },
        "yaxis": {
         "anchor": "x",
         "domain": [
          0.0,
          1.0
         ],
         "title": {
          "text": "count"
         }
        },
        "legend": {
         "tracegroupgap": 0
        },
        "title": {
         "text": "TCP Sequence Number 1 Occurrences Over Time"
        }
       },
       "config": {
        "plotlyServerURL": "https://plot.ly"
       }
      },
      "text/html": "<div>                            <div id=\"38667b14-f88f-473a-b915-90bdac29c857\" class=\"plotly-graph-div\" style=\"height:525px; width:100%;\"></div>            <script type=\"text/javascript\">                require([\"plotly\"], function(Plotly) {                    window.PLOTLYENV=window.PLOTLYENV || {};                                    if (document.getElementById(\"38667b14-f88f-473a-b915-90bdac29c857\")) {                    Plotly.newPlot(                        \"38667b14-f88f-473a-b915-90bdac29c857\",                        [{\"customdata\":[[\"benign\",\"eth:ethertype:ip:tcp\"],[\"benign\",\"eth:ethertype:ip:tcp:http:data-text-lines\"],[\"benign\",\"eth:ethertype:ip:tcp:http:data-text-lines\"],[\"benign\",\"eth:ethertype:ip:tcp:http:data-text-lines\"],[\"suspicious\",\"eth:ethertype:ip:tcp:http:data-text-lines\"],[\"suspicious\",\"eth:ethertype:ip:tcp:http:data-text-lines\"],[\"suspicious\",\"eth:ethertype:ip:tcp:http:data-text-lines\"],[\"suspicious\",\"eth:ethertype:ip:tcp\"],[\"suspicious\",\"eth:ethertype:ip:tcp:http:data-text-lines\"],[\"suspicious\",\"eth:ethertype:ip:tcp:http:data-text-lines\"],[\"suspicious\",\"eth:ethertype:ip:tcp\"],[\"suspicious\",\"eth:ethertype:ip:tcp\"],[\"suspicious\",\"eth:ethertype:ip:tcp\"],[\"suspicious\",\"eth:ethertype:ip:tcp:http:data-text-lines\"],[\"suspicious\",\"eth:ethertype:ip:tcp:http\"],[\"suspicious\",\"eth:ethertype:ip:tcp\"],[\"suspicious\",\"eth:ethertype:ip:tcp\"],[\"suspicious\",\"eth:ethertype:ip:tcp:http:data-text-lines\"],[\"suspicious\",\"eth:ethertype:ip:tcp:http\"],[\"benign\",\"eth:ethertype:ip:tcp:http:data-text-lines\"],[\"benign\",\"eth:ethertype:ip:tcp:http:data-text-lines\"],[\"suspicious\",\"eth:ethertype:ip:tcp:http\"],[\"suspicious\",\"eth:ethertype:ip:tcp\"],[\"suspicious\",\"eth:ethertype:ip:tcp\"],[\"suspicious\",\"eth:ethertype:ip:tcp\"],[\"suspicious\",\"eth:ethertype:ip:tcp:http\"],[\"suspicious\",\"eth:ethertype:ip:tcp\"],[\"suspicious\",\"eth:ethertype:ip:tcp:http\"],[\"suspicious\",\"eth:ethertype:ip:tcp\"],[\"suspicious\",\"eth:ethertype:ip:tcp:http:data-text-lines\"],[\"suspicious\",\"eth:ethertype:ip:tcp\"],[\"suspicious\",\"eth:ethertype:ip:tcp:http:urlencoded-form\"],[\"benign\",\"eth:ethertype:ip:tcp\"],[\"benign\",\"eth:ethertype:ip:tcp:http:data-text-lines\"],[\"benign\",\"eth:ethertype:ip:tcp:http:data-text-lines\"],[\"benign\",\"eth:ethertype:ip:tcp:http:data-text-lines\"],[\"benign\",\"eth:ethertype:ip:tcp\"],[\"suspicious\",\"eth:ethertype:ip:tcp:http\"],[\"suspicious\",\"eth:ethertype:ip:tcp:http\"],[\"suspicious\",\"eth:ethertype:ip:tcp:http\"],[\"benign\",\"eth:ethertype:ip:tcp\"],[\"suspicious\",\"eth:ethertype:ip:tcp:http\"],[\"benign\",\"eth:ethertype:ip:tcp\"],[\"benign\",\"eth:ethertype:ip:tcp\"],[\"benign\",\"eth:ethertype:ip:tcp:http:data-text-lines\"],[\"benign\",\"eth:ethertype:ip:tcp:http:data-text-lines\"],[\"benign\",\"eth:ethertype:ip:tcp:http:data-text-lines\"],[\"benign\",\"eth:ethertype:ip:tcp:http\"],[\"benign\",\"eth:ethertype:ip:tcp:http:data-text-lines\"],[\"suspicious\",\"eth:ethertype:ip:tcp\"],[\"benign\",\"eth:ethertype:ip:tcp:http:data-text-lines\"],[\"suspicious\",\"eth:ethertype:ip:tcp\"],[\"benign\",\"eth:ethertype:ip:tcp\"],[\"benign\",\"eth:ethertype:ip:tcp:http:data-text-lines\"],[\"benign\",\"eth:ethertype:ip:tcp:http:data-text-lines\"],[\"benign\",\"eth:ethertype:ip:tcp:http\"],[\"benign\",\"eth:ethertype:ip:tcp:http:data-text-lines\"],[\"benign\",\"eth:ethertype:ip:tcp:http:data-text-lines\"],[\"benign\",\"eth:ethertype:ip:tcp\"],[\"benign\",\"eth:ethertype:ip:tcp\"],[\"benign\",\"eth:ethertype:ip:tcp\"],[\"benign\",\"eth:ethertype:ip:tcp\"],[\"benign\",\"eth:ethertype:ip:tcp:http:data-text-lines\"],[\"benign\",\"eth:ethertype:ip:tcp\"],[\"suspicious\",\"eth:ethertype:ip:tcp\"],[\"benign\",\"eth:ethertype:ip:tcp:http:data-text-lines\"],[\"suspicious\",\"eth:ethertype:ip:tcp:http:data-text-lines\"],[\"suspicious\",\"eth:ethertype:ip:tcp:http:data-text-lines\"],[\"suspicious\",\"eth:ethertype:ip:tcp\"],[\"suspicious\",\"eth:ethertype:ip:tcp:http\"],[\"suspicious\",\"eth:ethertype:ip:tcp:http\"],[\"benign\",\"eth:ethertype:ip:tcp:http\"],[\"suspicious\",\"eth:ethertype:ip:tcp\"],[\"benign\",\"eth:ethertype:ip:tcp:http:data-text-lines\"],[\"benign\",\"eth:ethertype:ip:tcp\"],[\"suspicious\",\"eth:ethertype:ip:tcp\"],[null,null],[null,null],[\"suspicious\",\"eth:ethertype:ip:tcp\"],[\"suspicious\",\"eth:ethertype:ip:tcp:http:data-text-lines\"],[\"suspicious\",\"eth:ethertype:ip:tcp\"],[\"suspicious\",\"eth:ethertype:ip:tcp\"],[\"suspicious\",\"eth:ethertype:ip:tcp\"],[\"suspicious\",\"eth:ethertype:ip:tcp:http\"],[\"suspicious\",\"eth:ethertype:ip:tcp:http\"],[\"suspicious\",\"eth:ethertype:ip:tcp\"],[\"suspicious\",\"eth:ethertype:ip:tcp\"],[\"suspicious\",\"eth:ethertype:ip:tcp\"],[\"suspicious\",\"eth:ethertype:ip:tcp:http:data-text-lines\"],[\"suspicious\",\"eth:ethertype:ip:tcp\"]],\"hovertemplate\":\"Time: %{x}\\u003cbr\\u003eCount: %{y}\\u003cbr\\u003eTCP Seq: 1\\u003cbr\\u003eAlert: %{customdata[1]}\\u003cbr\\u003eFrame Protocols: %{customdata[2]}\",\"legendgroup\":\"\",\"line\":{\"color\":\"#636efa\",\"dash\":\"solid\"},\"marker\":{\"symbol\":\"circle\"},\"mode\":\"lines\",\"name\":\"\",\"orientation\":\"v\",\"showlegend\":false,\"x\":[\"2023-06-04T11:23:00\",\"2023-06-04T11:24:00\",\"2023-06-04T11:25:00\",\"2023-06-04T11:26:00\",\"2023-06-04T11:27:00\",\"2023-06-04T11:28:00\",\"2023-06-04T11:29:00\",\"2023-06-04T11:30:00\",\"2023-06-04T11:31:00\",\"2023-06-04T11:32:00\",\"2023-06-04T11:33:00\",\"2023-06-04T11:34:00\",\"2023-06-04T11:35:00\",\"2023-06-04T11:36:00\",\"2023-06-04T11:37:00\",\"2023-06-04T11:38:00\",\"2023-06-04T11:39:00\",\"2023-06-04T11:40:00\",\"2023-06-04T11:41:00\",\"2023-06-04T11:42:00\",\"2023-06-04T11:43:00\",\"2023-06-04T11:44:00\",\"2023-06-04T11:45:00\",\"2023-06-04T11:46:00\",\"2023-06-04T11:47:00\",\"2023-06-04T11:48:00\",\"2023-06-04T11:49:00\",\"2023-06-04T11:50:00\",\"2023-06-04T11:51:00\",\"2023-06-04T11:52:00\",\"2023-06-04T11:53:00\",\"2023-06-04T11:54:00\",\"2023-06-04T11:55:00\",\"2023-06-04T11:56:00\",\"2023-06-04T11:57:00\",\"2023-06-04T11:58:00\",\"2023-06-04T11:59:00\",\"2023-06-04T12:00:00\",\"2023-06-04T12:01:00\",\"2023-06-04T12:02:00\",\"2023-06-04T12:03:00\",\"2023-06-04T12:04:00\",\"2023-06-04T12:05:00\",\"2023-06-04T12:06:00\",\"2023-06-04T12:07:00\",\"2023-06-04T12:08:00\",\"2023-06-04T12:09:00\",\"2023-06-04T12:10:00\",\"2023-06-04T12:11:00\",\"2023-06-04T12:12:00\",\"2023-06-04T12:13:00\",\"2023-06-04T12:14:00\",\"2023-06-04T12:15:00\",\"2023-06-04T12:16:00\",\"2023-06-04T12:17:00\",\"2023-06-04T12:18:00\",\"2023-06-04T12:19:00\",\"2023-06-04T12:20:00\",\"2023-06-04T12:21:00\",\"2023-06-04T12:22:00\",\"2023-06-04T12:23:00\",\"2023-06-04T12:24:00\",\"2023-06-04T12:25:00\",\"2023-06-04T12:26:00\",\"2023-06-04T12:27:00\",\"2023-06-04T12:28:00\",\"2023-06-04T12:29:00\",\"2023-06-04T12:30:00\",\"2023-06-04T12:31:00\",\"2023-06-04T12:32:00\",\"2023-06-04T12:33:00\",\"2023-06-04T12:34:00\",\"2023-06-04T12:35:00\",\"2023-06-04T12:36:00\",\"2023-06-04T12:37:00\",\"2023-06-04T12:38:00\",\"2023-06-04T12:39:00\",\"2023-06-04T12:40:00\",\"2023-06-04T12:41:00\",\"2023-06-04T12:42:00\",\"2023-06-04T12:43:00\",\"2023-06-04T12:44:00\",\"2023-06-04T12:45:00\",\"2023-06-04T12:46:00\",\"2023-06-04T12:47:00\",\"2023-06-04T12:48:00\",\"2023-06-04T12:49:00\",\"2023-06-04T12:50:00\",\"2023-06-04T12:51:00\",\"2023-06-04T12:52:00\"],\"xaxis\":\"x\",\"y\":[20,36,31918,582,801,530,1504,1410,1375,1381,1392,1318,1327,1352,1324,1324,1342,1373,1322,408,51,600,1961,2064,1844,2625,2180,3010,2203,2421,1995,2031,1751,83,85,89,92,98,86,57,78,69,81,81,84,83,76,97,92,84,75,210,94,84,82,82,88,79,82,63,119,100,87,82,102,160,170,133,15797,4013,31406,145,192,93,98,780,0,0,1167,7,5,8,17,104,693,11198,70,1428,7,11],\"yaxis\":\"y\",\"type\":\"scatter\"}],                        {\"template\":{\"data\":{\"histogram2dcontour\":[{\"type\":\"histogram2dcontour\",\"colorbar\":{\"outlinewidth\":0,\"ticks\":\"\"},\"colorscale\":[[0.0,\"#0d0887\"],[0.1111111111111111,\"#46039f\"],[0.2222222222222222,\"#7201a8\"],[0.3333333333333333,\"#9c179e\"],[0.4444444444444444,\"#bd3786\"],[0.5555555555555556,\"#d8576b\"],[0.6666666666666666,\"#ed7953\"],[0.7777777777777778,\"#fb9f3a\"],[0.8888888888888888,\"#fdca26\"],[1.0,\"#f0f921\"]]}],\"choropleth\":[{\"type\":\"choropleth\",\"colorbar\":{\"outlinewidth\":0,\"ticks\":\"\"}}],\"histogram2d\":[{\"type\":\"histogram2d\",\"colorbar\":{\"outlinewidth\":0,\"ticks\":\"\"},\"colorscale\":[[0.0,\"#0d0887\"],[0.1111111111111111,\"#46039f\"],[0.2222222222222222,\"#7201a8\"],[0.3333333333333333,\"#9c179e\"],[0.4444444444444444,\"#bd3786\"],[0.5555555555555556,\"#d8576b\"],[0.6666666666666666,\"#ed7953\"],[0.7777777777777778,\"#fb9f3a\"],[0.8888888888888888,\"#fdca26\"],[1.0,\"#f0f921\"]]}],\"heatmap\":[{\"type\":\"heatmap\",\"colorbar\":{\"outlinewidth\":0,\"ticks\":\"\"},\"colorscale\":[[0.0,\"#0d0887\"],[0.1111111111111111,\"#46039f\"],[0.2222222222222222,\"#7201a8\"],[0.3333333333333333,\"#9c179e\"],[0.4444444444444444,\"#bd3786\"],[0.5555555555555556,\"#d8576b\"],[0.6666666666666666,\"#ed7953\"],[0.7777777777777778,\"#fb9f3a\"],[0.8888888888888888,\"#fdca26\"],[1.0,\"#f0f921\"]]}],\"heatmapgl\":[{\"type\":\"heatmapgl\",\"colorbar\":{\"outlinewidth\":0,\"ticks\":\"\"},\"colorscale\":[[0.0,\"#0d0887\"],[0.1111111111111111,\"#46039f\"],[0.2222222222222222,\"#7201a8\"],[0.3333333333333333,\"#9c179e\"],[0.4444444444444444,\"#bd3786\"],[0.5555555555555556,\"#d8576b\"],[0.6666666666666666,\"#ed7953\"],[0.7777777777777778,\"#fb9f3a\"],[0.8888888888888888,\"#fdca26\"],[1.0,\"#f0f921\"]]}],\"contourcarpet\":[{\"type\":\"contourcarpet\",\"colorbar\":{\"outlinewidth\":0,\"ticks\":\"\"}}],\"contour\":[{\"type\":\"contour\",\"colorbar\":{\"outlinewidth\":0,\"ticks\":\"\"},\"colorscale\":[[0.0,\"#0d0887\"],[0.1111111111111111,\"#46039f\"],[0.2222222222222222,\"#7201a8\"],[0.3333333333333333,\"#9c179e\"],[0.4444444444444444,\"#bd3786\"],[0.5555555555555556,\"#d8576b\"],[0.6666666666666666,\"#ed7953\"],[0.7777777777777778,\"#fb9f3a\"],[0.8888888888888888,\"#fdca26\"],[1.0,\"#f0f921\"]]}],\"surface\":[{\"type\":\"surface\",\"colorbar\":{\"outlinewidth\":0,\"ticks\":\"\"},\"colorscale\":[[0.0,\"#0d0887\"],[0.1111111111111111,\"#46039f\"],[0.2222222222222222,\"#7201a8\"],[0.3333333333333333,\"#9c179e\"],[0.4444444444444444,\"#bd3786\"],[0.5555555555555556,\"#d8576b\"],[0.6666666666666666,\"#ed7953\"],[0.7777777777777778,\"#fb9f3a\"],[0.8888888888888888,\"#fdca26\"],[1.0,\"#f0f921\"]]}],\"mesh3d\":[{\"type\":\"mesh3d\",\"colorbar\":{\"outlinewidth\":0,\"ticks\":\"\"}}],\"scatter\":[{\"marker\":{\"line\":{\"color\":\"#283442\"}},\"type\":\"scatter\"}],\"parcoords\":[{\"type\":\"parcoords\",\"line\":{\"colorbar\":{\"outlinewidth\":0,\"ticks\":\"\"}}}],\"scatterpolargl\":[{\"type\":\"scatterpolargl\",\"marker\":{\"colorbar\":{\"outlinewidth\":0,\"ticks\":\"\"}}}],\"bar\":[{\"error_x\":{\"color\":\"#f2f5fa\"},\"error_y\":{\"color\":\"#f2f5fa\"},\"marker\":{\"line\":{\"color\":\"rgb(17,17,17)\",\"width\":0.5},\"pattern\":{\"fillmode\":\"overlay\",\"size\":10,\"solidity\":0.2}},\"type\":\"bar\"}],\"scattergeo\":[{\"type\":\"scattergeo\",\"marker\":{\"colorbar\":{\"outlinewidth\":0,\"ticks\":\"\"}}}],\"scatterpolar\":[{\"type\":\"scatterpolar\",\"marker\":{\"colorbar\":{\"outlinewidth\":0,\"ticks\":\"\"}}}],\"histogram\":[{\"marker\":{\"pattern\":{\"fillmode\":\"overlay\",\"size\":10,\"solidity\":0.2}},\"type\":\"histogram\"}],\"scattergl\":[{\"marker\":{\"line\":{\"color\":\"#283442\"}},\"type\":\"scattergl\"}],\"scatter3d\":[{\"type\":\"scatter3d\",\"line\":{\"colorbar\":{\"outlinewidth\":0,\"ticks\":\"\"}},\"marker\":{\"colorbar\":{\"outlinewidth\":0,\"ticks\":\"\"}}}],\"scattermapbox\":[{\"type\":\"scattermapbox\",\"marker\":{\"colorbar\":{\"outlinewidth\":0,\"ticks\":\"\"}}}],\"scatterternary\":[{\"type\":\"scatterternary\",\"marker\":{\"colorbar\":{\"outlinewidth\":0,\"ticks\":\"\"}}}],\"scattercarpet\":[{\"type\":\"scattercarpet\",\"marker\":{\"colorbar\":{\"outlinewidth\":0,\"ticks\":\"\"}}}],\"carpet\":[{\"aaxis\":{\"endlinecolor\":\"#A2B1C6\",\"gridcolor\":\"#506784\",\"linecolor\":\"#506784\",\"minorgridcolor\":\"#506784\",\"startlinecolor\":\"#A2B1C6\"},\"baxis\":{\"endlinecolor\":\"#A2B1C6\",\"gridcolor\":\"#506784\",\"linecolor\":\"#506784\",\"minorgridcolor\":\"#506784\",\"startlinecolor\":\"#A2B1C6\"},\"type\":\"carpet\"}],\"table\":[{\"cells\":{\"fill\":{\"color\":\"#506784\"},\"line\":{\"color\":\"rgb(17,17,17)\"}},\"header\":{\"fill\":{\"color\":\"#2a3f5f\"},\"line\":{\"color\":\"rgb(17,17,17)\"}},\"type\":\"table\"}],\"barpolar\":[{\"marker\":{\"line\":{\"color\":\"rgb(17,17,17)\",\"width\":0.5},\"pattern\":{\"fillmode\":\"overlay\",\"size\":10,\"solidity\":0.2}},\"type\":\"barpolar\"}],\"pie\":[{\"automargin\":true,\"type\":\"pie\"}]},\"layout\":{\"autotypenumbers\":\"strict\",\"colorway\":[\"#636efa\",\"#EF553B\",\"#00cc96\",\"#ab63fa\",\"#FFA15A\",\"#19d3f3\",\"#FF6692\",\"#B6E880\",\"#FF97FF\",\"#FECB52\"],\"font\":{\"color\":\"#f2f5fa\"},\"hovermode\":\"closest\",\"hoverlabel\":{\"align\":\"left\"},\"paper_bgcolor\":\"rgb(17,17,17)\",\"plot_bgcolor\":\"rgb(17,17,17)\",\"polar\":{\"bgcolor\":\"rgb(17,17,17)\",\"angularaxis\":{\"gridcolor\":\"#506784\",\"linecolor\":\"#506784\",\"ticks\":\"\"},\"radialaxis\":{\"gridcolor\":\"#506784\",\"linecolor\":\"#506784\",\"ticks\":\"\"}},\"ternary\":{\"bgcolor\":\"rgb(17,17,17)\",\"aaxis\":{\"gridcolor\":\"#506784\",\"linecolor\":\"#506784\",\"ticks\":\"\"},\"baxis\":{\"gridcolor\":\"#506784\",\"linecolor\":\"#506784\",\"ticks\":\"\"},\"caxis\":{\"gridcolor\":\"#506784\",\"linecolor\":\"#506784\",\"ticks\":\"\"}},\"coloraxis\":{\"colorbar\":{\"outlinewidth\":0,\"ticks\":\"\"}},\"colorscale\":{\"sequential\":[[0.0,\"#0d0887\"],[0.1111111111111111,\"#46039f\"],[0.2222222222222222,\"#7201a8\"],[0.3333333333333333,\"#9c179e\"],[0.4444444444444444,\"#bd3786\"],[0.5555555555555556,\"#d8576b\"],[0.6666666666666666,\"#ed7953\"],[0.7777777777777778,\"#fb9f3a\"],[0.8888888888888888,\"#fdca26\"],[1.0,\"#f0f921\"]],\"sequentialminus\":[[0.0,\"#0d0887\"],[0.1111111111111111,\"#46039f\"],[0.2222222222222222,\"#7201a8\"],[0.3333333333333333,\"#9c179e\"],[0.4444444444444444,\"#bd3786\"],[0.5555555555555556,\"#d8576b\"],[0.6666666666666666,\"#ed7953\"],[0.7777777777777778,\"#fb9f3a\"],[0.8888888888888888,\"#fdca26\"],[1.0,\"#f0f921\"]],\"diverging\":[[0,\"#8e0152\"],[0.1,\"#c51b7d\"],[0.2,\"#de77ae\"],[0.3,\"#f1b6da\"],[0.4,\"#fde0ef\"],[0.5,\"#f7f7f7\"],[0.6,\"#e6f5d0\"],[0.7,\"#b8e186\"],[0.8,\"#7fbc41\"],[0.9,\"#4d9221\"],[1,\"#276419\"]]},\"xaxis\":{\"gridcolor\":\"#283442\",\"linecolor\":\"#506784\",\"ticks\":\"\",\"title\":{\"standoff\":15},\"zerolinecolor\":\"#283442\",\"automargin\":true,\"zerolinewidth\":2},\"yaxis\":{\"gridcolor\":\"#283442\",\"linecolor\":\"#506784\",\"ticks\":\"\",\"title\":{\"standoff\":15},\"zerolinecolor\":\"#283442\",\"automargin\":true,\"zerolinewidth\":2},\"scene\":{\"xaxis\":{\"backgroundcolor\":\"rgb(17,17,17)\",\"gridcolor\":\"#506784\",\"linecolor\":\"#506784\",\"showbackground\":true,\"ticks\":\"\",\"zerolinecolor\":\"#C8D4E3\",\"gridwidth\":2},\"yaxis\":{\"backgroundcolor\":\"rgb(17,17,17)\",\"gridcolor\":\"#506784\",\"linecolor\":\"#506784\",\"showbackground\":true,\"ticks\":\"\",\"zerolinecolor\":\"#C8D4E3\",\"gridwidth\":2},\"zaxis\":{\"backgroundcolor\":\"rgb(17,17,17)\",\"gridcolor\":\"#506784\",\"linecolor\":\"#506784\",\"showbackground\":true,\"ticks\":\"\",\"zerolinecolor\":\"#C8D4E3\",\"gridwidth\":2}},\"shapedefaults\":{\"line\":{\"color\":\"#f2f5fa\"}},\"annotationdefaults\":{\"arrowcolor\":\"#f2f5fa\",\"arrowhead\":0,\"arrowwidth\":1},\"geo\":{\"bgcolor\":\"rgb(17,17,17)\",\"landcolor\":\"rgb(17,17,17)\",\"subunitcolor\":\"#506784\",\"showland\":true,\"showlakes\":true,\"lakecolor\":\"rgb(17,17,17)\"},\"title\":{\"x\":0.05},\"updatemenudefaults\":{\"bgcolor\":\"#506784\",\"borderwidth\":0},\"sliderdefaults\":{\"bgcolor\":\"#C8D4E3\",\"borderwidth\":1,\"bordercolor\":\"rgb(17,17,17)\",\"tickwidth\":0},\"mapbox\":{\"style\":\"dark\"}}},\"xaxis\":{\"anchor\":\"y\",\"domain\":[0.0,1.0],\"title\":{\"text\":\"frame.time\"}},\"yaxis\":{\"anchor\":\"x\",\"domain\":[0.0,1.0],\"title\":{\"text\":\"count\"}},\"legend\":{\"tracegroupgap\":0},\"title\":{\"text\":\"TCP Sequence Number 1 Occurrences Over Time\"}},                        {\"responsive\": true}                    ).then(function(){\n                            \nvar gd = document.getElementById('38667b14-f88f-473a-b915-90bdac29c857');\nvar x = new MutationObserver(function (mutations, observer) {{\n        var display = window.getComputedStyle(gd).display;\n        if (!display || display === 'none') {{\n            console.log([gd, 'removed!']);\n            Plotly.purge(gd);\n            observer.disconnect();\n        }}\n}});\n\n// Listen for the removal of the full notebook cells\nvar notebookContainer = gd.closest('#notebook-container');\nif (notebookContainer) {{\n    x.observe(notebookContainer, {childList: true});\n}}\n\n// Listen for the clearing of the current output cell\nvar outputEl = gd.closest('.output');\nif (outputEl) {{\n    x.observe(outputEl, {childList: true});\n}}\n\n                        })                };                });            </script>        </div>"
     },
     "metadata": {},
     "output_type": "display_data"
    }
   ],
   "source": [
    "fig = px.line(counts_over_time,\n",
    "              x='frame.time',\n",
    "              y='count',\n",
    "              hover_data={'count': True, 'alert': True, 'frame.protocols': True},\n",
    "              title='TCP Sequence Number 1 Occurrences Over Time')\n",
    "\n",
    "\n",
    "fig.update_traces(hovertemplate=\"Time: %{x}<br>Count: %{y}<br>TCP Seq: \" + str(specific_sequence_number) +\n",
    "                  \"<br>Alert: %{customdata[1]}<br>Frame Protocols: %{customdata[2]}\")\n",
    "\n",
    "fig.show()"
   ],
   "metadata": {
    "collapsed": false,
    "ExecuteTime": {
     "end_time": "2023-12-21T13:08:47.608334Z",
     "start_time": "2023-12-21T13:08:47.482231Z"
    }
   }
  },
  {
   "cell_type": "code",
   "execution_count": null,
   "outputs": [],
   "source": [],
   "metadata": {
    "collapsed": false
   }
  }
 ],
 "metadata": {
  "kernelspec": {
   "display_name": "Python 3",
   "language": "python",
   "name": "python3"
  },
  "language_info": {
   "codemirror_mode": {
    "name": "ipython",
    "version": 2
   },
   "file_extension": ".py",
   "mimetype": "text/x-python",
   "name": "python",
   "nbconvert_exporter": "python",
   "pygments_lexer": "ipython2",
   "version": "2.7.6"
  }
 },
 "nbformat": 4,
 "nbformat_minor": 0
}
