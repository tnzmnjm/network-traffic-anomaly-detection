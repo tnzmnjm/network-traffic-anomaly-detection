{
 "cells": [
  {
   "cell_type": "code",
   "execution_count": 16,
   "metadata": {
    "collapsed": true,
    "ExecuteTime": {
     "end_time": "2023-12-12T15:54:43.636394Z",
     "start_time": "2023-12-12T15:54:43.569480Z"
    }
   },
   "outputs": [],
   "source": [
    "import pandas as pd\n",
    "import joblib\n",
    "import plotly.express as px"
   ]
  },
  {
   "cell_type": "code",
   "execution_count": 13,
   "outputs": [],
   "source": [
    "\n",
    "filepath = \"../dailies/anomalous_df_if\"\n",
    "df_anomalous = joblib.load(filepath)"
   ],
   "metadata": {
    "collapsed": false,
    "ExecuteTime": {
     "end_time": "2023-12-12T15:53:25.324366Z",
     "start_time": "2023-12-12T15:53:24.772381Z"
    }
   }
  },
  {
   "cell_type": "code",
   "execution_count": 14,
   "outputs": [
    {
     "data": {
      "text/plain": "(400132, 74)"
     },
     "execution_count": 14,
     "metadata": {},
     "output_type": "execute_result"
    }
   ],
   "source": [
    "df_anomalous.shape"
   ],
   "metadata": {
    "collapsed": false,
    "ExecuteTime": {
     "end_time": "2023-12-12T15:53:36.422029Z",
     "start_time": "2023-12-12T15:53:36.415049Z"
    }
   }
  },
  {
   "cell_type": "code",
   "execution_count": 15,
   "outputs": [
    {
     "data": {
      "text/plain": "   frame.number  frame.len                 frame.time  frame.time_epoch  \\\n1       2765616       1266 2023-06-04 11:46:30.692656      1.685894e+09   \n4       2544724       1270 2023-06-04 11:45:50.803925      1.685894e+09   \n5       2717688       1514 2023-06-04 11:46:22.023191      1.685894e+09   \n6       5720271        646 2023-06-04 12:31:40.526404      1.685896e+09   \n7       3607496       1280 2023-06-04 11:49:37.150543      1.685894e+09   \n\n                                 frame.protocols            eth.src  \\\n1  eth:ethertype:ip:tcp:http:data-text-lines:xml  00:0c:29:8f:ca:0a   \n4  eth:ethertype:ip:tcp:http:data-text-lines:xml  00:0c:29:8f:ca:0a   \n5                           eth:ethertype:ip:tcp  00:0c:29:8f:ca:0a   \n6      eth:ethertype:ip:tcp:http:data-text-lines  00:0c:29:8f:ca:0a   \n7  eth:ethertype:ip:tcp:http:data-text-lines:xml  00:0c:29:8f:ca:0a   \n\n             eth.dst eth.type        ip.src        ip.dst  ...  \\\n1  00:0c:29:94:f6:85   0x0800  10.20.30.101  10.20.30.103  ...   \n4  00:0c:29:94:f6:85   0x0800  10.20.30.101  10.20.30.103  ...   \n5  00:0c:29:94:f6:85   0x0800  10.20.30.101  10.20.30.103  ...   \n6  00:0c:29:94:f6:85   0x0800  10.20.30.101  10.20.30.103  ...   \n7  00:0c:29:94:f6:85   0x0800  10.20.30.101  10.20.30.103  ...   \n\n   imap.request.command  imap.response ftp.request.command  ftp.request.arg  \\\n1                   NaN            NaN                 NaN              NaN   \n4                   NaN            NaN                 NaN              NaN   \n5                   NaN            NaN                 NaN              NaN   \n6                   NaN            NaN                 NaN              NaN   \n7                   NaN            NaN                 NaN              NaN   \n\n   ftp.response.code  ftp.response.arg ipv6.src ipv6.dst  ipv6.plen  \\\n1                NaN               NaN      NaN      NaN        NaN   \n4                NaN               NaN      NaN      NaN        NaN   \n5                NaN               NaN      NaN      NaN        NaN   \n6                NaN               NaN      NaN      NaN        NaN   \n7                NaN               NaN      NaN      NaN        NaN   \n\n        alert  \n1  suspicious  \n4  suspicious  \n5  suspicious  \n6  suspicious  \n7  suspicious  \n\n[5 rows x 74 columns]",
      "text/html": "<div>\n<style scoped>\n    .dataframe tbody tr th:only-of-type {\n        vertical-align: middle;\n    }\n\n    .dataframe tbody tr th {\n        vertical-align: top;\n    }\n\n    .dataframe thead th {\n        text-align: right;\n    }\n</style>\n<table border=\"1\" class=\"dataframe\">\n  <thead>\n    <tr style=\"text-align: right;\">\n      <th></th>\n      <th>frame.number</th>\n      <th>frame.len</th>\n      <th>frame.time</th>\n      <th>frame.time_epoch</th>\n      <th>frame.protocols</th>\n      <th>eth.src</th>\n      <th>eth.dst</th>\n      <th>eth.type</th>\n      <th>ip.src</th>\n      <th>ip.dst</th>\n      <th>...</th>\n      <th>imap.request.command</th>\n      <th>imap.response</th>\n      <th>ftp.request.command</th>\n      <th>ftp.request.arg</th>\n      <th>ftp.response.code</th>\n      <th>ftp.response.arg</th>\n      <th>ipv6.src</th>\n      <th>ipv6.dst</th>\n      <th>ipv6.plen</th>\n      <th>alert</th>\n    </tr>\n  </thead>\n  <tbody>\n    <tr>\n      <th>1</th>\n      <td>2765616</td>\n      <td>1266</td>\n      <td>2023-06-04 11:46:30.692656</td>\n      <td>1.685894e+09</td>\n      <td>eth:ethertype:ip:tcp:http:data-text-lines:xml</td>\n      <td>00:0c:29:8f:ca:0a</td>\n      <td>00:0c:29:94:f6:85</td>\n      <td>0x0800</td>\n      <td>10.20.30.101</td>\n      <td>10.20.30.103</td>\n      <td>...</td>\n      <td>NaN</td>\n      <td>NaN</td>\n      <td>NaN</td>\n      <td>NaN</td>\n      <td>NaN</td>\n      <td>NaN</td>\n      <td>NaN</td>\n      <td>NaN</td>\n      <td>NaN</td>\n      <td>suspicious</td>\n    </tr>\n    <tr>\n      <th>4</th>\n      <td>2544724</td>\n      <td>1270</td>\n      <td>2023-06-04 11:45:50.803925</td>\n      <td>1.685894e+09</td>\n      <td>eth:ethertype:ip:tcp:http:data-text-lines:xml</td>\n      <td>00:0c:29:8f:ca:0a</td>\n      <td>00:0c:29:94:f6:85</td>\n      <td>0x0800</td>\n      <td>10.20.30.101</td>\n      <td>10.20.30.103</td>\n      <td>...</td>\n      <td>NaN</td>\n      <td>NaN</td>\n      <td>NaN</td>\n      <td>NaN</td>\n      <td>NaN</td>\n      <td>NaN</td>\n      <td>NaN</td>\n      <td>NaN</td>\n      <td>NaN</td>\n      <td>suspicious</td>\n    </tr>\n    <tr>\n      <th>5</th>\n      <td>2717688</td>\n      <td>1514</td>\n      <td>2023-06-04 11:46:22.023191</td>\n      <td>1.685894e+09</td>\n      <td>eth:ethertype:ip:tcp</td>\n      <td>00:0c:29:8f:ca:0a</td>\n      <td>00:0c:29:94:f6:85</td>\n      <td>0x0800</td>\n      <td>10.20.30.101</td>\n      <td>10.20.30.103</td>\n      <td>...</td>\n      <td>NaN</td>\n      <td>NaN</td>\n      <td>NaN</td>\n      <td>NaN</td>\n      <td>NaN</td>\n      <td>NaN</td>\n      <td>NaN</td>\n      <td>NaN</td>\n      <td>NaN</td>\n      <td>suspicious</td>\n    </tr>\n    <tr>\n      <th>6</th>\n      <td>5720271</td>\n      <td>646</td>\n      <td>2023-06-04 12:31:40.526404</td>\n      <td>1.685896e+09</td>\n      <td>eth:ethertype:ip:tcp:http:data-text-lines</td>\n      <td>00:0c:29:8f:ca:0a</td>\n      <td>00:0c:29:94:f6:85</td>\n      <td>0x0800</td>\n      <td>10.20.30.101</td>\n      <td>10.20.30.103</td>\n      <td>...</td>\n      <td>NaN</td>\n      <td>NaN</td>\n      <td>NaN</td>\n      <td>NaN</td>\n      <td>NaN</td>\n      <td>NaN</td>\n      <td>NaN</td>\n      <td>NaN</td>\n      <td>NaN</td>\n      <td>suspicious</td>\n    </tr>\n    <tr>\n      <th>7</th>\n      <td>3607496</td>\n      <td>1280</td>\n      <td>2023-06-04 11:49:37.150543</td>\n      <td>1.685894e+09</td>\n      <td>eth:ethertype:ip:tcp:http:data-text-lines:xml</td>\n      <td>00:0c:29:8f:ca:0a</td>\n      <td>00:0c:29:94:f6:85</td>\n      <td>0x0800</td>\n      <td>10.20.30.101</td>\n      <td>10.20.30.103</td>\n      <td>...</td>\n      <td>NaN</td>\n      <td>NaN</td>\n      <td>NaN</td>\n      <td>NaN</td>\n      <td>NaN</td>\n      <td>NaN</td>\n      <td>NaN</td>\n      <td>NaN</td>\n      <td>NaN</td>\n      <td>suspicious</td>\n    </tr>\n  </tbody>\n</table>\n<p>5 rows × 74 columns</p>\n</div>"
     },
     "execution_count": 15,
     "metadata": {},
     "output_type": "execute_result"
    }
   ],
   "source": [
    "df_anomalous.head(5)"
   ],
   "metadata": {
    "collapsed": false,
    "ExecuteTime": {
     "end_time": "2023-12-12T15:54:05.807841Z",
     "start_time": "2023-12-12T15:54:05.779018Z"
    }
   }
  },
  {
   "cell_type": "code",
   "execution_count": 20,
   "outputs": [],
   "source": [
    "fig = px.scatter(df_anomalous,\n",
    "                 x='frame.time',\n",
    "                 y='tcp.len',\n",
    "                 color='frame.len',\n",
    "                 hover_data=['frame.number', 'frame.protocols', 'ip.len',\n",
    "                            'ip.src','ip.dst', 'tcp.srcport','tcp.dstport', 'http.host','ip.ttl'],\n",
    "                 title='Anomalous Packets: TCP Length Over Time Colored by Protocol',\n",
    "                 labels={'frame.time': 'Time of Packet Capture', 'tcp.len': 'TCP Length'})\n",
    "\n",
    "fig.update_layout(legend_title_text='Protocol')\n",
    "fig.show()"
   ],
   "metadata": {
    "collapsed": false,
    "ExecuteTime": {
     "end_time": "2023-12-12T16:51:53.934310Z",
     "start_time": "2023-12-12T16:51:40.763370Z"
    }
   }
  },
  {
   "cell_type": "code",
   "execution_count": null,
   "outputs": [],
   "source": [
    "fig = px.scatter(df_anomalous,\n",
    "                 x='frame.time',\n",
    "                 y='tcp.len',\n",
    "                 color='ip.src',\n",
    "                 hover_data=['frame.number', 'frame.protocols','ip.len',\n",
    "                            'ip.src','ip.dst', 'tcp.srcport','tcp.dstport', 'http.host'],\n",
    "                 title='Anomalous Packets: TCP Length Over Time Colored by Protocol',\n",
    "                 labels={'frame.time': 'Time of Packet Capture', 'tcp.len': 'TCP Length'})\n",
    "\n",
    "fig.update_layout(legend_title_text='ip.src')\n",
    "fig.show()"
   ],
   "metadata": {
    "collapsed": false,
    "is_executing": true
   }
  },
  {
   "cell_type": "code",
   "execution_count": null,
   "outputs": [],
   "source": [],
   "metadata": {
    "collapsed": false
   }
  }
 ],
 "metadata": {
  "kernelspec": {
   "display_name": "Python 3",
   "language": "python",
   "name": "python3"
  },
  "language_info": {
   "codemirror_mode": {
    "name": "ipython",
    "version": 2
   },
   "file_extension": ".py",
   "mimetype": "text/x-python",
   "name": "python",
   "nbconvert_exporter": "python",
   "pygments_lexer": "ipython2",
   "version": "2.7.6"
  }
 },
 "nbformat": 4,
 "nbformat_minor": 0
}
