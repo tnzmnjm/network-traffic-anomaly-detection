{
 "cells": [
  {
   "cell_type": "code",
   "execution_count": 1,
   "metadata": {
    "collapsed": true,
    "ExecuteTime": {
     "end_time": "2023-12-19T19:03:28.953938Z",
     "start_time": "2023-12-19T19:03:28.117727Z"
    }
   },
   "outputs": [],
   "source": [
    "import pandas as pd\n",
    "import numpy as np\n",
    "import plotly.express as px\n",
    "import matplotlib.pyplot as plt"
   ]
  },
  {
   "cell_type": "code",
   "execution_count": 2,
   "outputs": [],
   "source": [
    "def convert_to_int(x):\n",
    "    try:\n",
    "        if isinstance(x, str) or isinstance(x, float):\n",
    "            return int(x)\n",
    "        else:\n",
    "            return x\n",
    "    except ValueError:\n",
    "        return x"
   ],
   "metadata": {
    "collapsed": false,
    "ExecuteTime": {
     "end_time": "2023-12-19T19:03:29.743997Z",
     "start_time": "2023-12-19T19:03:29.731191Z"
    }
   }
  },
  {
   "cell_type": "code",
   "execution_count": 3,
   "outputs": [
    {
     "name": "stderr",
     "output_type": "stream",
     "text": [
      "/tmp/ipykernel_580636/2804803071.py:8: DtypeWarning: Columns (0,1,3,10,11,13,14,15,18,19,20,21,22,24,25,26,27,28,30,31,32,33,34,35,36,37,42,44,50,52,53,54,55,56,57,58,59,60,61,62,63,64,65,66,67,68,69,70,71,72) have mixed types. Specify dtype option on import or set low_memory=False.\n",
      "  df = pd.read_csv('../attack-sample-3m.csv')\n"
     ]
    }
   ],
   "source": [
    "# I would like to add more features. I will be focusing on tcp.seq :\n",
    "# 1. Large, unexplained jumps in TCP sequence numbers can indicate packet loss or reordering. This might happen due to network congestion, faulty hardware, or malicious activities disrupting normal traffic flow.\n",
    "# 2. If we observe packets with the same sequence number but different payload data, it could be indicative of a session hijacking attack or man-in-the-middle attack, where an attacker is trying to inject malicious packets into a legitimate TCP stream.\n",
    "# 3. Patterns like regular gaps or strange distributions in sequence numbers might suggest an attacker is trying to infer the state of a TCP session or manipulate TCP traffic.\n",
    "# 4. Anomalous sequence number patterns can also be associated with port scanning activities, where attackers send TCP packets to various ports to discover services they can exploit.\n",
    "# 5. In a SYN flooding attack, attackers exploit the TCP handshake mechanism by sending a large number of SYN packets with spoofed IP addresses. An unusual pattern in sequence numbers, combined with a high volume of SYN packets, could indicate such an attack.\n",
    "# 6. RST packets with sequence numbers that don't align with the expected flow of the ongoing TCP session might be an attempt to prematurely close a TCP connection, potentially indicating a denial-of-service attack or other malicious disruptions.\n",
    "df = pd.read_csv('../attack-sample-3m.csv')"
   ],
   "metadata": {
    "collapsed": false,
    "ExecuteTime": {
     "end_time": "2023-12-19T19:03:52.254701Z",
     "start_time": "2023-12-19T19:03:31.439433Z"
    }
   }
  },
  {
   "cell_type": "code",
   "execution_count": 4,
   "outputs": [
    {
     "data": {
      "text/plain": "Index(['frame.number', 'frame.len', 'frame.time', 'frame.time_epoch',\n       'frame.protocols', 'eth.src', 'eth.dst', 'eth.type', 'ip.src', 'ip.dst',\n       'ip.len', 'ip.ttl', 'ip.flags', 'ip.frag_offset', 'ip.proto',\n       'ip.version', 'ip.dsfield', 'ip.checksum', 'tcp.srcport', 'tcp.dstport',\n       'tcp.len', 'tcp.seq', 'tcp.ack', 'tcp.flags', 'tcp.flags.syn',\n       'tcp.flags.ack', 'tcp.flags.fin', 'tcp.flags.reset', 'tcp.window_size',\n       'tcp.checksum', 'tcp.stream', 'udp.srcport', 'udp.dstport',\n       'udp.length', 'udp.checksum', 'icmp.type', 'icmp.code', 'icmp.checksum',\n       'http.request.method', 'http.request.uri', 'http.request.version',\n       'http.request.full_uri', 'http.response.code', 'http.user_agent',\n       'http.content_length_header', 'http.content_type', 'http.cookie',\n       'http.host', 'http.referer', 'http.location', 'http.authorization',\n       'http.connection', 'dns.qry.name', 'dns.qry.type', 'dns.qry.class',\n       'dns.flags.response', 'dns.flags.recdesired', 'dns.flags.rcode',\n       'dns.resp.ttl', 'dns.resp.len', 'smtp.req.command',\n       'smtp.data.fragment', 'pop.request.command', 'pop.response',\n       'imap.request.command', 'imap.response', 'ftp.request.command',\n       'ftp.request.arg', 'ftp.response.code', 'ftp.response.arg', 'ipv6.src',\n       'ipv6.dst', 'ipv6.plen', 'alert'],\n      dtype='object')"
     },
     "execution_count": 4,
     "metadata": {},
     "output_type": "execute_result"
    }
   ],
   "source": [
    "df.columns"
   ],
   "metadata": {
    "collapsed": false,
    "ExecuteTime": {
     "end_time": "2023-12-19T19:04:11.423069Z",
     "start_time": "2023-12-19T19:04:11.411466Z"
    }
   }
  },
  {
   "cell_type": "code",
   "execution_count": 5,
   "outputs": [],
   "source": [
    "columns_to_keep = ['frame.number', 'frame.time', 'frame.protocols', 'tcp.seq', 'tcp.stream', 'tcp.srcport','tcp.dstport', 'udp.srcport', 'udp.dstport', 'tcp.flags.syn', 'tcp.flags.reset', 'ip.src', 'ip.dst']"
   ],
   "metadata": {
    "collapsed": false,
    "ExecuteTime": {
     "end_time": "2023-12-19T19:04:13.490783Z",
     "start_time": "2023-12-19T19:04:13.466201Z"
    }
   }
  },
  {
   "cell_type": "code",
   "execution_count": 6,
   "outputs": [
    {
     "data": {
      "text/plain": "(3000000, 13)"
     },
     "execution_count": 6,
     "metadata": {},
     "output_type": "execute_result"
    }
   ],
   "source": [
    "df = df[columns_to_keep]\n",
    "df.shape"
   ],
   "metadata": {
    "collapsed": false,
    "ExecuteTime": {
     "end_time": "2023-12-19T19:04:16.115674Z",
     "start_time": "2023-12-19T19:04:14.887637Z"
    }
   }
  },
  {
   "cell_type": "code",
   "execution_count": 7,
   "outputs": [
    {
     "name": "stdout",
     "output_type": "stream",
     "text": [
      "<class 'pandas.core.series.Series'>\n",
      "RangeIndex: 3000000 entries, 0 to 2999999\n",
      "Series name: tcp.seq\n",
      "Non-Null Count    Dtype \n",
      "--------------    ----- \n",
      "2996269 non-null  object\n",
      "dtypes: object(1)\n",
      "memory usage: 22.9+ MB\n"
     ]
    }
   ],
   "source": [
    "df['tcp.seq'].info()"
   ],
   "metadata": {
    "collapsed": false,
    "ExecuteTime": {
     "end_time": "2023-12-19T19:04:18.629398Z",
     "start_time": "2023-12-19T19:04:18.520737Z"
    }
   }
  },
  {
   "cell_type": "code",
   "execution_count": 8,
   "outputs": [
    {
     "data": {
      "text/plain": "0      95785.0\n1        588.0\n2          NaN\n3          0.0\n4        187.0\n5      11578.0\n6     112416.0\n7     161575.0\n8       1290.0\n9      59582.0\n10     13156.0\n11     12722.0\n12      5553.0\n13     28604.0\n14     21517.0\nName: tcp.seq, dtype: object"
     },
     "execution_count": 8,
     "metadata": {},
     "output_type": "execute_result"
    }
   ],
   "source": [
    "df['tcp.seq'].head(15)"
   ],
   "metadata": {
    "collapsed": false,
    "ExecuteTime": {
     "end_time": "2023-12-19T19:04:20.303457Z",
     "start_time": "2023-12-19T19:04:20.270169Z"
    }
   }
  },
  {
   "cell_type": "code",
   "execution_count": 9,
   "outputs": [
    {
     "data": {
      "text/plain": "tcp.seq\n1.0         146934\n0.0         104081\n1449.0       15276\n2897.0        1656\n3312.0         803\n             ...  \n276528.0         1\n833490.0         1\n329929.0         1\n187882.0         1\n348866.0         1\nName: count, Length: 292867, dtype: int64"
     },
     "execution_count": 9,
     "metadata": {},
     "output_type": "execute_result"
    }
   ],
   "source": [
    "df['tcp.seq'].value_counts()"
   ],
   "metadata": {
    "collapsed": false,
    "ExecuteTime": {
     "end_time": "2023-12-19T19:04:22.368561Z",
     "start_time": "2023-12-19T19:04:22.361539Z"
    }
   }
  },
  {
   "cell_type": "code",
   "execution_count": 10,
   "outputs": [
    {
     "data": {
      "text/plain": "        frame.number                           frame.time  \\\n2039808      5025081  Jun  4, 2023 11:54:48.903692000 EDT   \n2039809      3374184  Jun  4, 2023 11:48:50.351842000 EDT   \n2039810      3137260  Jun  4, 2023 11:48:00.518732000 EDT   \n2039811      1295432  Jun  4, 2023 11:35:55.144273000 EDT   \n2039812      4616984  Jun  4, 2023 11:52:59.232568000 EDT   \n...              ...                                  ...   \n2047995      1127451  Jun  4, 2023 11:34:42.752891000 EDT   \n2047996      5347165  Jun  4, 2023 12:08:21.131228000 EDT   \n2047997       900431  Jun  4, 2023 11:33:08.888339000 EDT   \n2047998      4676276  Jun  4, 2023 11:53:13.465266000 EDT   \n2047999      3748802  Jun  4, 2023 11:50:04.115721000 EDT   \n\n                                   frame.protocols tcp.seq tcp.stream  \\\n2039808                  eth:ethertype:ip:tcp:http    9681      89649   \n2039809                  eth:ethertype:ip:tcp:http   14443      82366   \n2039810                       eth:ethertype:ip:tcp    6283      81239   \n2039811                  eth:ethertype:ip:tcp:http    9331      73352   \n2039812                  eth:ethertype:ip:tcp:http   25165      87610   \n...                                            ...     ...        ...   \n2047995                  eth:ethertype:ip:tcp:http   11587      72529   \n2047996                       eth:ethertype:ip:tcp   86062      91192   \n2047997  eth:ethertype:ip:tcp:http:data-text-lines   28668      71419   \n2047998  eth:ethertype:ip:tcp:http:data-text-lines   95067      87980   \n2047999                       eth:ethertype:ip:tcp     317      83792   \n\n        tcp.srcport tcp.dstport udp.srcport udp.dstport tcp.flags.syn  \\\n2039808       59544          80         NaN         NaN             0   \n2039809       40352          80         NaN         NaN             0   \n2039810       56466          80         NaN         NaN             0   \n2039811       57504          80         NaN         NaN             0   \n2039812       40900          80         NaN         NaN             0   \n...             ...         ...         ...         ...           ...   \n2047995       45090          80         NaN         NaN             0   \n2047996          80       58622         NaN         NaN             0   \n2047997          80       57996         NaN         NaN             0   \n2047998          80       42164         NaN         NaN             0   \n2047999       41436          80         NaN         NaN             0   \n\n        tcp.flags.reset        ip.src        ip.dst  \n2039808               0  10.20.30.103  10.20.30.101  \n2039809               0  10.20.30.103  10.20.30.101  \n2039810               0  10.20.30.103  10.20.30.101  \n2039811               0  10.20.30.103  10.20.30.101  \n2039812               0  10.20.30.103  10.20.30.101  \n...                 ...           ...           ...  \n2047995               0  10.20.30.103  10.20.30.101  \n2047996               0  10.20.30.101  10.20.30.103  \n2047997               0  10.20.30.101  10.20.30.103  \n2047998               0  10.20.30.101  10.20.30.103  \n2047999               0  10.20.30.103  10.20.30.101  \n\n[8186 rows x 13 columns]",
      "text/html": "<div>\n<style scoped>\n    .dataframe tbody tr th:only-of-type {\n        vertical-align: middle;\n    }\n\n    .dataframe tbody tr th {\n        vertical-align: top;\n    }\n\n    .dataframe thead th {\n        text-align: right;\n    }\n</style>\n<table border=\"1\" class=\"dataframe\">\n  <thead>\n    <tr style=\"text-align: right;\">\n      <th></th>\n      <th>frame.number</th>\n      <th>frame.time</th>\n      <th>frame.protocols</th>\n      <th>tcp.seq</th>\n      <th>tcp.stream</th>\n      <th>tcp.srcport</th>\n      <th>tcp.dstport</th>\n      <th>udp.srcport</th>\n      <th>udp.dstport</th>\n      <th>tcp.flags.syn</th>\n      <th>tcp.flags.reset</th>\n      <th>ip.src</th>\n      <th>ip.dst</th>\n    </tr>\n  </thead>\n  <tbody>\n    <tr>\n      <th>2039808</th>\n      <td>5025081</td>\n      <td>Jun  4, 2023 11:54:48.903692000 EDT</td>\n      <td>eth:ethertype:ip:tcp:http</td>\n      <td>9681</td>\n      <td>89649</td>\n      <td>59544</td>\n      <td>80</td>\n      <td>NaN</td>\n      <td>NaN</td>\n      <td>0</td>\n      <td>0</td>\n      <td>10.20.30.103</td>\n      <td>10.20.30.101</td>\n    </tr>\n    <tr>\n      <th>2039809</th>\n      <td>3374184</td>\n      <td>Jun  4, 2023 11:48:50.351842000 EDT</td>\n      <td>eth:ethertype:ip:tcp:http</td>\n      <td>14443</td>\n      <td>82366</td>\n      <td>40352</td>\n      <td>80</td>\n      <td>NaN</td>\n      <td>NaN</td>\n      <td>0</td>\n      <td>0</td>\n      <td>10.20.30.103</td>\n      <td>10.20.30.101</td>\n    </tr>\n    <tr>\n      <th>2039810</th>\n      <td>3137260</td>\n      <td>Jun  4, 2023 11:48:00.518732000 EDT</td>\n      <td>eth:ethertype:ip:tcp</td>\n      <td>6283</td>\n      <td>81239</td>\n      <td>56466</td>\n      <td>80</td>\n      <td>NaN</td>\n      <td>NaN</td>\n      <td>0</td>\n      <td>0</td>\n      <td>10.20.30.103</td>\n      <td>10.20.30.101</td>\n    </tr>\n    <tr>\n      <th>2039811</th>\n      <td>1295432</td>\n      <td>Jun  4, 2023 11:35:55.144273000 EDT</td>\n      <td>eth:ethertype:ip:tcp:http</td>\n      <td>9331</td>\n      <td>73352</td>\n      <td>57504</td>\n      <td>80</td>\n      <td>NaN</td>\n      <td>NaN</td>\n      <td>0</td>\n      <td>0</td>\n      <td>10.20.30.103</td>\n      <td>10.20.30.101</td>\n    </tr>\n    <tr>\n      <th>2039812</th>\n      <td>4616984</td>\n      <td>Jun  4, 2023 11:52:59.232568000 EDT</td>\n      <td>eth:ethertype:ip:tcp:http</td>\n      <td>25165</td>\n      <td>87610</td>\n      <td>40900</td>\n      <td>80</td>\n      <td>NaN</td>\n      <td>NaN</td>\n      <td>0</td>\n      <td>0</td>\n      <td>10.20.30.103</td>\n      <td>10.20.30.101</td>\n    </tr>\n    <tr>\n      <th>...</th>\n      <td>...</td>\n      <td>...</td>\n      <td>...</td>\n      <td>...</td>\n      <td>...</td>\n      <td>...</td>\n      <td>...</td>\n      <td>...</td>\n      <td>...</td>\n      <td>...</td>\n      <td>...</td>\n      <td>...</td>\n      <td>...</td>\n    </tr>\n    <tr>\n      <th>2047995</th>\n      <td>1127451</td>\n      <td>Jun  4, 2023 11:34:42.752891000 EDT</td>\n      <td>eth:ethertype:ip:tcp:http</td>\n      <td>11587</td>\n      <td>72529</td>\n      <td>45090</td>\n      <td>80</td>\n      <td>NaN</td>\n      <td>NaN</td>\n      <td>0</td>\n      <td>0</td>\n      <td>10.20.30.103</td>\n      <td>10.20.30.101</td>\n    </tr>\n    <tr>\n      <th>2047996</th>\n      <td>5347165</td>\n      <td>Jun  4, 2023 12:08:21.131228000 EDT</td>\n      <td>eth:ethertype:ip:tcp</td>\n      <td>86062</td>\n      <td>91192</td>\n      <td>80</td>\n      <td>58622</td>\n      <td>NaN</td>\n      <td>NaN</td>\n      <td>0</td>\n      <td>0</td>\n      <td>10.20.30.101</td>\n      <td>10.20.30.103</td>\n    </tr>\n    <tr>\n      <th>2047997</th>\n      <td>900431</td>\n      <td>Jun  4, 2023 11:33:08.888339000 EDT</td>\n      <td>eth:ethertype:ip:tcp:http:data-text-lines</td>\n      <td>28668</td>\n      <td>71419</td>\n      <td>80</td>\n      <td>57996</td>\n      <td>NaN</td>\n      <td>NaN</td>\n      <td>0</td>\n      <td>0</td>\n      <td>10.20.30.101</td>\n      <td>10.20.30.103</td>\n    </tr>\n    <tr>\n      <th>2047998</th>\n      <td>4676276</td>\n      <td>Jun  4, 2023 11:53:13.465266000 EDT</td>\n      <td>eth:ethertype:ip:tcp:http:data-text-lines</td>\n      <td>95067</td>\n      <td>87980</td>\n      <td>80</td>\n      <td>42164</td>\n      <td>NaN</td>\n      <td>NaN</td>\n      <td>0</td>\n      <td>0</td>\n      <td>10.20.30.101</td>\n      <td>10.20.30.103</td>\n    </tr>\n    <tr>\n      <th>2047999</th>\n      <td>3748802</td>\n      <td>Jun  4, 2023 11:50:04.115721000 EDT</td>\n      <td>eth:ethertype:ip:tcp</td>\n      <td>317</td>\n      <td>83792</td>\n      <td>41436</td>\n      <td>80</td>\n      <td>NaN</td>\n      <td>NaN</td>\n      <td>0</td>\n      <td>0</td>\n      <td>10.20.30.103</td>\n      <td>10.20.30.101</td>\n    </tr>\n  </tbody>\n</table>\n<p>8186 rows × 13 columns</p>\n</div>"
     },
     "execution_count": 10,
     "metadata": {},
     "output_type": "execute_result"
    }
   ],
   "source": [
    "df.loc[df['tcp.seq'].apply(lambda x: not isinstance(x, float))]"
   ],
   "metadata": {
    "collapsed": false,
    "ExecuteTime": {
     "end_time": "2023-12-19T19:04:32.188486Z",
     "start_time": "2023-12-19T19:04:31.826579Z"
    }
   }
  },
  {
   "cell_type": "code",
   "execution_count": 11,
   "outputs": [],
   "source": [
    "df['tcp.seq'] = df['tcp.seq'].apply(convert_to_int)"
   ],
   "metadata": {
    "collapsed": false,
    "ExecuteTime": {
     "end_time": "2023-12-19T19:04:50.392792Z",
     "start_time": "2023-12-19T19:04:49.643330Z"
    }
   }
  },
  {
   "cell_type": "code",
   "execution_count": 12,
   "outputs": [
    {
     "data": {
      "text/plain": "        frame.number                           frame.time  \\\n2            6220814  Jun  4, 2023 12:49:03.684361000 EDT   \n821          5660535  Jun  4, 2023 12:31:19.537102000 EDT   \n2943         5302458  Jun  4, 2023 12:03:54.649791000 EDT   \n3480         5613249  Jun  4, 2023 12:27:47.429178000 EDT   \n3614         6053987  Jun  4, 2023 12:43:18.556629000 EDT   \n...              ...                                  ...   \n2992803      5310352  Jun  4, 2023 12:04:43.218403000 EDT   \n2993072      5814079  Jun  4, 2023 12:32:52.456929000 EDT   \n2996716      5958091  Jun  4, 2023 12:33:44.468790000 EDT   \n2998023      5568365  Jun  4, 2023 12:24:22.385555000 EDT   \n2998323      6055424  Jun  4, 2023 12:43:33.370702000 EDT   \n\n                    frame.protocols tcp.seq tcp.stream tcp.srcport  \\\n2          eth:ethertype:ip:udp:dns     NaN        NaN         NaN   \n821        eth:ethertype:ip:udp:dns     NaN        NaN         NaN   \n2943       eth:ethertype:ip:udp:dns     NaN        NaN         NaN   \n3480       eth:ethertype:ip:udp:dns     NaN        NaN         NaN   \n3614     eth:ethertype:ip:icmp:data     NaN        NaN         NaN   \n...                             ...     ...        ...         ...   \n2992803    eth:ethertype:ip:udp:dns     NaN        NaN         NaN   \n2993072  eth:ethertype:ip:icmp:data     NaN        NaN         NaN   \n2996716  eth:ethertype:ip:icmp:data     NaN        NaN         NaN   \n2998023  eth:ethertype:ip:icmp:data     NaN        NaN         NaN   \n2998323    eth:ethertype:ip:udp:dns     NaN        NaN         NaN   \n\n        tcp.dstport udp.srcport udp.dstport tcp.flags.syn tcp.flags.reset  \\\n2               NaN     43998.0        53.0           NaN             NaN   \n821             NaN     37982.0        53.0           NaN             NaN   \n2943            NaN     44776.0        53.0           NaN             NaN   \n3480            NaN     39117.0        53.0           NaN             NaN   \n3614            NaN         NaN         NaN           NaN             NaN   \n...             ...         ...         ...           ...             ...   \n2992803         NaN     58316.0        53.0           NaN             NaN   \n2993072         NaN         NaN         NaN           NaN             NaN   \n2996716         NaN         NaN         NaN           NaN             NaN   \n2998023         NaN         NaN         NaN           NaN             NaN   \n2998323         NaN     38632.0        53.0           NaN             NaN   \n\n               ip.src        ip.dst  \n2        10.20.30.103    10.20.30.1  \n821      10.20.30.103    10.20.30.1  \n2943     10.20.30.103    10.20.30.1  \n3480     10.20.30.103    10.20.30.1  \n3614     10.20.30.103  10.20.30.101  \n...               ...           ...  \n2992803  10.20.30.103    10.20.30.1  \n2993072  10.20.30.101  10.20.30.103  \n2996716  10.20.30.103  10.20.30.101  \n2998023  10.20.30.103  10.20.30.101  \n2998323  10.20.30.103    10.20.30.1  \n\n[3732 rows x 13 columns]",
      "text/html": "<div>\n<style scoped>\n    .dataframe tbody tr th:only-of-type {\n        vertical-align: middle;\n    }\n\n    .dataframe tbody tr th {\n        vertical-align: top;\n    }\n\n    .dataframe thead th {\n        text-align: right;\n    }\n</style>\n<table border=\"1\" class=\"dataframe\">\n  <thead>\n    <tr style=\"text-align: right;\">\n      <th></th>\n      <th>frame.number</th>\n      <th>frame.time</th>\n      <th>frame.protocols</th>\n      <th>tcp.seq</th>\n      <th>tcp.stream</th>\n      <th>tcp.srcport</th>\n      <th>tcp.dstport</th>\n      <th>udp.srcport</th>\n      <th>udp.dstport</th>\n      <th>tcp.flags.syn</th>\n      <th>tcp.flags.reset</th>\n      <th>ip.src</th>\n      <th>ip.dst</th>\n    </tr>\n  </thead>\n  <tbody>\n    <tr>\n      <th>2</th>\n      <td>6220814</td>\n      <td>Jun  4, 2023 12:49:03.684361000 EDT</td>\n      <td>eth:ethertype:ip:udp:dns</td>\n      <td>NaN</td>\n      <td>NaN</td>\n      <td>NaN</td>\n      <td>NaN</td>\n      <td>43998.0</td>\n      <td>53.0</td>\n      <td>NaN</td>\n      <td>NaN</td>\n      <td>10.20.30.103</td>\n      <td>10.20.30.1</td>\n    </tr>\n    <tr>\n      <th>821</th>\n      <td>5660535</td>\n      <td>Jun  4, 2023 12:31:19.537102000 EDT</td>\n      <td>eth:ethertype:ip:udp:dns</td>\n      <td>NaN</td>\n      <td>NaN</td>\n      <td>NaN</td>\n      <td>NaN</td>\n      <td>37982.0</td>\n      <td>53.0</td>\n      <td>NaN</td>\n      <td>NaN</td>\n      <td>10.20.30.103</td>\n      <td>10.20.30.1</td>\n    </tr>\n    <tr>\n      <th>2943</th>\n      <td>5302458</td>\n      <td>Jun  4, 2023 12:03:54.649791000 EDT</td>\n      <td>eth:ethertype:ip:udp:dns</td>\n      <td>NaN</td>\n      <td>NaN</td>\n      <td>NaN</td>\n      <td>NaN</td>\n      <td>44776.0</td>\n      <td>53.0</td>\n      <td>NaN</td>\n      <td>NaN</td>\n      <td>10.20.30.103</td>\n      <td>10.20.30.1</td>\n    </tr>\n    <tr>\n      <th>3480</th>\n      <td>5613249</td>\n      <td>Jun  4, 2023 12:27:47.429178000 EDT</td>\n      <td>eth:ethertype:ip:udp:dns</td>\n      <td>NaN</td>\n      <td>NaN</td>\n      <td>NaN</td>\n      <td>NaN</td>\n      <td>39117.0</td>\n      <td>53.0</td>\n      <td>NaN</td>\n      <td>NaN</td>\n      <td>10.20.30.103</td>\n      <td>10.20.30.1</td>\n    </tr>\n    <tr>\n      <th>3614</th>\n      <td>6053987</td>\n      <td>Jun  4, 2023 12:43:18.556629000 EDT</td>\n      <td>eth:ethertype:ip:icmp:data</td>\n      <td>NaN</td>\n      <td>NaN</td>\n      <td>NaN</td>\n      <td>NaN</td>\n      <td>NaN</td>\n      <td>NaN</td>\n      <td>NaN</td>\n      <td>NaN</td>\n      <td>10.20.30.103</td>\n      <td>10.20.30.101</td>\n    </tr>\n    <tr>\n      <th>...</th>\n      <td>...</td>\n      <td>...</td>\n      <td>...</td>\n      <td>...</td>\n      <td>...</td>\n      <td>...</td>\n      <td>...</td>\n      <td>...</td>\n      <td>...</td>\n      <td>...</td>\n      <td>...</td>\n      <td>...</td>\n      <td>...</td>\n    </tr>\n    <tr>\n      <th>2992803</th>\n      <td>5310352</td>\n      <td>Jun  4, 2023 12:04:43.218403000 EDT</td>\n      <td>eth:ethertype:ip:udp:dns</td>\n      <td>NaN</td>\n      <td>NaN</td>\n      <td>NaN</td>\n      <td>NaN</td>\n      <td>58316.0</td>\n      <td>53.0</td>\n      <td>NaN</td>\n      <td>NaN</td>\n      <td>10.20.30.103</td>\n      <td>10.20.30.1</td>\n    </tr>\n    <tr>\n      <th>2993072</th>\n      <td>5814079</td>\n      <td>Jun  4, 2023 12:32:52.456929000 EDT</td>\n      <td>eth:ethertype:ip:icmp:data</td>\n      <td>NaN</td>\n      <td>NaN</td>\n      <td>NaN</td>\n      <td>NaN</td>\n      <td>NaN</td>\n      <td>NaN</td>\n      <td>NaN</td>\n      <td>NaN</td>\n      <td>10.20.30.101</td>\n      <td>10.20.30.103</td>\n    </tr>\n    <tr>\n      <th>2996716</th>\n      <td>5958091</td>\n      <td>Jun  4, 2023 12:33:44.468790000 EDT</td>\n      <td>eth:ethertype:ip:icmp:data</td>\n      <td>NaN</td>\n      <td>NaN</td>\n      <td>NaN</td>\n      <td>NaN</td>\n      <td>NaN</td>\n      <td>NaN</td>\n      <td>NaN</td>\n      <td>NaN</td>\n      <td>10.20.30.103</td>\n      <td>10.20.30.101</td>\n    </tr>\n    <tr>\n      <th>2998023</th>\n      <td>5568365</td>\n      <td>Jun  4, 2023 12:24:22.385555000 EDT</td>\n      <td>eth:ethertype:ip:icmp:data</td>\n      <td>NaN</td>\n      <td>NaN</td>\n      <td>NaN</td>\n      <td>NaN</td>\n      <td>NaN</td>\n      <td>NaN</td>\n      <td>NaN</td>\n      <td>NaN</td>\n      <td>10.20.30.103</td>\n      <td>10.20.30.101</td>\n    </tr>\n    <tr>\n      <th>2998323</th>\n      <td>6055424</td>\n      <td>Jun  4, 2023 12:43:33.370702000 EDT</td>\n      <td>eth:ethertype:ip:udp:dns</td>\n      <td>NaN</td>\n      <td>NaN</td>\n      <td>NaN</td>\n      <td>NaN</td>\n      <td>38632.0</td>\n      <td>53.0</td>\n      <td>NaN</td>\n      <td>NaN</td>\n      <td>10.20.30.103</td>\n      <td>10.20.30.1</td>\n    </tr>\n  </tbody>\n</table>\n<p>3732 rows × 13 columns</p>\n</div>"
     },
     "execution_count": 12,
     "metadata": {},
     "output_type": "execute_result"
    }
   ],
   "source": [
    "df.loc[df['tcp.seq'].apply(lambda x: not isinstance(x, int))]"
   ],
   "metadata": {
    "collapsed": false,
    "ExecuteTime": {
     "end_time": "2023-12-19T19:05:20.222666Z",
     "start_time": "2023-12-19T19:05:19.861526Z"
    }
   }
  },
  {
   "cell_type": "code",
   "execution_count": 13,
   "outputs": [],
   "source": [
    "df = df.dropna(subset = ['tcp.seq'])"
   ],
   "metadata": {
    "collapsed": false,
    "ExecuteTime": {
     "end_time": "2023-12-19T19:05:38.719408Z",
     "start_time": "2023-12-19T19:05:38.074177Z"
    }
   }
  },
  {
   "cell_type": "code",
   "execution_count": 14,
   "outputs": [
    {
     "data": {
      "text/plain": "         frame.number  frame.time  frame.protocols  tcp.seq  tcp.stream  \\\n2042160  frame.number  frame.time  frame.protocols  tcp.seq  tcp.stream   \n\n         tcp.srcport  tcp.dstport  udp.srcport  udp.dstport  tcp.flags.syn  \\\n2042160  tcp.srcport  tcp.dstport  udp.srcport  udp.dstport  tcp.flags.syn   \n\n         tcp.flags.reset  ip.src  ip.dst  \n2042160  tcp.flags.reset  ip.src  ip.dst  ",
      "text/html": "<div>\n<style scoped>\n    .dataframe tbody tr th:only-of-type {\n        vertical-align: middle;\n    }\n\n    .dataframe tbody tr th {\n        vertical-align: top;\n    }\n\n    .dataframe thead th {\n        text-align: right;\n    }\n</style>\n<table border=\"1\" class=\"dataframe\">\n  <thead>\n    <tr style=\"text-align: right;\">\n      <th></th>\n      <th>frame.number</th>\n      <th>frame.time</th>\n      <th>frame.protocols</th>\n      <th>tcp.seq</th>\n      <th>tcp.stream</th>\n      <th>tcp.srcport</th>\n      <th>tcp.dstport</th>\n      <th>udp.srcport</th>\n      <th>udp.dstport</th>\n      <th>tcp.flags.syn</th>\n      <th>tcp.flags.reset</th>\n      <th>ip.src</th>\n      <th>ip.dst</th>\n    </tr>\n  </thead>\n  <tbody>\n    <tr>\n      <th>2042160</th>\n      <td>frame.number</td>\n      <td>frame.time</td>\n      <td>frame.protocols</td>\n      <td>tcp.seq</td>\n      <td>tcp.stream</td>\n      <td>tcp.srcport</td>\n      <td>tcp.dstport</td>\n      <td>udp.srcport</td>\n      <td>udp.dstport</td>\n      <td>tcp.flags.syn</td>\n      <td>tcp.flags.reset</td>\n      <td>ip.src</td>\n      <td>ip.dst</td>\n    </tr>\n  </tbody>\n</table>\n</div>"
     },
     "execution_count": 14,
     "metadata": {},
     "output_type": "execute_result"
    }
   ],
   "source": [
    "df.loc[df['tcp.seq'].apply(lambda x: not isinstance(x, int))]"
   ],
   "metadata": {
    "collapsed": false,
    "ExecuteTime": {
     "end_time": "2023-12-19T19:05:49.497443Z",
     "start_time": "2023-12-19T19:05:49.122712Z"
    }
   }
  },
  {
   "cell_type": "code",
   "execution_count": 15,
   "outputs": [],
   "source": [
    "df = df[df['tcp.seq'] != 'tcp.seq']"
   ],
   "metadata": {
    "collapsed": false,
    "ExecuteTime": {
     "end_time": "2023-12-19T19:06:28.790474Z",
     "start_time": "2023-12-19T19:06:28.394106Z"
    }
   }
  },
  {
   "cell_type": "code",
   "execution_count": null,
   "outputs": [],
   "source": [
    "# # I would like to see the distribution of this feature:\n",
    "# fig = px.histogram(df, x='tcp.seq',title='Distribution of TCP Sequence Numbers' )\n",
    "\n",
    "# fig.update_layout(\n",
    "#     xaxis_title='TCP Sequence Number',\n",
    "#     yaxis_title='Frequency',\n",
    "#     bargap=0.2  # Adjust the gap between bars\n",
    "# )\n",
    "\n",
    "# # Show the plot\n",
    "# fig.show()"
   ],
   "metadata": {
    "collapsed": false
   }
  },
  {
   "cell_type": "code",
   "execution_count": 17,
   "outputs": [
    {
     "data": {
      "text/plain": "<Figure size 640x480 with 1 Axes>",
      "image/png": "[encoded data removed]"
     },
     "metadata": {},
     "output_type": "display_data"
    }
   ],
   "source": [
    "plt.hist(df['tcp.seq'], bins=10, edgecolor='black')\n",
    "\n",
    "\n",
    "plt.title('Distribution of TCP Sequence Numbers')\n",
    "plt.xlabel('TCP Sequence Number')\n",
    "plt.ylabel('Frequency')\n",
    "\n",
    "plt.style.use('ggplot')\n",
    "\n",
    "# Show the plot\n",
    "plt.show()"
   ],
   "metadata": {
    "collapsed": false,
    "ExecuteTime": {
     "end_time": "2023-12-19T19:07:00.690612Z",
     "start_time": "2023-12-19T19:06:59.962404Z"
    }
   }
  },
  {
   "cell_type": "code",
   "execution_count": null,
   "outputs": [],
   "source": [],
   "metadata": {
    "collapsed": false
   }
  }
 ],
 "metadata": {
  "kernelspec": {
   "display_name": "Python 3",
   "language": "python",
   "name": "python3"
  },
  "language_info": {
   "codemirror_mode": {
    "name": "ipython",
    "version": 2
   },
   "file_extension": ".py",
   "mimetype": "text/x-python",
   "name": "python",
   "nbconvert_exporter": "python",
   "pygments_lexer": "ipython2",
   "version": "2.7.6"
  }
 },
 "nbformat": 4,
 "nbformat_minor": 0
}
