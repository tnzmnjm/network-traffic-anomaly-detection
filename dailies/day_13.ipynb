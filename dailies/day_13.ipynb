{
 "cells": [
  {
   "cell_type": "code",
   "execution_count": 1,
   "id": "ecba92b7-438d-4912-861c-9e2d653004e3",
   "metadata": {},
   "outputs": [],
   "source": [
    "import pandas as pd\n",
    "import joblib\n",
    "import plotly.express as px"
   ]
  },
  {
   "cell_type": "code",
   "execution_count": 2,
   "id": "0063adbb-68c2-4fa3-b1b2-fb923aca004f",
   "metadata": {},
   "outputs": [],
   "source": [
    "filepath = \"anomalous_df_if\"\n",
    "df_anomalous = joblib.load(filepath)"
   ]
  },
  {
   "cell_type": "code",
   "execution_count": 3,
   "id": "a4d92539-769e-4487-af57-252a6e520f25",
   "metadata": {},
   "outputs": [
    {
     "data": {
      "text/plain": [
       "count    400132.000000\n",
       "mean        998.052265\n",
       "std         505.494892\n",
       "min          70.000000\n",
       "25%         474.000000\n",
       "50%        1272.000000\n",
       "75%        1514.000000\n",
       "max        1514.000000\n",
       "Name: frame.len, dtype: float64"
      ]
     },
     "execution_count": 3,
     "metadata": {},
     "output_type": "execute_result"
    }
   ],
   "source": [
    "df_anomalous['frame.len'].describe()"
   ]
  },
  {
   "cell_type": "code",
   "execution_count": 4,
   "id": "221f6eba-92e2-4eb8-b495-ce7cac36e870",
   "metadata": {},
   "outputs": [
    {
     "data": {
      "text/plain": [
       "count     400132\n",
       "unique         1\n",
       "top       0x0800\n",
       "freq      400132\n",
       "Name: eth.type, dtype: object"
      ]
     },
     "execution_count": 4,
     "metadata": {},
     "output_type": "execute_result"
    }
   ],
   "source": [
    "df_anomalous['eth.type'].describe()"
   ]
  },
  {
   "cell_type": "code",
   "execution_count": 5,
   "id": "ee4a3863-9e11-4d1e-824c-6d5a7e71938e",
   "metadata": {},
   "outputs": [
    {
     "data": {
      "text/plain": [
       "count                400132\n",
       "unique                    3\n",
       "top       00:0c:29:8f:ca:0a\n",
       "freq                 286322\n",
       "Name: eth.src, dtype: object"
      ]
     },
     "execution_count": 5,
     "metadata": {},
     "output_type": "execute_result"
    }
   ],
   "source": [
    "df_anomalous['eth.src'].describe()"
   ]
  },
  {
   "cell_type": "code",
   "execution_count": 6,
   "id": "60001da8-f391-4ded-9326-59390d6a07a8",
   "metadata": {},
   "outputs": [
    {
     "data": {
      "text/plain": [
       "count                400132\n",
       "unique                    3\n",
       "top       00:0c:29:94:f6:85\n",
       "freq                 286084\n",
       "Name: eth.dst, dtype: object"
      ]
     },
     "execution_count": 6,
     "metadata": {},
     "output_type": "execute_result"
    }
   ],
   "source": [
    "df_anomalous['eth.dst'].describe()"
   ]
  },
  {
   "cell_type": "code",
   "execution_count": 7,
   "id": "14939c29-dae8-4e1d-938e-b9757cf41f5d",
   "metadata": {},
   "outputs": [
    {
     "data": {
      "text/plain": [
       "count    400132.000000\n",
       "mean        984.052265\n",
       "std         505.494892\n",
       "min          56.000000\n",
       "25%         460.000000\n",
       "50%        1258.000000\n",
       "75%        1500.000000\n",
       "max        1500.000000\n",
       "Name: ip.len, dtype: float64"
      ]
     },
     "execution_count": 7,
     "metadata": {},
     "output_type": "execute_result"
    }
   ],
   "source": [
    "df_anomalous['ip.len'].describe()"
   ]
  },
  {
   "cell_type": "code",
   "execution_count": 8,
   "id": "1c7a0ff0-ab80-4986-aa51-c06d48a0f6ce",
   "metadata": {},
   "outputs": [
    {
     "data": {
      "text/plain": [
       "count    400132.000000\n",
       "mean         64.025432\n",
       "std           1.275531\n",
       "min          64.000000\n",
       "25%          64.000000\n",
       "50%          64.000000\n",
       "75%          64.000000\n",
       "max         128.000000\n",
       "Name: ip.ttl, dtype: float64"
      ]
     },
     "execution_count": 8,
     "metadata": {},
     "output_type": "execute_result"
    }
   ],
   "source": [
    "df_anomalous['ip.ttl'].describe()"
   ]
  },
  {
   "cell_type": "code",
   "execution_count": 9,
   "id": "e6793f8d-9305-4897-b295-114290577d82",
   "metadata": {},
   "outputs": [
    {
     "data": {
      "text/plain": [
       "count     400132\n",
       "unique         1\n",
       "top         0x02\n",
       "freq      400132\n",
       "Name: ip.flags, dtype: object"
      ]
     },
     "execution_count": 9,
     "metadata": {},
     "output_type": "execute_result"
    }
   ],
   "source": [
    "df_anomalous['ip.flags'].describe()"
   ]
  },
  {
   "cell_type": "code",
   "execution_count": 10,
   "id": "8baeeffd-47f4-4082-bf95-1d8e14a36c8a",
   "metadata": {},
   "outputs": [
    {
     "data": {
      "text/plain": [
       "count    400132.0\n",
       "mean          0.0\n",
       "std           0.0\n",
       "min           0.0\n",
       "25%           0.0\n",
       "50%           0.0\n",
       "75%           0.0\n",
       "max           0.0\n",
       "Name: ip.frag_offset, dtype: float64"
      ]
     },
     "execution_count": 10,
     "metadata": {},
     "output_type": "execute_result"
    }
   ],
   "source": [
    "df_anomalous['ip.frag_offset'].describe()"
   ]
  },
  {
   "cell_type": "code",
   "execution_count": 11,
   "id": "a9af2f84-844f-4663-82cf-c324da9f4169",
   "metadata": {},
   "outputs": [
    {
     "data": {
      "text/plain": [
       "count    400132.0\n",
       "mean          6.0\n",
       "std           0.0\n",
       "min           6.0\n",
       "25%           6.0\n",
       "50%           6.0\n",
       "75%           6.0\n",
       "max           6.0\n",
       "Name: ip.proto, dtype: float64"
      ]
     },
     "execution_count": 11,
     "metadata": {},
     "output_type": "execute_result"
    }
   ],
   "source": [
    "df_anomalous['ip.proto'].describe()"
   ]
  },
  {
   "cell_type": "code",
   "execution_count": 14,
   "id": "075a9a6a-c444-4ca0-953a-849120d32783",
   "metadata": {},
   "outputs": [
    {
     "data": {
      "text/plain": [
       "tcp.srcport\n",
       "80.0       286273\n",
       "38726.0        97\n",
       "50056.0        88\n",
       "57542.0        84\n",
       "47110.0        74\n",
       "            ...  \n",
       "53664.0         1\n",
       "57848.0         1\n",
       "46086.0         1\n",
       "54286.0         1\n",
       "43346.0         1\n",
       "Name: count, Length: 9378, dtype: int64"
      ]
     },
     "execution_count": 14,
     "metadata": {},
     "output_type": "execute_result"
    }
   ],
   "source": [
    "df_anomalous['tcp.srcport'].value_counts()"
   ]
  },
  {
   "cell_type": "code",
   "execution_count": 15,
   "id": "0db52aee-be9b-4358-b52c-68629b75e648",
   "metadata": {},
   "outputs": [
    {
     "data": {
      "text/plain": [
       "tcp.dstport\n",
       "80.0       113779\n",
       "34310.0      1539\n",
       "54454.0       961\n",
       "41118.0       574\n",
       "42040.0       548\n",
       "            ...  \n",
       "39519.0         1\n",
       "34956.0         1\n",
       "40237.0         1\n",
       "35994.0         1\n",
       "59864.0         1\n",
       "Name: count, Length: 10632, dtype: int64"
      ]
     },
     "execution_count": 15,
     "metadata": {},
     "output_type": "execute_result"
    }
   ],
   "source": [
    "df_anomalous['tcp.dstport'].value_counts()"
   ]
  },
  {
   "cell_type": "code",
   "execution_count": 16,
   "id": "533401cc-ea4f-4101-bb04-a96337204edd",
   "metadata": {},
   "outputs": [
    {
     "data": {
      "text/plain": [
       "tcp.flags\n",
       "0x0018    261247\n",
       "0x0010    138879\n",
       "0x0019         6\n",
       "Name: count, dtype: int64"
      ]
     },
     "execution_count": 16,
     "metadata": {},
     "output_type": "execute_result"
    }
   ],
   "source": [
    "df_anomalous['tcp.flags'].value_counts()"
   ]
  },
  {
   "cell_type": "code",
   "execution_count": null,
   "id": "c1917da2-92f0-4ffe-81d3-316ba1b7f725",
   "metadata": {},
   "outputs": [],
   "source": [
    "# 0x0010 --> ACK\n",
    "# 0x0018 --> PSH/ACK\n",
    "# 0x0019 --> FIN/PSH/ACK"
   ]
  },
  {
   "cell_type": "code",
   "execution_count": 17,
   "id": "1e476af6-7082-40cc-a694-6d1209d1720a",
   "metadata": {},
   "outputs": [
    {
     "data": {
      "text/plain": [
       "tcp.flags.reset\n",
       "0.0    400132\n",
       "Name: count, dtype: int64"
      ]
     },
     "execution_count": 17,
     "metadata": {},
     "output_type": "execute_result"
    }
   ],
   "source": [
    "df_anomalous['tcp.flags.reset'].value_counts()"
   ]
  },
  {
   "cell_type": "code",
   "execution_count": 18,
   "id": "0485f400-9af7-4429-8bce-1a8c83e19ee0",
   "metadata": {},
   "outputs": [
    {
     "data": {
      "text/plain": [
       "tcp.window_size\n",
       "64128.0     130585\n",
       "64512.0     103359\n",
       "6912.0        4155\n",
       "8704.0        3646\n",
       "7936.0        3350\n",
       "             ...  \n",
       "537600.0         1\n",
       "524288.0         1\n",
       "421888.0         1\n",
       "580608.0         1\n",
       "77120.0          1\n",
       "Name: count, Length: 1348, dtype: int64"
      ]
     },
     "execution_count": 18,
     "metadata": {},
     "output_type": "execute_result"
    }
   ],
   "source": [
    "df_anomalous['tcp.window_size'].value_counts()"
   ]
  },
  {
   "cell_type": "code",
   "execution_count": 22,
   "id": "ffea92eb-32bf-4ba5-aef2-3f8c5938aa84",
   "metadata": {},
   "outputs": [
    {
     "data": {
      "text/plain": [
       "Series([], Name: count, dtype: int64)"
      ]
     },
     "execution_count": 22,
     "metadata": {},
     "output_type": "execute_result"
    }
   ],
   "source": [
    "df_anomalous['icmp.type'].value_counts()"
   ]
  },
  {
   "cell_type": "code",
   "execution_count": 23,
   "id": "2b93239b-4ab8-4d8d-8a84-7d2380725f8f",
   "metadata": {},
   "outputs": [
    {
     "data": {
      "text/plain": [
       "http.request.method\n",
       "GET     93447\n",
       "POST    13677\n",
       "PUT        14\n",
       "HEAD        1\n",
       "Name: count, dtype: int64"
      ]
     },
     "execution_count": 23,
     "metadata": {},
     "output_type": "execute_result"
    }
   ],
   "source": [
    "df_anomalous['http.request.method'].value_counts()"
   ]
  },
  {
   "cell_type": "code",
   "execution_count": null,
   "id": "56e5b727-9ca0-415c-8881-c18337ab7f96",
   "metadata": {},
   "outputs": [],
   "source": [
    "# The high count of GET requests in the data suggests that\n",
    "# the majority of the traffic is for retrieving data, which\n",
    "# is typical for most web applications.\n",
    "\n",
    "# The presence of POST requests indicates interactions where\n",
    "# data is being sent to the server, possibly for processing or \n",
    "# storing.\n",
    "\n",
    "#  It's used to update data. The low count suggests that\n",
    "# updating resources is not a frequent operation\n",
    "\n",
    "# This method can be used for checking what a GET request will\n",
    "# return before actually making a GET request or for checking if\n",
    "# a resource exists before trying to download it."
   ]
  },
  {
   "cell_type": "code",
   "execution_count": 24,
   "id": "d166b1c1-cffc-4e22-9368-6c92e186a2cc",
   "metadata": {},
   "outputs": [
    {
     "data": {
      "text/plain": [
       "http.request.uri\n",
       "/bodgeit/basket.jsp                                 2494\n",
       "/wivet/innerpages/3_45589.php                       2492\n",
       "/getboo/newuser.php/error.php                       1896\n",
       "/zapwave/active/redirect/redirect-form-basic.jsp    1637\n",
       "/getboo/login.php/error.php                         1456\n",
       "                                                    ... \n",
       "/wavsep/passive/Zed.js                                 1\n",
       "/joomla/cursor.swf                                     1\n",
       "/mono/Boolean/white.sfish/                             1\n",
       "/wivet/innerpages/2_1f84b.php.htm                      1\n",
       "/joomla/XCloner.swf                                    1\n",
       "Name: count, Length: 83320, dtype: int64"
      ]
     },
     "execution_count": 24,
     "metadata": {},
     "output_type": "execute_result"
    }
   ],
   "source": [
    "df_anomalous['http.request.uri'].value_counts()"
   ]
  },
  {
   "cell_type": "code",
   "execution_count": 25,
   "id": "70ceaecb-d287-4d94-afa5-a5fd3cb38a0a",
   "metadata": {},
   "outputs": [
    {
     "data": {
      "text/plain": [
       "http.request.version\n",
       "HTTP/1.1                                                                            106896\n",
       "HTTP/1.0                                                                                 3\n",
       "http://10.20.30.101/mono/navy.css/requiredBaseType.net/path/\\\\'\\\\\",,sfish\\\\'\\\\\"\"         2\n",
       "http://10.20.30.101/mono/\\'\\\",,sfish\\'\\\"\"                                                2\n",
       "http://10.20.30.101/mono/owasp.net/'\",,sfish'\"\"                                          2\n",
       "                                                                                     ...  \n",
       "http://10.20.30.101/zapwave/active/inject/'\",,sfish'\"\"                                   1\n",
       "http://10.20.30.101/AppSensorDemo/login.jsp.js/'\",,sfish'\"\"                              1\n",
       "http://10.20.30.101/icons/small/generic.gif/'\",,sfish'\"\"                                 1\n",
       "http://10.20.30.101/icons/small/generic.gif/\\'\\\",,sfish\\'\\\"\"                             1\n",
       "http://10.20.30.101/wivet/js/ext/ext-base.js/\\\\'\\\\\",,sfish\\\\'\\\\\"\"                        1\n",
       "Name: count, Length: 239, dtype: int64"
      ]
     },
     "execution_count": 25,
     "metadata": {},
     "output_type": "execute_result"
    }
   ],
   "source": [
    "df_anomalous['http.request.version'].value_counts()"
   ]
  },
  {
   "cell_type": "code",
   "execution_count": 26,
   "id": "0a242056-ead5-4f7a-a5f4-bae03f8c9bd0",
   "metadata": {},
   "outputs": [
    {
     "data": {
      "text/plain": [
       "http.request.full_uri\n",
       "http://10.20.30.101/bodgeit/basket.jsp                                 2494\n",
       "http://10.20.30.101/wivet/innerpages/3_45589.php                       2491\n",
       "http://10.20.30.101/getboo/newuser.php/error.php                       1896\n",
       "http://10.20.30.101/zapwave/active/redirect/redirect-form-basic.jsp    1635\n",
       "http://10.20.30.101/getboo/login.php/error.php                         1456\n",
       "                                                                       ... \n",
       "http://10.20.30.101/joomla/templates/formName.sfish                       1\n",
       "http://10.20.30.101/mono/h3.aspx/td.sfish                                 1\n",
       "http://10.20.30.101/mono/expandable.html/The/                             1\n",
       "http://10.20.30.101/wavsep/passive/Zed.js                                 1\n",
       "http://10.20.30.101/joomla/XCloner.swf                                    1\n",
       "Name: count, Length: 83173, dtype: int64"
      ]
     },
     "execution_count": 26,
     "metadata": {},
     "output_type": "execute_result"
    }
   ],
   "source": [
    "df_anomalous['http.request.full_uri'].value_counts()"
   ]
  },
  {
   "cell_type": "code",
   "execution_count": 27,
   "id": "4e88dc92-38b8-4242-a940-a17987e48b5d",
   "metadata": {},
   "outputs": [
    {
     "data": {
      "text/plain": [
       "http.response.code\n",
       "404.0    115036\n",
       "206.0     22751\n",
       "302.0      7680\n",
       "200.0      3832\n",
       "500.0      2600\n",
       "400.0       592\n",
       "503.0       123\n",
       "301.0        94\n",
       "403.0        85\n",
       "405.0        46\n",
       "401.0        25\n",
       "501.0        10\n",
       "406.0         6\n",
       "303.0         5\n",
       "304.0         1\n",
       "Name: count, dtype: int64"
      ]
     },
     "execution_count": 27,
     "metadata": {},
     "output_type": "execute_result"
    }
   ],
   "source": [
    "df_anomalous['http.response.code'].value_counts()"
   ]
  },
  {
   "cell_type": "code",
   "execution_count": null,
   "id": "4bb8aa3e-06c5-4f35-9cc1-d55bda212cfd",
   "metadata": {},
   "outputs": [],
   "source": [
    "\"\"\"\n",
    "404.0 (Not Found): This is the most frequent response code in \n",
    "the data. It indicates that the requested resource could not\n",
    "be found. High occurrences of 404 errors could point to issues\n",
    "with broken or outdated links, missing assets (like images \n",
    "or videos)\n",
    "\n",
    "\n",
    "206.0 (Partial Content): This code is used when the server is\n",
    "successfully fulfilling a range request for a resource, like a\n",
    "video or a large dataset. \n",
    "\n",
    "\n",
    "302.0 (Found): This code indicates that the requested resource\n",
    "resides temporarily under a different URI. While it's a common\n",
    "part of web navigation, frequent redirects could affect loading\n",
    "times and data access efficiency, which might be a concern in a\n",
    "real-time processing scenario like some Computer Vision \n",
    "applications.\n",
    "\n",
    "\n",
    "200.0 (OK): Surprisingly low in the dataset, this code \n",
    "signifies successful requests. In a well-functioning system,\n",
    "a higher rate of 200 responses are expecteds\n",
    "\n",
    "\n",
    "500.0 (Internal Server Error) and 503.0 (Service Unavailable):\n",
    "These errors are critical as they indicate server-side problems.\n",
    "These could signal issues with the server's ability to process\n",
    "requests, possibly due to algorithmic errors, \n",
    "resource constraints, or software bugs.\n",
    "\n",
    "\n",
    "401.0 (Unauthorized), 403.0 (Forbidden),\n",
    "405.0 (Method Not Allowed): These are related to authentication\n",
    "and authorization. \n",
    "\n",
    "\"\"\""
   ]
  },
  {
   "cell_type": "code",
   "execution_count": 28,
   "id": "0d9c16ac-6fd9-4f65-9766-8d8a65f76b5f",
   "metadata": {},
   "outputs": [
    {
     "data": {
      "text/plain": [
       "http.user_agent\n",
       "Mozilla/5.0 SF/2.10b                                                                                                                                                                                                                         69587\n",
       "Mozilla/4.0 (compatible; MSIE 6.0; Windows NT 5.1)                                                                                                                                                                                           21715\n",
       "Mozilla/5.0 (Windows NT 10.0; Win64; x64; rv:105.0) Gecko/20100101 Firefox/105.0                                                                                                                                                             11907\n",
       "Mozilla/5.0 (Windows NT 10.0; Win64; x64) AppleWebKit/537.36 (KHTML, like Gecko) Chrome/74.0.3729.169 Safari/537.36                                                                                                                           1180\n",
       "Fuzz Faster U Fool v2.0.0-dev                                                                                                                                                                                                                  753\n",
       "                                                                                                                                                                                                                                             ...  \n",
       "sfish'\",,,PHPSESSID=6hvsc2395gvu784ks9qf7k09a4; JSESSIONID=--; ASP.NET_SessionId=F9ECF52C1781A2861B4E106C; info-cookie-no-http-only=test; zap-info-cookie-no-http-only=test; d5a4bd280a324d2ac98eb2c0fe58b9e0=djeso4a62a7s3jq3auoe8hmtt3\"        1\n",
       "-->>'>'\"<sfi005775v080530>\"                                                                                                                                                                                                                      1\n",
       "-->>'>'\"<sfi006981v080530>\"                                                                                                                                                                                                                      1\n",
       "-->>'>'\"<sfi004254v080530>\"                                                                                                                                                                                                                      1\n",
       "-->>'>'\"<sfi007651v080530>\"                                                                                                                                                                                                                      1\n",
       "Name: count, Length: 195, dtype: int64"
      ]
     },
     "execution_count": 28,
     "metadata": {},
     "output_type": "execute_result"
    }
   ],
   "source": [
    "df_anomalous['http.user_agent'].value_counts()"
   ]
  },
  {
   "cell_type": "code",
   "execution_count": null,
   "id": "75b36720-4348-4b98-b2a4-a576f151caee",
   "metadata": {},
   "outputs": [],
   "source": [
    "\"\"\" User-Agent strings are an important part of HTTP headers as\n",
    "they identify the client software initiating the request, \n",
    "typically a web browser or other client software like a bot,\n",
    "crawler, or custom tools.\n",
    "\n",
    "Some User-Agent strings, especially those that look\n",
    "unconventional or malformed, might indicate attempts to \n",
    "probe the system for vulnerabilities\n",
    "\"\"\""
   ]
  },
  {
   "cell_type": "code",
   "execution_count": 29,
   "id": "fade47e3-82e3-462a-8bae-1b2ebea9072c",
   "metadata": {},
   "outputs": [
    {
     "data": {
      "text/plain": [
       "http.content_length_header\n",
       "896       9528\n",
       "0         4750\n",
       "20        3201\n",
       "2212      2489\n",
       "271       2486\n",
       "          ... \n",
       "5074         1\n",
       "16836        1\n",
       "7012         1\n",
       "8309         1\n",
       "1230.0       1\n",
       "Name: count, Length: 2359, dtype: int64"
      ]
     },
     "execution_count": 29,
     "metadata": {},
     "output_type": "execute_result"
    }
   ],
   "source": [
    "df_anomalous['http.content_length_header'].value_counts()"
   ]
  },
  {
   "cell_type": "code",
   "execution_count": null,
   "id": "b16b97e9-c7e4-4367-83e5-c975b1fc57e7",
   "metadata": {},
   "outputs": [],
   "source": [
    "\"\"\" Unusual content length values, either too small or too \n",
    "large, could indicate anomalies or potential security issues.\n",
    "For example, an unexpectedly large content length might be a \n",
    "sign of a security breach or a system malfunction. In contrast,\n",
    "a very small content length, especially in a system expected \n",
    "to deliver large data payloads, might indicate an error or \n",
    "incomplete data transfer. \"\"\""
   ]
  },
  {
   "cell_type": "code",
   "execution_count": 30,
   "id": "0e8c3974-92eb-4ea0-93eb-f6245dc5b37f",
   "metadata": {},
   "outputs": [
    {
     "data": {
      "text/plain": [
       "http.content_type\n",
       "text/html; charset=utf-8                                                                                                                                             91240\n",
       "text/html; charset=iso-8859-1                                                                                                                                        20164\n",
       "text/html;charset=utf-8                                                                                                                                              18624\n",
       "text/html                                                                                                                                                            17524\n",
       "application/x-www-form-urlencoded                                                                                                                                    13672\n",
       "text/html;charset=UTF-8                                                                                                                                               3096\n",
       "image/png                                                                                                                                                              545\n",
       "image/gif                                                                                                                                                              405\n",
       "text/html; charset=                                                                                                                                                    363\n",
       "text/plain                                                                                                                                                             315\n",
       "text/html;charset=ISO-8859-1                                                                                                                                           279\n",
       "sfish'\",,,keep-alive\"                                                                                                                                                  100\n",
       "sfish\\'\\\",,,keep-alive\"                                                                                                                                                 92\n",
       "sfish\\\\'\\\\\",,,keep-alive\"                                                                                                                                               77\n",
       "application/javascript                                                                                                                                                  70\n",
       "text/html; charset=ISO-8859-1                                                                                                                                           48\n",
       "text/html; charset=UTF-8                                                                                                                                                39\n",
       "text/css                                                                                                                                                                37\n",
       "text/javascript;                                                                                                                                                        30\n",
       "application/xml                                                                                                                                                         23\n",
       "text/html;charset=windows-1256                                                                                                                                          23\n",
       "text/css;                                                                                                                                                               21\n",
       "image/jpeg                                                                                                                                                              12\n",
       "text/xml; charset=ISO-8859-1                                                                                                                                            10\n",
       "text/javascript                                                                                                                                                          9\n",
       "application/x-shockwave-flash                                                                                                                                            3\n",
       "application/x-javascript                                                                                                                                                 2\n",
       "application/pdf                                                                                                                                                          1\n",
       "application/x-asp-net                                                                                                                                                    1\n",
       "PHPSESSID=u2a2juma0r6qiamhonvis0u1r6; JSESSIONID=--; ASP.NET_SessionId=F9ECF52C1781A2861B4E106C; info-cookie-no-http-only=test; zap-info-cookie-no-http-only=test        1\n",
       "PHPSESSID=2rqiotvi3nrpf997al9gvh0vb6; JSESSIONID=--; ASP.NET_SessionId=F9ECF52C1781A2861B4E106C; info-cookie-no-http-only=test; zap-info-cookie-no-http-only=test        1\n",
       "PHPSESSID=3ks8clrkpt2b3l0p7hkemej9q7; JSESSIONID=--; ASP.NET_SessionId=5A619CA5599EFABAE9658A1A                                                                          1\n",
       "PHPSESSID=ta5gnb528pqueiog44284q8rk1; JSESSIONID=--; ASP.NET_SessionId=F9ECF52C1781A2861B4E106C; info-cookie-no-http-only=test; zap-info-cookie-no-http-only=test        1\n",
       "PHPSESSID=re1qagn11ap3egsn1umm3b66o7; JSESSIONID=--; ASP.NET_SessionId=F9ECF52C1781A2861B4E106C; info-cookie-no-http-only=test; zap-info-cookie-no-http-only=test        1\n",
       "text/xml; charset=UTF-8                                                                                                                                                  1\n",
       "PHPSESSID=kehln82u62uhkir9fkdl5o08f7; JSESSIONID=--; ASP.NET_SessionId=F9ECF52C1781A2861B4E106C; info-cookie-no-http-only=test; zap-info-cookie-no-http-only=test        1\n",
       "Name: count, dtype: int64"
      ]
     },
     "execution_count": 30,
     "metadata": {},
     "output_type": "execute_result"
    }
   ],
   "source": [
    "df_anomalous['http.content_type'].value_counts()"
   ]
  },
  {
   "cell_type": "code",
   "execution_count": null,
   "id": "660610c2-b2c2-421a-8ecc-437f63d4406b",
   "metadata": {},
   "outputs": [],
   "source": [
    "\"\"\" The most common content types are different versions of \n",
    "text/html, indicating that the majority of responses are HTML\n",
    "documents. This is typical for web pages. The various character\n",
    "sets (utf-8, iso-8859-1, etc.) signify the encoding used for \n",
    "the HTML content.\n",
    "\n",
    "Application/x-www-form-urlencoded: This content type is common \n",
    "in HTTP POST requests and is used to submit form data.\n",
    "\n",
    "Image Types (PNG, GIF, JPEG)\n",
    "\n",
    "JavaScript/CSS/XML: These types are typically used for web \n",
    "application functionality and styling (JavaScript and CSS) or\n",
    "data interchange (XML). \n",
    "\n",
    "Unusual or Malformed Entries (e.g., sfish'...keep-alive\"):\n",
    "Some entries appear to be malformed or non-standard. These\n",
    "might indicate errors, attempts at injection attacks, or system\n",
    "misconfigurations\n",
    "\n",
    "\n",
    "\"\"\""
   ]
  },
  {
   "cell_type": "code",
   "execution_count": 31,
   "id": "1fa64afa-c9f1-46e0-a62e-f25f2a0822c6",
   "metadata": {},
   "outputs": [
    {
     "data": {
      "text/plain": [
       "http.cookie\n",
       "PHPSESSID=ha36jondlb2ft392rjf8b0aph6; JSESSIONID=--; ASP.NET_SessionId=F9ECF52C1781A2861B4E106C; info-cookie-no-http-only=test; zap-info-cookie-no-http-only=test                                                                                                                                                                                                                                                                                                                                                                                                                                                                                                                                                                  9852\n",
       "PHPSESSID=3ks8clrkpt2b3l0p7hkemej9q7; JSESSIONID=--; ASP.NET_SessionId=F9ECF52C1781A2861B4E106C; info-cookie-no-http-only=test; zap-info-cookie-no-http-only=test                                                                                                                                                                                                                                                                                                                                                                                                                                                                                                                                                                  9290\n",
       "PHPSESSID=6hvsc2395gvu784ks9qf7k09a4; JSESSIONID=--; ASP.NET_SessionId=F9ECF52C1781A2861B4E106C; info-cookie-no-http-only=test; zap-info-cookie-no-http-only=test; d5a4bd280a324d2ac98eb2c0fe58b9e0=sgv4k4pob6m8foul243khue2u7                                                                                                                                                                                                                                                                                                                                                                                                                                                                                                     7635\n",
       "d5a4bd280a324d2ac98eb2c0fe58b9e0=lob9u4i8qo3et1ksjvk5adkam2; Server=b3dhc3Bid2E=; GRUYERE=26087470|ZAP||author; jiveLastVisited=1685895734828; PHPSESSID=qdrmci3osl4r1rsp5n57piase4; JSESSIONID=A1E28A8DF56C0B580FEA9DD0399BAFFC; _railsgoat_session=BAh7CEkiD3Nlc3Npb25faWQGOgZFRkkiJTExNTU2ZDE1ZjVhZDhlNmYxMDk4ODg5YjYxMjU4ODg2BjsAVEkiEF9jc3JmX3Rva2VuBjsARkkiMXIxTkdxb1ZSeHdqVEtOb01QZXJYS2FxV3I5RkNqK2VFdDBrVlVydSsxZlU9BjsARkkiCmZsYXNoBjsARm86JUFjdGlvbkRpc3BhdGNoOjpGbGFzaDo6Rmxhc2hIYXNoCToKQHVzZWRvOghTZXQGOgpAaGFzaHsAOgxAY2xvc2VkRjoNQGZsYXNoZXN7BjoKZXJyb3JJIklQYXNzd29yZCBpcyB0b28gc2hvcnQgKG1pbmltdW0gaXMgNiBjaGFyYWN0ZXJzKSBhbmQgRW1haWwgaXMgaW52YWxpZAY7AFQ6CUBub3cw--e97f6b134a248a8f10daa82575547783a55f9195    4739\n",
       "PHPSESSID=3ks8clrkpt2b3l0p7hkemej9q7; JSESSIONID=--; ASP.NET_SessionId=A3E99D3613899C593B9DC6F2                                                                                                                                                                                                                                                                                                                                                                                                                                                                                                                                                                                                                                    3748\n",
       "                                                                                                                                                                                                                                                                                                                                                                                                                                                                                                                                                                                                                                                                                                                                   ... \n",
       "ASP.NET_SessionId=-->>'>'\"<sfi003128v080530>; PHPSESSID=3ks8clrkpt2b3l0p7hkemej9q7; JSESSIONID=--\"                                                                                                                                                                                                                                                                                                                                                                                                                                                                                                                                                                                                                                    1\n",
       "JSESSIONID=-->>'>'\"<sfi001895v080530>; PHPSESSID=3ks8clrkpt2b3l0p7hkemej9q7; ASP.NET_SessionId=07F2995A3E7C03FD76583410\"                                                                                                                                                                                                                                                                                                                                                                                                                                                                                                                                                                                                              1\n",
       "JSESSIONID=-->>'>'\"<sfi004446v080530>; PHPSESSID=ha36jondlb2ft392rjf8b0aph6; ASP.NET_SessionId=F9ECF52C1781A2861B4E106C; info-cookie-no-http-only=test; zap-info-cookie-no-http-only=test\"                                                                                                                                                                                                                                                                                                                                                                                                                                                                                                                                            1\n",
       "acopendivids=swingset,jotto,phpbb2,redmine; acgroupswithpersist=nada; PHPSESSID=ros6e9regriulj2gflc557npk5; security_level=0; JSESSIONID=B40E836EA79FACC3FBB6CF77BFC9753B                                                                                                                                                                                                                                                                                                                                                                                                                                                                                                                                                             1\n",
       "info-cookie-no-http-only=-->>'>'\"<sfi005069v080530>; PHPSESSID=ha36jondlb2ft392rjf8b0aph6; JSESSIONID=--; ASP.NET_SessionId=F9ECF52C1781A2861B4E106C; zap-info-cookie-no-http-only=test\"                                                                                                                                                                                                                                                                                                                                                                                                                                                                                                                                              1\n",
       "Name: count, Length: 715, dtype: int64"
      ]
     },
     "execution_count": 31,
     "metadata": {},
     "output_type": "execute_result"
    }
   ],
   "source": [
    "df_anomalous['http.cookie'].value_counts()"
   ]
  },
  {
   "cell_type": "code",
   "execution_count": null,
   "id": "8371d95f-3032-467f-ac43-e1c3b42b5e6e",
   "metadata": {},
   "outputs": [],
   "source": [
    "\"\"\" Session Management (e.g., PHPSESSID, JSESSIONID, \n",
    "ASP.NET_SessionId): These are session identifiers used by \n",
    "different web technologies (PHP, Java, ASP.NET). They are \n",
    "essential for maintaining state in stateless HTTP transactions.\n",
    "The presence of session identifiers and other sensitive data in\n",
    "cookies necessitates robust security measures. For example, \n",
    "cookies should be protected from hijacking and unauthorized \n",
    "access\n",
    "\n",
    "\n",
    "User Tracking and Personalization (e.g., \n",
    "info-cookie-no-http-only, zap-info-cookie-no-http-only): Some\n",
    "cookies might be used for tracking user behavior or\n",
    "personalizing content.\n",
    "\n",
    "\n",
    "Certain entries in the data seem unusual or malformed \n",
    "(e.g., cookies with appended script-like content). \n",
    "These could indicate attempts at exploiting vulnerabilities,\n",
    "such as Cross-Site Scripting (XSS) or Session Hijacking.\n",
    "While cookies are useful, they also add overhead to every HTTP\n",
    "request. Understanding the size and complexity of cookie data \n",
    "can help in optimizing performance, especially in \n",
    "latency-sensitive applications \n",
    "\n",
    "\n",
    "\"\"\""
   ]
  },
  {
   "cell_type": "code",
   "execution_count": 32,
   "id": "7cfa2293-4591-4a53-a582-1043d495f9aa",
   "metadata": {},
   "outputs": [
    {
     "data": {
      "text/plain": [
       "http.host\n",
       "10.20.30.101                 106855\n",
       "aws.cirt.net                      3\n",
       "sfish'\",,,keep-alive\"             3\n",
       "sfish\\\\'\\\\\",,,keep-alive\"         2\n",
       "169.254.169.254                   1\n",
       "10.20.30.101:8080                 1\n",
       "sfish\\'\\\",,,keep-alive\"           1\n",
       "alibaba.zaproxy.org               1\n",
       "Name: count, dtype: int64"
      ]
     },
     "execution_count": 32,
     "metadata": {},
     "output_type": "execute_result"
    }
   ],
   "source": [
    "df_anomalous['http.host'].value_counts()"
   ]
  },
  {
   "cell_type": "code",
   "execution_count": null,
   "id": "c710e172-44ff-46bc-9659-53b0162e4eb4",
   "metadata": {},
   "outputs": [],
   "source": [
    "\"\"\" \n",
    " provides information about the hostnames and IP addresses \n",
    " that are being accessed or requested in the HTTP traffic.\n",
    "\n",
    " IP Addresses (e.g., 10.20.30.101, 169.254.169.254): \n",
    " The majority of the requests are directed to the IP address \n",
    " 10.20.30.101,which is the web server. 169.254.169.254 is an\n",
    " interesting entry as it's a link-local address often used by\n",
    " cloud services (like AWS) for metadata services.\n",
    "\n",
    "\n",
    "Domain Names (e.g., aws.cirt.net, alibaba.zaproxy.org): These\n",
    "entries represent domain names being accessed.\n",
    "\n",
    "Malformed or Suspicious Entries (e.g., sfish'...keep-alive): \n",
    "The entries like sfish'...keep-alive appear to be malformed or\n",
    "potentially indicative of injection attacks or other malicious\n",
    "activities. These could be attempts to exploit vulnerabilities\n",
    "in the system\n",
    "\n",
    "Ports and Specific Endpoints (e.g., 10.20.30.101:8080): The \n",
    "presence of a specific port (8080 in this case) in one of the\n",
    "entries suggests access to a particular service or application\n",
    "running on the server. \n",
    "\"\"\""
   ]
  },
  {
   "cell_type": "code",
   "execution_count": 33,
   "id": "7c04ee46-a3c6-4b28-8682-082e565a7b04",
   "metadata": {},
   "outputs": [
    {
     "data": {
      "text/plain": [
       "http.referer\n",
       "http://10.20.30.101/                                  69807\n",
       "http://10.20.30.101/bodgeit/basket.jsp                 2471\n",
       "http://10.20.30.101/getboo/newuser.php/install         1938\n",
       "http://10.20.30.101/getboo/login.php/p                 1477\n",
       "http://10.20.30.101/getboo/populartags.php/install      704\n",
       "                                                      ...  \n",
       "http://10.20.30.101/dvwa/vulnerabilities/xss_s/           1\n",
       "-->>'>'\"<sfi002884v080530>\"                               1\n",
       "-->>'>'\"<sfi006790v080530>\"                               1\n",
       "http://10.20.30.101/railsgoat/tutorials/injection         1\n",
       "-->>'>'\"<sfi007651v080530>\"                               1\n",
       "Name: count, Length: 553, dtype: int64"
      ]
     },
     "execution_count": 33,
     "metadata": {},
     "output_type": "execute_result"
    }
   ],
   "source": [
    "df_anomalous['http.referer'].value_counts()"
   ]
  },
  {
   "cell_type": "code",
   "execution_count": null,
   "id": "05ea9d8a-d623-44b8-8458-9ed3276442b7",
   "metadata": {},
   "outputs": [],
   "source": [
    "\"\"\" \n",
    "http://10.20.30.101/): The most common referer is the root of\n",
    "the IP address 10.20.30.101, suggesting that a significant\n",
    "portion of the traffic originates from the main page of this \n",
    "site. \n",
    "\n",
    "\n",
    "/bodgeit/basket.jsp, /getboo/newuser.php/install): Various \n",
    "specific paths and pages are referenced, such as a basket page\n",
    "(basket.jsp) and installation or login pages for getboo. This \n",
    "indicates user interactions with different parts of the web \n",
    "application.\n",
    "\n",
    "-->>'>'\"<sfi...): Some referer strings appear to be malformed\n",
    "or potentially part of an injection attack or other malicious \n",
    "activities.\n",
    "\"\"\""
   ]
  },
  {
   "cell_type": "code",
   "execution_count": 34,
   "id": "10abb39f-5336-444b-ac9b-eb2d36d03c71",
   "metadata": {},
   "outputs": [
    {
     "data": {
      "text/plain": [
       "http.location\n",
       "error.php                                                                                                    4267\n",
       "http://10.20.30.101/AppSensorDemo/login.jsp                                                                   224\n",
       "login.php                                                                                                      90\n",
       "http://10.20.30.101/railsgoat/signup                                                                           76\n",
       "database-offline.php                                                                                           65\n",
       "                                                                                                             ... \n",
       "http://10.20.30.101/zapwave/active/redirect/min.html                                                            1\n",
       "http://10.20.30.101/zapwave/active/redirect/SInjection-Detection-Evaluation-GET-200Error-Experimental.css       1\n",
       "http://10.20.30.101/zapwave/active/redirect/Example.css                                                         1\n",
       "http://10.20.30.101/zapwave/active/redirect/can.php                                                             1\n",
       "http://10.20.30.101/zapwave/active/redirect/312.sfish                                                           1\n",
       "Name: count, Length: 2637, dtype: int64"
      ]
     },
     "execution_count": 34,
     "metadata": {},
     "output_type": "execute_result"
    }
   ],
   "source": [
    "df_anomalous['http.location'].value_counts()"
   ]
  },
  {
   "cell_type": "code",
   "execution_count": null,
   "id": "7d129c10-97ed-4dcd-8b9e-d034fefc7490",
   "metadata": {},
   "outputs": [],
   "source": [
    "\"\"\" \n",
    "indicates the locations (URLs or paths) to which HTTP responses\n",
    "are directing clients. \n",
    "\n",
    "error.php): The most frequent location is error.php, suggesting\n",
    "that a significant number of requests are resulting in an error.\n",
    "This could indicate issues with the web application's \n",
    "functionality, such as broken links, server errors, or \n",
    "misconfigurations\n",
    "\n",
    "\n",
    "login.php, signup): Redirects to login and signup pages \n",
    "(like those under railsgoat) indicate authentication or \n",
    "registration flows\n",
    "\n",
    "database-offline.php might indicate maintenance periods or \n",
    "system downtimes. \n",
    "\n",
    "Some of the URLs might point to security testing tools or \n",
    "patterns (like those under zapwave), possibly indicating \n",
    "security assessments or vulnerability testing. \n",
    "\"\"\""
   ]
  },
  {
   "cell_type": "code",
   "execution_count": 35,
   "id": "451102d2-dd97-47cb-b15c-bea743912cc1",
   "metadata": {},
   "outputs": [
    {
     "data": {
      "text/plain": [
       "http.authorization\n",
       "Basic YWRtaW46aXJvbnBvcnQ=                    1\n",
       "Basic d2ViYWRtaW46d2ViYWRtaW4=                1\n",
       "Basic d2ViYWRtaW46MTIzNA==                    1\n",
       "Basic YWRtaW46YmFycmljYWRl                    1\n",
       "Basic dGVzdDp0ZXN0                            1\n",
       "Basic ZnRwOg==                                1\n",
       "Basic cm9vdDpjaGFuZ2VtZQ==                    1\n",
       "Basic YWRtaW46MDAwMA==                        1\n",
       "Basic dXNlcl9lZGl0b3I6ZGVtbw==                1\n",
       "Basic ZTI1MDplMjUwY2hhbmdlbWU=                1\n",
       "Basic YWRtaW46c2VjdXJl                        1\n",
       "Basic UUNDOlFMb2dpYzY2                        1\n",
       "Basic YmlsbHktYm9iOg==                        1\n",
       "Basic c3RvcndhdGNoOnNwZWNpYWxpc3Q=            1\n",
       "Basic YWRtaW5pc3RyYXRvcjphZG1pbmlzdHJhdG9y    1\n",
       "Basic OnBhc3N3b3Jk                            1\n",
       "Basic eGFtcHA6eGFtcHA=                        1\n",
       "Basic YWRtaW46b3BlcmF0b3I=                    1\n",
       "Basic YWRtaW46aGFncG9sbTE=                    1\n",
       "Basic dXNlcl9wdWJsaXNoZXI6ZGVtbw==            1\n",
       "Basic YWRtaW46Y2hhbmdldGhpcw==                1\n",
       "Basic ZTUwMDplNTAwY2hhbmdlbWU=                1\n",
       "Basic QWRtaW5pc3RyYXRvcjoxOTc1MDQwNw==        1\n",
       "Basic c3VwZXJ1c2VyOmFkbWlu                    1\n",
       "Basic YWRtaW46bXAzbXlzdGlj                    1\n",
       "Basic QWRtaW5pc3RyYXRvcjphZG1pbg==            1\n",
       "Basic YWRtaW46VEFOREJFUkc=                    1\n",
       "Basic OnNtY2FkbWlu                            1\n",
       "Name: count, dtype: int64"
      ]
     },
     "execution_count": 35,
     "metadata": {},
     "output_type": "execute_result"
    }
   ],
   "source": [
    "df_anomalous['http.authorization'].value_counts()"
   ]
  },
  {
   "cell_type": "code",
   "execution_count": null,
   "id": "15e495d7-bf10-4227-b81b-6619d9558a62",
   "metadata": {},
   "outputs": [],
   "source": [
    "\"\"\" \n",
    "This header is a part of the HTTP protocol used for access \n",
    "control and authentication, indicating the credentials a client\n",
    "provides to authenticate itself to a server.he presence and\n",
    "nature of http.authorization headers can be a significant\n",
    "indicator of the security level of the application. Ensuring \n",
    "that sensitive data (such as authentication tokens) is \n",
    "transmitted securely and is properly validated on the\n",
    "server-side is essential, especially in applications dealing \n",
    "with personal or sensitive image data.\n",
    "\n",
    "\n",
    "\"\"\""
   ]
  },
  {
   "cell_type": "code",
   "execution_count": 36,
   "id": "05ea7c9c-ab24-4b1d-8658-7d69f46a1997",
   "metadata": {},
   "outputs": [
    {
     "data": {
      "text/plain": [
       "http.connection\n",
       "Keep-Alive    124054\n",
       "keep-alive     70371\n",
       "close           4851\n",
       "Name: count, dtype: int64"
      ]
     },
     "execution_count": 36,
     "metadata": {},
     "output_type": "execute_result"
    }
   ],
   "source": [
    "df_anomalous['http.connection'].value_counts()"
   ]
  },
  {
   "cell_type": "code",
   "execution_count": null,
   "id": "65ac0642-fa29-4274-a68d-fdf8aa5ef302",
   "metadata": {},
   "outputs": [],
   "source": [
    "\"\"\"\n",
    "It is used to control whether the network connection stays open or \n",
    "closes after the current transaction completes.\n",
    "\n",
    "Keep-Alive (124054 occurrences) and keep-alive (70371\n",
    "occurrences): These are essentially the same directive, \n",
    "differing only in case sensitivity, which usually doesn't\n",
    "matter in HTTP headers. The Keep-Alive value requests that the\n",
    "server maintains an open connection after the current \n",
    "transaction, allowing for subsequent requests to be made over\n",
    "the same connection without the overhead of establishing a new\n",
    "connection each time.\n",
    "\n",
    "The close directive indicates that the server should close the\n",
    "connection after completing the current request-response cycle.\n",
    "\n",
    "\"\"\""
   ]
  },
  {
   "cell_type": "code",
   "execution_count": 37,
   "id": "3f7f2340-7cf2-4570-a8d4-c4190bd4b814",
   "metadata": {},
   "outputs": [],
   "source": [
    "features= ['frame.number', 'frame.protocols',\n",
    "           'ip.len', 'ip.src','ip.dst', 'ip.len','ip.ttl',\n",
    "           'tcp.srcport','tcp.dstport', 'tcp.window_size',\n",
    "           'http.request.method','http.request.version',\n",
    "           'http.response.code','http.user_agent',\n",
    "           'http.content_length_header','http.content_type',\n",
    "           'http.host', 'http.referer','http.location', \n",
    "           'http.authorization', 'http.connection']\n"
   ]
  },
  {
   "cell_type": "code",
   "execution_count": null,
   "id": "0b8e921a-adc7-4df7-ae40-7d13811ad3c1",
   "metadata": {},
   "outputs": [],
   "source": []
  }
 ],
 "metadata": {
  "kernelspec": {
   "display_name": "Python 3 (ipykernel)",
   "language": "python",
   "name": "python3"
  },
  "language_info": {
   "codemirror_mode": {
    "name": "ipython",
    "version": 3
   },
   "file_extension": ".py",
   "mimetype": "text/x-python",
   "name": "python",
   "nbconvert_exporter": "python",
   "pygments_lexer": "ipython3",
   "version": "3.10.12"
  }
 },
 "nbformat": 4,
 "nbformat_minor": 5
}
