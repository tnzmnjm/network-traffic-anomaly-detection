{
 "cells": [
  {
   "cell_type": "markdown",
   "source": [
    "# Z-score tells how many standard deviations away a given observation is from\n",
    "# the mean. For example, a Z score of 2.5 means that the data point is 2.5 standard\n",
    "# deviation far from the mean. And since it is far from the center, it’s flagged as\n",
    "# an outlier/anomaly. The Z-score measures how far a data point is away from the\n",
    "# mean as a signed multiple of the standard deviation. Large absolute values of\n",
    "# the Z-score suggest an anomaly.\n",
    "\n",
    "# Given the multimodal, Gaussian-like peaks in the tcp.len distribution,\n",
    "# it's clear that the dataset exhibits complex patterns. In such cases, traditional\n",
    "# anomaly detection methods like z-score might not be sufficient, as they assume a\n",
    "# unimodal (single peak) Gaussian distribution. Instead, we should consider more advanced\n",
    "# techniques that can handle multimodal distributions:\n",
    "\n",
    "#  GMM : A Gaussian mixture model is a probabilistic model that assumes all the data\n",
    "#  points are generated from a mixture of a finite number of Gaussian distributions with\n",
    "#  unknown parameters.\n",
    "\n",
    "# Gaussian Mixture Models are ideal for data with multiple Gaussian-like peaks.\n",
    "# They assume that the data is generated from a mixture of several Gaussian distributions.\n",
    "# GMM can learn these distributions and can then be used to calculate the likelihood of\n",
    "# each data point belonging to each distribution. Points with low likelihood can be\n",
    "# considered anomalies.\n"
   ],
   "metadata": {
    "collapsed": false
   }
  },
  {
   "cell_type": "markdown",
   "source": [
    "it's essential to standardize my data because GMM is sensitive to the scale of the data."
   ],
   "metadata": {
    "collapsed": false
   }
  },
  {
   "cell_type": "code",
   "execution_count": 74,
   "metadata": {
    "collapsed": true,
    "ExecuteTime": {
     "end_time": "2023-12-06T18:16:11.705711Z",
     "start_time": "2023-12-06T18:16:11.646433Z"
    }
   },
   "outputs": [],
   "source": [
    "import numpy as np\n",
    "import pandas as pd\n",
    "from sklearn.preprocessing import StandardScaler\n",
    "import joblib\n",
    "from sklearn.mixture import GaussianMixture\n",
    "import matplotlib.pyplot as plt\n",
    "import seaborn as sns\n",
    "from sklearn.metrics import confusion_matrix, roc_curve, roc_auc_score, precision_recall_curve\n"
   ]
  },
  {
   "cell_type": "code",
   "execution_count": 2,
   "outputs": [
    {
     "data": {
      "text/plain": "(1000000, 5)"
     },
     "execution_count": 2,
     "metadata": {},
     "output_type": "execute_result"
    }
   ],
   "source": [
    "df = joblib.load('df_chosen_features.csv')\n",
    "df.shape"
   ],
   "metadata": {
    "collapsed": false,
    "ExecuteTime": {
     "end_time": "2023-12-06T13:09:49.272458Z",
     "start_time": "2023-12-06T13:09:48.515254Z"
    }
   }
  },
  {
   "cell_type": "code",
   "execution_count": 3,
   "outputs": [],
   "source": [
    "scaler = StandardScaler()\n",
    "df['tcp.len_scaled'] = scaler.fit_transform(df[['tcp.len']])"
   ],
   "metadata": {
    "collapsed": false,
    "ExecuteTime": {
     "end_time": "2023-12-06T13:11:13.475815Z",
     "start_time": "2023-12-06T13:11:13.422060Z"
    }
   }
  },
  {
   "cell_type": "code",
   "execution_count": 6,
   "outputs": [
    {
     "data": {
      "text/plain": "        tcp.len  tcp.len_scaled\n0         152.0       -0.742174\n1        1200.0        1.345084\n2           0.0       -1.044906\n3         187.0       -0.672466\n4        1204.0        1.353051\n...         ...             ...\n999995    197.0       -0.652549\n999996   1448.0        1.839016\n999997    645.0        0.239714\n999998   1448.0        1.839016\n999999    608.0        0.166022\n\n[1000000 rows x 2 columns]",
      "text/html": "<div>\n<style scoped>\n    .dataframe tbody tr th:only-of-type {\n        vertical-align: middle;\n    }\n\n    .dataframe tbody tr th {\n        vertical-align: top;\n    }\n\n    .dataframe thead th {\n        text-align: right;\n    }\n</style>\n<table border=\"1\" class=\"dataframe\">\n  <thead>\n    <tr style=\"text-align: right;\">\n      <th></th>\n      <th>tcp.len</th>\n      <th>tcp.len_scaled</th>\n    </tr>\n  </thead>\n  <tbody>\n    <tr>\n      <th>0</th>\n      <td>152.0</td>\n      <td>-0.742174</td>\n    </tr>\n    <tr>\n      <th>1</th>\n      <td>1200.0</td>\n      <td>1.345084</td>\n    </tr>\n    <tr>\n      <th>2</th>\n      <td>0.0</td>\n      <td>-1.044906</td>\n    </tr>\n    <tr>\n      <th>3</th>\n      <td>187.0</td>\n      <td>-0.672466</td>\n    </tr>\n    <tr>\n      <th>4</th>\n      <td>1204.0</td>\n      <td>1.353051</td>\n    </tr>\n    <tr>\n      <th>...</th>\n      <td>...</td>\n      <td>...</td>\n    </tr>\n    <tr>\n      <th>999995</th>\n      <td>197.0</td>\n      <td>-0.652549</td>\n    </tr>\n    <tr>\n      <th>999996</th>\n      <td>1448.0</td>\n      <td>1.839016</td>\n    </tr>\n    <tr>\n      <th>999997</th>\n      <td>645.0</td>\n      <td>0.239714</td>\n    </tr>\n    <tr>\n      <th>999998</th>\n      <td>1448.0</td>\n      <td>1.839016</td>\n    </tr>\n    <tr>\n      <th>999999</th>\n      <td>608.0</td>\n      <td>0.166022</td>\n    </tr>\n  </tbody>\n</table>\n<p>1000000 rows × 2 columns</p>\n</div>"
     },
     "execution_count": 6,
     "metadata": {},
     "output_type": "execute_result"
    }
   ],
   "source": [
    "df.loc[:, ['tcp.len', 'tcp.len_scaled']]"
   ],
   "metadata": {
    "collapsed": false,
    "ExecuteTime": {
     "end_time": "2023-12-06T13:28:53.587350Z",
     "start_time": "2023-12-06T13:28:53.557866Z"
    }
   }
  },
  {
   "cell_type": "markdown",
   "source": [
    "Choosing the Number of Components\n",
    "The number of components (Gaussians) in myGMM should correspond to the number of modes (peaks) I expect in your data. From your previous observations, I will start with 4 components."
   ],
   "metadata": {
    "collapsed": false
   }
  },
  {
   "cell_type": "markdown",
   "source": [
    "Fitting the Gaussian Mixture Model"
   ],
   "metadata": {
    "collapsed": false
   }
  },
  {
   "cell_type": "code",
   "execution_count": 9,
   "outputs": [],
   "source": [
    "# Initialize GMM\n",
    "gmm = GaussianMixture(n_components=4, random_state=0)"
   ],
   "metadata": {
    "collapsed": false,
    "ExecuteTime": {
     "end_time": "2023-12-06T13:35:02.438362Z",
     "start_time": "2023-12-06T13:35:02.379122Z"
    }
   }
  },
  {
   "cell_type": "code",
   "execution_count": 10,
   "outputs": [
    {
     "ename": "ValueError",
     "evalue": "Input X contains NaN.\nGaussianMixture does not accept missing values encoded as NaN natively. For supervised learning, you might want to consider sklearn.ensemble.HistGradientBoostingClassifier and Regressor which accept missing values encoded as NaNs natively. Alternatively, it is possible to preprocess the data, for instance by using an imputer transformer in a pipeline or drop samples with missing values. See https://scikit-learn.org/stable/modules/impute.html You can find a list of all estimators that handle NaN values at the following page: https://scikit-learn.org/stable/modules/impute.html#estimators-that-handle-nan-values",
     "output_type": "error",
     "traceback": [
      "\u001B[0;31m---------------------------------------------------------------------------\u001B[0m",
      "\u001B[0;31mValueError\u001B[0m                                Traceback (most recent call last)",
      "Cell \u001B[0;32mIn[10], line 2\u001B[0m\n\u001B[1;32m      1\u001B[0m \u001B[38;5;66;03m# Fit the model\u001B[39;00m\n\u001B[0;32m----> 2\u001B[0m \u001B[43mgmm\u001B[49m\u001B[38;5;241;43m.\u001B[39;49m\u001B[43mfit\u001B[49m\u001B[43m(\u001B[49m\u001B[43mdf\u001B[49m\u001B[43m[\u001B[49m\u001B[43m[\u001B[49m\u001B[38;5;124;43m'\u001B[39;49m\u001B[38;5;124;43mtcp.len_scaled\u001B[39;49m\u001B[38;5;124;43m'\u001B[39;49m\u001B[43m]\u001B[49m\u001B[43m]\u001B[49m\u001B[43m)\u001B[49m\n",
      "File \u001B[0;32m/media/sumanas/Storage/envs/lowl-jaja-test/lib/python3.10/site-packages/sklearn/mixture/_base.py:181\u001B[0m, in \u001B[0;36mBaseMixture.fit\u001B[0;34m(self, X, y)\u001B[0m\n\u001B[1;32m    155\u001B[0m \u001B[38;5;250m\u001B[39m\u001B[38;5;124;03m\"\"\"Estimate model parameters with the EM algorithm.\u001B[39;00m\n\u001B[1;32m    156\u001B[0m \n\u001B[1;32m    157\u001B[0m \u001B[38;5;124;03mThe method fits the model ``n_init`` times and sets the parameters with\u001B[39;00m\n\u001B[0;32m   (...)\u001B[0m\n\u001B[1;32m    178\u001B[0m \u001B[38;5;124;03m    The fitted mixture.\u001B[39;00m\n\u001B[1;32m    179\u001B[0m \u001B[38;5;124;03m\"\"\"\u001B[39;00m\n\u001B[1;32m    180\u001B[0m \u001B[38;5;66;03m# parameters are validated in fit_predict\u001B[39;00m\n\u001B[0;32m--> 181\u001B[0m \u001B[38;5;28;43mself\u001B[39;49m\u001B[38;5;241;43m.\u001B[39;49m\u001B[43mfit_predict\u001B[49m\u001B[43m(\u001B[49m\u001B[43mX\u001B[49m\u001B[43m,\u001B[49m\u001B[43m \u001B[49m\u001B[43my\u001B[49m\u001B[43m)\u001B[49m\n\u001B[1;32m    182\u001B[0m \u001B[38;5;28;01mreturn\u001B[39;00m \u001B[38;5;28mself\u001B[39m\n",
      "File \u001B[0;32m/media/sumanas/Storage/envs/lowl-jaja-test/lib/python3.10/site-packages/sklearn/base.py:1151\u001B[0m, in \u001B[0;36m_fit_context.<locals>.decorator.<locals>.wrapper\u001B[0;34m(estimator, *args, **kwargs)\u001B[0m\n\u001B[1;32m   1144\u001B[0m     estimator\u001B[38;5;241m.\u001B[39m_validate_params()\n\u001B[1;32m   1146\u001B[0m \u001B[38;5;28;01mwith\u001B[39;00m config_context(\n\u001B[1;32m   1147\u001B[0m     skip_parameter_validation\u001B[38;5;241m=\u001B[39m(\n\u001B[1;32m   1148\u001B[0m         prefer_skip_nested_validation \u001B[38;5;129;01mor\u001B[39;00m global_skip_validation\n\u001B[1;32m   1149\u001B[0m     )\n\u001B[1;32m   1150\u001B[0m ):\n\u001B[0;32m-> 1151\u001B[0m     \u001B[38;5;28;01mreturn\u001B[39;00m \u001B[43mfit_method\u001B[49m\u001B[43m(\u001B[49m\u001B[43mestimator\u001B[49m\u001B[43m,\u001B[49m\u001B[43m \u001B[49m\u001B[38;5;241;43m*\u001B[39;49m\u001B[43margs\u001B[49m\u001B[43m,\u001B[49m\u001B[43m \u001B[49m\u001B[38;5;241;43m*\u001B[39;49m\u001B[38;5;241;43m*\u001B[39;49m\u001B[43mkwargs\u001B[49m\u001B[43m)\u001B[49m\n",
      "File \u001B[0;32m/media/sumanas/Storage/envs/lowl-jaja-test/lib/python3.10/site-packages/sklearn/mixture/_base.py:212\u001B[0m, in \u001B[0;36mBaseMixture.fit_predict\u001B[0;34m(self, X, y)\u001B[0m\n\u001B[1;32m    184\u001B[0m \u001B[38;5;129m@_fit_context\u001B[39m(prefer_skip_nested_validation\u001B[38;5;241m=\u001B[39m\u001B[38;5;28;01mTrue\u001B[39;00m)\n\u001B[1;32m    185\u001B[0m \u001B[38;5;28;01mdef\u001B[39;00m \u001B[38;5;21mfit_predict\u001B[39m(\u001B[38;5;28mself\u001B[39m, X, y\u001B[38;5;241m=\u001B[39m\u001B[38;5;28;01mNone\u001B[39;00m):\n\u001B[1;32m    186\u001B[0m \u001B[38;5;250m    \u001B[39m\u001B[38;5;124;03m\"\"\"Estimate model parameters using X and predict the labels for X.\u001B[39;00m\n\u001B[1;32m    187\u001B[0m \n\u001B[1;32m    188\u001B[0m \u001B[38;5;124;03m    The method fits the model n_init times and sets the parameters with\u001B[39;00m\n\u001B[0;32m   (...)\u001B[0m\n\u001B[1;32m    210\u001B[0m \u001B[38;5;124;03m        Component labels.\u001B[39;00m\n\u001B[1;32m    211\u001B[0m \u001B[38;5;124;03m    \"\"\"\u001B[39;00m\n\u001B[0;32m--> 212\u001B[0m     X \u001B[38;5;241m=\u001B[39m \u001B[38;5;28;43mself\u001B[39;49m\u001B[38;5;241;43m.\u001B[39;49m\u001B[43m_validate_data\u001B[49m\u001B[43m(\u001B[49m\u001B[43mX\u001B[49m\u001B[43m,\u001B[49m\u001B[43m \u001B[49m\u001B[43mdtype\u001B[49m\u001B[38;5;241;43m=\u001B[39;49m\u001B[43m[\u001B[49m\u001B[43mnp\u001B[49m\u001B[38;5;241;43m.\u001B[39;49m\u001B[43mfloat64\u001B[49m\u001B[43m,\u001B[49m\u001B[43m \u001B[49m\u001B[43mnp\u001B[49m\u001B[38;5;241;43m.\u001B[39;49m\u001B[43mfloat32\u001B[49m\u001B[43m]\u001B[49m\u001B[43m,\u001B[49m\u001B[43m \u001B[49m\u001B[43mensure_min_samples\u001B[49m\u001B[38;5;241;43m=\u001B[39;49m\u001B[38;5;241;43m2\u001B[39;49m\u001B[43m)\u001B[49m\n\u001B[1;32m    213\u001B[0m     \u001B[38;5;28;01mif\u001B[39;00m X\u001B[38;5;241m.\u001B[39mshape[\u001B[38;5;241m0\u001B[39m] \u001B[38;5;241m<\u001B[39m \u001B[38;5;28mself\u001B[39m\u001B[38;5;241m.\u001B[39mn_components:\n\u001B[1;32m    214\u001B[0m         \u001B[38;5;28;01mraise\u001B[39;00m \u001B[38;5;167;01mValueError\u001B[39;00m(\n\u001B[1;32m    215\u001B[0m             \u001B[38;5;124m\"\u001B[39m\u001B[38;5;124mExpected n_samples >= n_components \u001B[39m\u001B[38;5;124m\"\u001B[39m\n\u001B[1;32m    216\u001B[0m             \u001B[38;5;124mf\u001B[39m\u001B[38;5;124m\"\u001B[39m\u001B[38;5;124mbut got n_components = \u001B[39m\u001B[38;5;132;01m{\u001B[39;00m\u001B[38;5;28mself\u001B[39m\u001B[38;5;241m.\u001B[39mn_components\u001B[38;5;132;01m}\u001B[39;00m\u001B[38;5;124m, \u001B[39m\u001B[38;5;124m\"\u001B[39m\n\u001B[1;32m    217\u001B[0m             \u001B[38;5;124mf\u001B[39m\u001B[38;5;124m\"\u001B[39m\u001B[38;5;124mn_samples = \u001B[39m\u001B[38;5;132;01m{\u001B[39;00mX\u001B[38;5;241m.\u001B[39mshape[\u001B[38;5;241m0\u001B[39m]\u001B[38;5;132;01m}\u001B[39;00m\u001B[38;5;124m\"\u001B[39m\n\u001B[1;32m    218\u001B[0m         )\n",
      "File \u001B[0;32m/media/sumanas/Storage/envs/lowl-jaja-test/lib/python3.10/site-packages/sklearn/base.py:604\u001B[0m, in \u001B[0;36mBaseEstimator._validate_data\u001B[0;34m(self, X, y, reset, validate_separately, cast_to_ndarray, **check_params)\u001B[0m\n\u001B[1;32m    602\u001B[0m         out \u001B[38;5;241m=\u001B[39m X, y\n\u001B[1;32m    603\u001B[0m \u001B[38;5;28;01melif\u001B[39;00m \u001B[38;5;129;01mnot\u001B[39;00m no_val_X \u001B[38;5;129;01mand\u001B[39;00m no_val_y:\n\u001B[0;32m--> 604\u001B[0m     out \u001B[38;5;241m=\u001B[39m \u001B[43mcheck_array\u001B[49m\u001B[43m(\u001B[49m\u001B[43mX\u001B[49m\u001B[43m,\u001B[49m\u001B[43m \u001B[49m\u001B[43minput_name\u001B[49m\u001B[38;5;241;43m=\u001B[39;49m\u001B[38;5;124;43m\"\u001B[39;49m\u001B[38;5;124;43mX\u001B[39;49m\u001B[38;5;124;43m\"\u001B[39;49m\u001B[43m,\u001B[49m\u001B[43m \u001B[49m\u001B[38;5;241;43m*\u001B[39;49m\u001B[38;5;241;43m*\u001B[39;49m\u001B[43mcheck_params\u001B[49m\u001B[43m)\u001B[49m\n\u001B[1;32m    605\u001B[0m \u001B[38;5;28;01melif\u001B[39;00m no_val_X \u001B[38;5;129;01mand\u001B[39;00m \u001B[38;5;129;01mnot\u001B[39;00m no_val_y:\n\u001B[1;32m    606\u001B[0m     out \u001B[38;5;241m=\u001B[39m _check_y(y, \u001B[38;5;241m*\u001B[39m\u001B[38;5;241m*\u001B[39mcheck_params)\n",
      "File \u001B[0;32m/media/sumanas/Storage/envs/lowl-jaja-test/lib/python3.10/site-packages/sklearn/utils/validation.py:959\u001B[0m, in \u001B[0;36mcheck_array\u001B[0;34m(array, accept_sparse, accept_large_sparse, dtype, order, copy, force_all_finite, ensure_2d, allow_nd, ensure_min_samples, ensure_min_features, estimator, input_name)\u001B[0m\n\u001B[1;32m    953\u001B[0m         \u001B[38;5;28;01mraise\u001B[39;00m \u001B[38;5;167;01mValueError\u001B[39;00m(\n\u001B[1;32m    954\u001B[0m             \u001B[38;5;124m\"\u001B[39m\u001B[38;5;124mFound array with dim \u001B[39m\u001B[38;5;132;01m%d\u001B[39;00m\u001B[38;5;124m. \u001B[39m\u001B[38;5;132;01m%s\u001B[39;00m\u001B[38;5;124m expected <= 2.\u001B[39m\u001B[38;5;124m\"\u001B[39m\n\u001B[1;32m    955\u001B[0m             \u001B[38;5;241m%\u001B[39m (array\u001B[38;5;241m.\u001B[39mndim, estimator_name)\n\u001B[1;32m    956\u001B[0m         )\n\u001B[1;32m    958\u001B[0m     \u001B[38;5;28;01mif\u001B[39;00m force_all_finite:\n\u001B[0;32m--> 959\u001B[0m         \u001B[43m_assert_all_finite\u001B[49m\u001B[43m(\u001B[49m\n\u001B[1;32m    960\u001B[0m \u001B[43m            \u001B[49m\u001B[43marray\u001B[49m\u001B[43m,\u001B[49m\n\u001B[1;32m    961\u001B[0m \u001B[43m            \u001B[49m\u001B[43minput_name\u001B[49m\u001B[38;5;241;43m=\u001B[39;49m\u001B[43minput_name\u001B[49m\u001B[43m,\u001B[49m\n\u001B[1;32m    962\u001B[0m \u001B[43m            \u001B[49m\u001B[43mestimator_name\u001B[49m\u001B[38;5;241;43m=\u001B[39;49m\u001B[43mestimator_name\u001B[49m\u001B[43m,\u001B[49m\n\u001B[1;32m    963\u001B[0m \u001B[43m            \u001B[49m\u001B[43mallow_nan\u001B[49m\u001B[38;5;241;43m=\u001B[39;49m\u001B[43mforce_all_finite\u001B[49m\u001B[43m \u001B[49m\u001B[38;5;241;43m==\u001B[39;49m\u001B[43m \u001B[49m\u001B[38;5;124;43m\"\u001B[39;49m\u001B[38;5;124;43mallow-nan\u001B[39;49m\u001B[38;5;124;43m\"\u001B[39;49m\u001B[43m,\u001B[49m\n\u001B[1;32m    964\u001B[0m \u001B[43m        \u001B[49m\u001B[43m)\u001B[49m\n\u001B[1;32m    966\u001B[0m \u001B[38;5;28;01mif\u001B[39;00m ensure_min_samples \u001B[38;5;241m>\u001B[39m \u001B[38;5;241m0\u001B[39m:\n\u001B[1;32m    967\u001B[0m     n_samples \u001B[38;5;241m=\u001B[39m _num_samples(array)\n",
      "File \u001B[0;32m/media/sumanas/Storage/envs/lowl-jaja-test/lib/python3.10/site-packages/sklearn/utils/validation.py:124\u001B[0m, in \u001B[0;36m_assert_all_finite\u001B[0;34m(X, allow_nan, msg_dtype, estimator_name, input_name)\u001B[0m\n\u001B[1;32m    121\u001B[0m \u001B[38;5;28;01mif\u001B[39;00m first_pass_isfinite:\n\u001B[1;32m    122\u001B[0m     \u001B[38;5;28;01mreturn\u001B[39;00m\n\u001B[0;32m--> 124\u001B[0m \u001B[43m_assert_all_finite_element_wise\u001B[49m\u001B[43m(\u001B[49m\n\u001B[1;32m    125\u001B[0m \u001B[43m    \u001B[49m\u001B[43mX\u001B[49m\u001B[43m,\u001B[49m\n\u001B[1;32m    126\u001B[0m \u001B[43m    \u001B[49m\u001B[43mxp\u001B[49m\u001B[38;5;241;43m=\u001B[39;49m\u001B[43mxp\u001B[49m\u001B[43m,\u001B[49m\n\u001B[1;32m    127\u001B[0m \u001B[43m    \u001B[49m\u001B[43mallow_nan\u001B[49m\u001B[38;5;241;43m=\u001B[39;49m\u001B[43mallow_nan\u001B[49m\u001B[43m,\u001B[49m\n\u001B[1;32m    128\u001B[0m \u001B[43m    \u001B[49m\u001B[43mmsg_dtype\u001B[49m\u001B[38;5;241;43m=\u001B[39;49m\u001B[43mmsg_dtype\u001B[49m\u001B[43m,\u001B[49m\n\u001B[1;32m    129\u001B[0m \u001B[43m    \u001B[49m\u001B[43mestimator_name\u001B[49m\u001B[38;5;241;43m=\u001B[39;49m\u001B[43mestimator_name\u001B[49m\u001B[43m,\u001B[49m\n\u001B[1;32m    130\u001B[0m \u001B[43m    \u001B[49m\u001B[43minput_name\u001B[49m\u001B[38;5;241;43m=\u001B[39;49m\u001B[43minput_name\u001B[49m\u001B[43m,\u001B[49m\n\u001B[1;32m    131\u001B[0m \u001B[43m\u001B[49m\u001B[43m)\u001B[49m\n",
      "File \u001B[0;32m/media/sumanas/Storage/envs/lowl-jaja-test/lib/python3.10/site-packages/sklearn/utils/validation.py:173\u001B[0m, in \u001B[0;36m_assert_all_finite_element_wise\u001B[0;34m(X, xp, allow_nan, msg_dtype, estimator_name, input_name)\u001B[0m\n\u001B[1;32m    156\u001B[0m \u001B[38;5;28;01mif\u001B[39;00m estimator_name \u001B[38;5;129;01mand\u001B[39;00m input_name \u001B[38;5;241m==\u001B[39m \u001B[38;5;124m\"\u001B[39m\u001B[38;5;124mX\u001B[39m\u001B[38;5;124m\"\u001B[39m \u001B[38;5;129;01mand\u001B[39;00m has_nan_error:\n\u001B[1;32m    157\u001B[0m     \u001B[38;5;66;03m# Improve the error message on how to handle missing values in\u001B[39;00m\n\u001B[1;32m    158\u001B[0m     \u001B[38;5;66;03m# scikit-learn.\u001B[39;00m\n\u001B[1;32m    159\u001B[0m     msg_err \u001B[38;5;241m+\u001B[39m\u001B[38;5;241m=\u001B[39m (\n\u001B[1;32m    160\u001B[0m         \u001B[38;5;124mf\u001B[39m\u001B[38;5;124m\"\u001B[39m\u001B[38;5;130;01m\\n\u001B[39;00m\u001B[38;5;132;01m{\u001B[39;00mestimator_name\u001B[38;5;132;01m}\u001B[39;00m\u001B[38;5;124m does not accept missing values\u001B[39m\u001B[38;5;124m\"\u001B[39m\n\u001B[1;32m    161\u001B[0m         \u001B[38;5;124m\"\u001B[39m\u001B[38;5;124m encoded as NaN natively. For supervised learning, you might want\u001B[39m\u001B[38;5;124m\"\u001B[39m\n\u001B[0;32m   (...)\u001B[0m\n\u001B[1;32m    171\u001B[0m         \u001B[38;5;124m\"\u001B[39m\u001B[38;5;124m#estimators-that-handle-nan-values\u001B[39m\u001B[38;5;124m\"\u001B[39m\n\u001B[1;32m    172\u001B[0m     )\n\u001B[0;32m--> 173\u001B[0m \u001B[38;5;28;01mraise\u001B[39;00m \u001B[38;5;167;01mValueError\u001B[39;00m(msg_err)\n",
      "\u001B[0;31mValueError\u001B[0m: Input X contains NaN.\nGaussianMixture does not accept missing values encoded as NaN natively. For supervised learning, you might want to consider sklearn.ensemble.HistGradientBoostingClassifier and Regressor which accept missing values encoded as NaNs natively. Alternatively, it is possible to preprocess the data, for instance by using an imputer transformer in a pipeline or drop samples with missing values. See https://scikit-learn.org/stable/modules/impute.html You can find a list of all estimators that handle NaN values at the following page: https://scikit-learn.org/stable/modules/impute.html#estimators-that-handle-nan-values"
     ]
    }
   ],
   "source": [
    "# Fit the model\n",
    "gmm.fit(df[['tcp.len_scaled']])"
   ],
   "metadata": {
    "collapsed": false,
    "ExecuteTime": {
     "end_time": "2023-12-06T13:35:33.488507Z",
     "start_time": "2023-12-06T13:35:33.285239Z"
    }
   }
  },
  {
   "cell_type": "code",
   "execution_count": 11,
   "outputs": [
    {
     "data": {
      "text/plain": "count    9.987780e+05\nmean     9.876178e-17\nstd      1.000001e+00\nmin     -1.044906e+00\n25%     -7.780239e-01\n50%     -3.478256e-01\n75%      2.835303e-01\nmax      1.862916e+00\nName: tcp.len_scaled, dtype: float64"
     },
     "execution_count": 11,
     "metadata": {},
     "output_type": "execute_result"
    }
   ],
   "source": [
    "df['tcp.len_scaled'].describe()"
   ],
   "metadata": {
    "collapsed": false,
    "ExecuteTime": {
     "end_time": "2023-12-06T13:37:31.151505Z",
     "start_time": "2023-12-06T13:37:31.097520Z"
    }
   }
  },
  {
   "cell_type": "code",
   "execution_count": 12,
   "outputs": [
    {
     "data": {
      "text/plain": "True"
     },
     "execution_count": 12,
     "metadata": {},
     "output_type": "execute_result"
    }
   ],
   "source": [
    "df['tcp.len_scaled'].isna().any()\n"
   ],
   "metadata": {
    "collapsed": false,
    "ExecuteTime": {
     "end_time": "2023-12-06T13:42:41.605773Z",
     "start_time": "2023-12-06T13:42:41.570923Z"
    }
   }
  },
  {
   "cell_type": "code",
   "execution_count": 13,
   "outputs": [
    {
     "data": {
      "text/plain": "1222"
     },
     "execution_count": 13,
     "metadata": {},
     "output_type": "execute_result"
    }
   ],
   "source": [
    "df['tcp.len_scaled'].isna().sum()"
   ],
   "metadata": {
    "collapsed": false,
    "ExecuteTime": {
     "end_time": "2023-12-06T13:43:03.036374Z",
     "start_time": "2023-12-06T13:43:02.999629Z"
    }
   }
  },
  {
   "cell_type": "code",
   "execution_count": 16,
   "outputs": [
    {
     "data": {
      "text/plain": "0.1222"
     },
     "execution_count": 16,
     "metadata": {},
     "output_type": "execute_result"
    }
   ],
   "source": [
    "df['tcp.len'].isna().sum()/df.shape[0] * 100"
   ],
   "metadata": {
    "collapsed": false,
    "ExecuteTime": {
     "end_time": "2023-12-06T13:44:21.515839Z",
     "start_time": "2023-12-06T13:44:21.499778Z"
    }
   }
  },
  {
   "cell_type": "markdown",
   "source": [
    "12 % of the feature is NaN. I will drop them for now"
   ],
   "metadata": {
    "collapsed": false
   }
  },
  {
   "cell_type": "code",
   "execution_count": 17,
   "outputs": [],
   "source": [
    "df = df.dropna(subset=['tcp.len_scaled'])"
   ],
   "metadata": {
    "collapsed": false,
    "ExecuteTime": {
     "end_time": "2023-12-06T13:46:35.196673Z",
     "start_time": "2023-12-06T13:46:35.115046Z"
    }
   }
  },
  {
   "cell_type": "code",
   "execution_count": 19,
   "outputs": [
    {
     "data": {
      "text/plain": "(998778, 6)"
     },
     "execution_count": 19,
     "metadata": {},
     "output_type": "execute_result"
    }
   ],
   "source": [
    "df.shape"
   ],
   "metadata": {
    "collapsed": false,
    "ExecuteTime": {
     "end_time": "2023-12-06T13:46:54.605615Z",
     "start_time": "2023-12-06T13:46:54.575913Z"
    }
   }
  },
  {
   "cell_type": "code",
   "execution_count": 20,
   "outputs": [
    {
     "data": {
      "text/plain": "GaussianMixture(n_components=4, random_state=0)",
      "text/html": "<style>#sk-container-id-1 {color: black;}#sk-container-id-1 pre{padding: 0;}#sk-container-id-1 div.sk-toggleable {background-color: white;}#sk-container-id-1 label.sk-toggleable__label {cursor: pointer;display: block;width: 100%;margin-bottom: 0;padding: 0.3em;box-sizing: border-box;text-align: center;}#sk-container-id-1 label.sk-toggleable__label-arrow:before {content: \"▸\";float: left;margin-right: 0.25em;color: #696969;}#sk-container-id-1 label.sk-toggleable__label-arrow:hover:before {color: black;}#sk-container-id-1 div.sk-estimator:hover label.sk-toggleable__label-arrow:before {color: black;}#sk-container-id-1 div.sk-toggleable__content {max-height: 0;max-width: 0;overflow: hidden;text-align: left;background-color: #f0f8ff;}#sk-container-id-1 div.sk-toggleable__content pre {margin: 0.2em;color: black;border-radius: 0.25em;background-color: #f0f8ff;}#sk-container-id-1 input.sk-toggleable__control:checked~div.sk-toggleable__content {max-height: 200px;max-width: 100%;overflow: auto;}#sk-container-id-1 input.sk-toggleable__control:checked~label.sk-toggleable__label-arrow:before {content: \"▾\";}#sk-container-id-1 div.sk-estimator input.sk-toggleable__control:checked~label.sk-toggleable__label {background-color: #d4ebff;}#sk-container-id-1 div.sk-label input.sk-toggleable__control:checked~label.sk-toggleable__label {background-color: #d4ebff;}#sk-container-id-1 input.sk-hidden--visually {border: 0;clip: rect(1px 1px 1px 1px);clip: rect(1px, 1px, 1px, 1px);height: 1px;margin: -1px;overflow: hidden;padding: 0;position: absolute;width: 1px;}#sk-container-id-1 div.sk-estimator {font-family: monospace;background-color: #f0f8ff;border: 1px dotted black;border-radius: 0.25em;box-sizing: border-box;margin-bottom: 0.5em;}#sk-container-id-1 div.sk-estimator:hover {background-color: #d4ebff;}#sk-container-id-1 div.sk-parallel-item::after {content: \"\";width: 100%;border-bottom: 1px solid gray;flex-grow: 1;}#sk-container-id-1 div.sk-label:hover label.sk-toggleable__label {background-color: #d4ebff;}#sk-container-id-1 div.sk-serial::before {content: \"\";position: absolute;border-left: 1px solid gray;box-sizing: border-box;top: 0;bottom: 0;left: 50%;z-index: 0;}#sk-container-id-1 div.sk-serial {display: flex;flex-direction: column;align-items: center;background-color: white;padding-right: 0.2em;padding-left: 0.2em;position: relative;}#sk-container-id-1 div.sk-item {position: relative;z-index: 1;}#sk-container-id-1 div.sk-parallel {display: flex;align-items: stretch;justify-content: center;background-color: white;position: relative;}#sk-container-id-1 div.sk-item::before, #sk-container-id-1 div.sk-parallel-item::before {content: \"\";position: absolute;border-left: 1px solid gray;box-sizing: border-box;top: 0;bottom: 0;left: 50%;z-index: -1;}#sk-container-id-1 div.sk-parallel-item {display: flex;flex-direction: column;z-index: 1;position: relative;background-color: white;}#sk-container-id-1 div.sk-parallel-item:first-child::after {align-self: flex-end;width: 50%;}#sk-container-id-1 div.sk-parallel-item:last-child::after {align-self: flex-start;width: 50%;}#sk-container-id-1 div.sk-parallel-item:only-child::after {width: 0;}#sk-container-id-1 div.sk-dashed-wrapped {border: 1px dashed gray;margin: 0 0.4em 0.5em 0.4em;box-sizing: border-box;padding-bottom: 0.4em;background-color: white;}#sk-container-id-1 div.sk-label label {font-family: monospace;font-weight: bold;display: inline-block;line-height: 1.2em;}#sk-container-id-1 div.sk-label-container {text-align: center;}#sk-container-id-1 div.sk-container {/* jupyter's `normalize.less` sets `[hidden] { display: none; }` but bootstrap.min.css set `[hidden] { display: none !important; }` so we also need the `!important` here to be able to override the default hidden behavior on the sphinx rendered scikit-learn.org. See: https://github.com/scikit-learn/scikit-learn/issues/21755 */display: inline-block !important;position: relative;}#sk-container-id-1 div.sk-text-repr-fallback {display: none;}</style><div id=\"sk-container-id-1\" class=\"sk-top-container\"><div class=\"sk-text-repr-fallback\"><pre>GaussianMixture(n_components=4, random_state=0)</pre><b>In a Jupyter environment, please rerun this cell to show the HTML representation or trust the notebook. <br />On GitHub, the HTML representation is unable to render, please try loading this page with nbviewer.org.</b></div><div class=\"sk-container\" hidden><div class=\"sk-item\"><div class=\"sk-estimator sk-toggleable\"><input class=\"sk-toggleable__control sk-hidden--visually\" id=\"sk-estimator-id-1\" type=\"checkbox\" checked><label for=\"sk-estimator-id-1\" class=\"sk-toggleable__label sk-toggleable__label-arrow\">GaussianMixture</label><div class=\"sk-toggleable__content\"><pre>GaussianMixture(n_components=4, random_state=0)</pre></div></div></div></div></div>"
     },
     "execution_count": 20,
     "metadata": {},
     "output_type": "execute_result"
    }
   ],
   "source": [
    "gmm.fit(df[['tcp.len_scaled']])\n"
   ],
   "metadata": {
    "collapsed": false,
    "ExecuteTime": {
     "end_time": "2023-12-06T13:47:23.854943Z",
     "start_time": "2023-12-06T13:47:21.080616Z"
    }
   }
  },
  {
   "cell_type": "code",
   "execution_count": 21,
   "outputs": [],
   "source": [
    "# Predict the labels\n",
    "labels = gmm.predict(df[['tcp.len_scaled']])"
   ],
   "metadata": {
    "collapsed": false,
    "ExecuteTime": {
     "end_time": "2023-12-06T13:49:07.858227Z",
     "start_time": "2023-12-06T13:49:07.711795Z"
    }
   }
  },
  {
   "cell_type": "code",
   "execution_count": 36,
   "outputs": [
    {
     "data": {
      "text/plain": "array([2, 1, 3, ..., 0, 1, 0])"
     },
     "execution_count": 36,
     "metadata": {},
     "output_type": "execute_result"
    }
   ],
   "source": [
    "labels\n",
    "# After fitting the model, when we use gmm.predict, the model assigns each data point in the dataset to one of these Gaussian components. The assignment is based on which Gaussian distribution the data point most likely belongs to."
   ],
   "metadata": {
    "collapsed": false,
    "ExecuteTime": {
     "end_time": "2023-12-06T15:58:33.973887Z",
     "start_time": "2023-12-06T15:58:33.897357Z"
    }
   }
  },
  {
   "cell_type": "markdown",
   "source": [
    "Identifying Anomalies\n",
    "Anomalies can be detected as data points that have a low likelihood of being generated by any of the Gaussian components. I can use the score_samples method, which gives the log-likelihood of each sample. A threshold is then set to flag anomalies."
   ],
   "metadata": {
    "collapsed": false
   }
  },
  {
   "cell_type": "code",
   "execution_count": 22,
   "outputs": [],
   "source": [
    "# For a GMM, the likelihood of a single data point is the probability that this point was generated by one of the Gaussian distributions that make up the model.\n",
    "\n",
    "# Logarithm of Likelihood (Log-Likelihood): Since probabilities can be very small numbers, it's common to use the logarithm of the likelihood, which transforms the product of probabilities into a sum of logarithms. This makes calculations more manageable and helps avoid numerical underflow, which can occur when working with very small numbers.\n",
    "\n",
    "# In anomaly detection, data points that have a very low log-likelihood (i.e., they are very unlikely to have been generated by any of the Gaussian distributions in the model) can be considered anomalies.\n",
    "\n",
    "# Calculate log-likelihood of each sample\n",
    "\n",
    "log_likelihood = gmm.score_samples(df[['tcp.len_scaled']])"
   ],
   "metadata": {
    "collapsed": false,
    "ExecuteTime": {
     "end_time": "2023-12-06T13:50:45.450860Z",
     "start_time": "2023-12-06T13:50:45.113346Z"
    }
   }
  },
  {
   "cell_type": "code",
   "execution_count": 37,
   "outputs": [
    {
     "data": {
      "text/plain": "array([-0.83247261, -1.64080514,  4.47061149, ...,  0.04258206,\n       -1.42906182,  0.17661217])"
     },
     "execution_count": 37,
     "metadata": {},
     "output_type": "execute_result"
    }
   ],
   "source": [
    "log_likelihood"
   ],
   "metadata": {
    "collapsed": false,
    "ExecuteTime": {
     "end_time": "2023-12-06T16:08:35.552833Z",
     "start_time": "2023-12-06T16:08:35.509132Z"
    }
   }
  },
  {
   "cell_type": "code",
   "execution_count": 26,
   "outputs": [],
   "source": [
    "# Set a threshold for anomaly detection --> can be adjusted later\n",
    "threshold = np.percentile(log_likelihood, 5)"
   ],
   "metadata": {
    "collapsed": false,
    "ExecuteTime": {
     "end_time": "2023-12-06T13:52:14.026544Z",
     "start_time": "2023-12-06T13:52:14.000778Z"
    }
   }
  },
  {
   "cell_type": "code",
   "execution_count": 38,
   "outputs": [
    {
     "data": {
      "text/plain": "-1.8629465569950379"
     },
     "execution_count": 38,
     "metadata": {},
     "output_type": "execute_result"
    }
   ],
   "source": [
    "# The idea here is to use this 5th percentile value as a threshold. Any data point whose log-likelihood is below this threshold is considered an anomaly.\n",
    "threshold"
   ],
   "metadata": {
    "collapsed": false,
    "ExecuteTime": {
     "end_time": "2023-12-06T16:15:07.422205Z",
     "start_time": "2023-12-06T16:15:07.293914Z"
    }
   }
  },
  {
   "cell_type": "code",
   "execution_count": 34,
   "outputs": [],
   "source": [
    "# Flag anomalies\n",
    "df['anomaly'] = log_likelihood < threshold"
   ],
   "metadata": {
    "collapsed": false,
    "ExecuteTime": {
     "end_time": "2023-12-06T14:02:48.757947Z",
     "start_time": "2023-12-06T14:02:48.726128Z"
    }
   }
  },
  {
   "cell_type": "code",
   "execution_count": 41,
   "outputs": [
    {
     "data": {
      "text/plain": "<Figure size 1000x600 with 1 Axes>",
      "image/png": "[encoded data removed]"
     },
     "metadata": {},
     "output_type": "display_data"
    }
   ],
   "source": [
    "# Visualization and Analysis\n",
    "# Finally, it's a good practice to visualize the results to understand the distribution of anomalies.\n",
    "\n",
    "plt.figure(figsize= (10,6))\n",
    "sns.histplot(df['tcp.len_scaled'],\n",
    "             bins=50,\n",
    "             kde=False,\n",
    "             color='blue')\n",
    "\n",
    "anomalies = df[df['anomaly']]\n",
    "plt.scatter(anomalies['tcp.len_scaled'],\n",
    "            [0] * len(anomalies),\n",
    "            color='red',\n",
    "            label='Anomalies')\n",
    "plt.legend()\n",
    "plt.title('Anomalies Detected by GMM ** n_components=4, 5th percentile')\n",
    "plt.xlabel('Scaled tcp.len')\n",
    "plt.ylabel('Frequency')\n",
    "plt.show()\n"
   ],
   "metadata": {
    "collapsed": false,
    "ExecuteTime": {
     "end_time": "2023-12-06T16:17:00.652217Z",
     "start_time": "2023-12-06T16:16:59.649369Z"
    }
   }
  },
  {
   "cell_type": "markdown",
   "source": [
    "The red dots signify the anomalies as determined by the GMM. These are likely the data points that fell below the 5th percentile of the log-likelihood values computed by the GMM, indicating that they are less likely to have been generated by any of the Gaussian components in the model.\n",
    "\n",
    "I have the original df where I can go anc check these anomalies one by one I also have a column in the original df called \"alert: Packet classification for \"benign\" or \"suspicious\".\" An additional column has been added to label each row as either \"benign\" or \"suspicious\". The \"benign\" label represents normal network traffic, primarily from the Normal Windows PC, while the \"suspicious\" label represents potential attack traffic, mainly sourced from the Kali machine attacking the OWASP server.\n"
   ],
   "metadata": {
    "collapsed": false
   }
  },
  {
   "cell_type": "code",
   "execution_count": 42,
   "outputs": [
    {
     "name": "stderr",
     "output_type": "stream",
     "text": [
      "/tmp/ipykernel_390100/1098512052.py:2: DtypeWarning: Columns (34,37,44,50,52,54,70,71) have mixed types. Specify dtype option on import or set low_memory=False.\n",
      "  df_original = pd.read_csv(filepath)\n"
     ]
    }
   ],
   "source": [
    "filepath = \"attack-sample.csv\"\n",
    "df_original = pd.read_csv(filepath)"
   ],
   "metadata": {
    "collapsed": false,
    "ExecuteTime": {
     "end_time": "2023-12-06T16:31:52.755973Z",
     "start_time": "2023-12-06T16:31:45.332769Z"
    }
   }
  },
  {
   "cell_type": "code",
   "execution_count": 43,
   "outputs": [
    {
     "data": {
      "text/plain": "Index(['frame.number', 'frame.len', 'frame.time', 'frame.time_epoch',\n       'frame.protocols', 'eth.src', 'eth.dst', 'eth.type', 'ip.src', 'ip.dst',\n       'ip.len', 'ip.ttl', 'ip.flags', 'ip.frag_offset', 'ip.proto',\n       'ip.version', 'ip.dsfield', 'ip.checksum', 'tcp.srcport', 'tcp.dstport',\n       'tcp.len', 'tcp.seq', 'tcp.ack', 'tcp.flags', 'tcp.flags.syn',\n       'tcp.flags.ack', 'tcp.flags.fin', 'tcp.flags.reset', 'tcp.window_size',\n       'tcp.checksum', 'tcp.stream', 'udp.srcport', 'udp.dstport',\n       'udp.length', 'udp.checksum', 'icmp.type', 'icmp.code', 'icmp.checksum',\n       'http.request.method', 'http.request.uri', 'http.request.version',\n       'http.request.full_uri', 'http.response.code', 'http.user_agent',\n       'http.content_length_header', 'http.content_type', 'http.cookie',\n       'http.host', 'http.referer', 'http.location', 'http.authorization',\n       'http.connection', 'dns.qry.name', 'dns.qry.type', 'dns.qry.class',\n       'dns.flags.response', 'dns.flags.recdesired', 'dns.flags.rcode',\n       'dns.resp.ttl', 'dns.resp.len', 'smtp.req.command',\n       'smtp.data.fragment', 'pop.request.command', 'pop.response',\n       'imap.request.command', 'imap.response', 'ftp.request.command',\n       'ftp.request.arg', 'ftp.response.code', 'ftp.response.arg', 'ipv6.src',\n       'ipv6.dst', 'ipv6.plen', 'alert'],\n      dtype='object')"
     },
     "execution_count": 43,
     "metadata": {},
     "output_type": "execute_result"
    }
   ],
   "source": [
    "df_original.columns"
   ],
   "metadata": {
    "collapsed": false,
    "ExecuteTime": {
     "end_time": "2023-12-06T16:32:06.778985Z",
     "start_time": "2023-12-06T16:32:06.742315Z"
    }
   }
  },
  {
   "cell_type": "code",
   "execution_count": 44,
   "outputs": [
    {
     "data": {
      "text/plain": "1222"
     },
     "execution_count": 44,
     "metadata": {},
     "output_type": "execute_result"
    }
   ],
   "source": [
    "# df_original['tcp.len'].isna().sum() 1222\n",
    "# I will dropp them"
   ],
   "metadata": {
    "collapsed": false,
    "ExecuteTime": {
     "end_time": "2023-12-06T16:32:59.293115Z",
     "start_time": "2023-12-06T16:32:59.209093Z"
    }
   }
  },
  {
   "cell_type": "code",
   "execution_count": 0,
   "outputs": [],
   "source": [
    "sub_df_original = df_original.loc[:, ['tcp.len', 'alert']]\n",
    "sub_df_original = sub_df_original.dropna(subset=['tcp.len'])"
   ],
   "metadata": {
    "collapsed": false
   }
  },
  {
   "cell_type": "code",
   "execution_count": 48,
   "outputs": [
    {
     "data": {
      "text/plain": "(998778, 2)"
     },
     "execution_count": 48,
     "metadata": {},
     "output_type": "execute_result"
    }
   ],
   "source": [
    "sub_df_original.shape"
   ],
   "metadata": {
    "collapsed": false,
    "ExecuteTime": {
     "end_time": "2023-12-06T16:39:04.589774Z",
     "start_time": "2023-12-06T16:39:04.538224Z"
    }
   }
  },
  {
   "cell_type": "code",
   "execution_count": 49,
   "outputs": [
    {
     "data": {
      "text/plain": "0         False\n1         False\n2         False\n3         False\n4         False\n          ...  \n999995    False\n999996    False\n999997    False\n999998    False\n999999    False\nName: anomaly, Length: 998778, dtype: bool"
     },
     "execution_count": 49,
     "metadata": {},
     "output_type": "execute_result"
    }
   ],
   "source": [
    "df.anomaly"
   ],
   "metadata": {
    "collapsed": false,
    "ExecuteTime": {
     "end_time": "2023-12-06T16:42:13.006360Z",
     "start_time": "2023-12-06T16:42:12.962211Z"
    }
   }
  },
  {
   "cell_type": "code",
   "execution_count": 50,
   "outputs": [],
   "source": [
    "sub_df_original['anomaly'] = df['anomaly']\n"
   ],
   "metadata": {
    "collapsed": false,
    "ExecuteTime": {
     "end_time": "2023-12-06T16:42:26.224013Z",
     "start_time": "2023-12-06T16:42:26.215678Z"
    }
   }
  },
  {
   "cell_type": "code",
   "execution_count": 60,
   "outputs": [
    {
     "data": {
      "text/plain": "   tcp.len       alert  anomaly\n0    152.0  suspicious    False\n1   1200.0  suspicious    False\n2      0.0  suspicious    False\n3    187.0  suspicious    False\n4   1204.0  suspicious    False\n5   1448.0  suspicious    False\n6    580.0  suspicious    False\n7   1214.0  suspicious    False\n8    187.0  suspicious    False\n9    346.0  suspicious    False",
      "text/html": "<div>\n<style scoped>\n    .dataframe tbody tr th:only-of-type {\n        vertical-align: middle;\n    }\n\n    .dataframe tbody tr th {\n        vertical-align: top;\n    }\n\n    .dataframe thead th {\n        text-align: right;\n    }\n</style>\n<table border=\"1\" class=\"dataframe\">\n  <thead>\n    <tr style=\"text-align: right;\">\n      <th></th>\n      <th>tcp.len</th>\n      <th>alert</th>\n      <th>anomaly</th>\n    </tr>\n  </thead>\n  <tbody>\n    <tr>\n      <th>0</th>\n      <td>152.0</td>\n      <td>suspicious</td>\n      <td>False</td>\n    </tr>\n    <tr>\n      <th>1</th>\n      <td>1200.0</td>\n      <td>suspicious</td>\n      <td>False</td>\n    </tr>\n    <tr>\n      <th>2</th>\n      <td>0.0</td>\n      <td>suspicious</td>\n      <td>False</td>\n    </tr>\n    <tr>\n      <th>3</th>\n      <td>187.0</td>\n      <td>suspicious</td>\n      <td>False</td>\n    </tr>\n    <tr>\n      <th>4</th>\n      <td>1204.0</td>\n      <td>suspicious</td>\n      <td>False</td>\n    </tr>\n    <tr>\n      <th>5</th>\n      <td>1448.0</td>\n      <td>suspicious</td>\n      <td>False</td>\n    </tr>\n    <tr>\n      <th>6</th>\n      <td>580.0</td>\n      <td>suspicious</td>\n      <td>False</td>\n    </tr>\n    <tr>\n      <th>7</th>\n      <td>1214.0</td>\n      <td>suspicious</td>\n      <td>False</td>\n    </tr>\n    <tr>\n      <th>8</th>\n      <td>187.0</td>\n      <td>suspicious</td>\n      <td>False</td>\n    </tr>\n    <tr>\n      <th>9</th>\n      <td>346.0</td>\n      <td>suspicious</td>\n      <td>False</td>\n    </tr>\n  </tbody>\n</table>\n</div>"
     },
     "execution_count": 60,
     "metadata": {},
     "output_type": "execute_result"
    }
   ],
   "source": [
    "sub_df_original.head(10)"
   ],
   "metadata": {
    "collapsed": false,
    "ExecuteTime": {
     "end_time": "2023-12-06T17:16:01.852200Z",
     "start_time": "2023-12-06T17:16:01.587472Z"
    }
   }
  },
  {
   "cell_type": "code",
   "execution_count": 72,
   "outputs": [
    {
     "data": {
      "text/plain": "alert\nsuspicious    996126\nbenign          2652\nName: count, dtype: int64"
     },
     "execution_count": 72,
     "metadata": {},
     "output_type": "execute_result"
    }
   ],
   "source": [
    "sub_df_original['alert'].value_counts()"
   ],
   "metadata": {
    "collapsed": false,
    "ExecuteTime": {
     "end_time": "2023-12-06T18:09:07.885987Z",
     "start_time": "2023-12-06T18:09:07.857683Z"
    }
   }
  },
  {
   "cell_type": "code",
   "execution_count": 73,
   "outputs": [
    {
     "data": {
      "text/plain": "anomaly\nFalse    948912\nTrue      49866\nName: count, dtype: int64"
     },
     "execution_count": 73,
     "metadata": {},
     "output_type": "execute_result"
    }
   ],
   "source": [
    "sub_df_original['anomaly'].value_counts()"
   ],
   "metadata": {
    "collapsed": false,
    "ExecuteTime": {
     "end_time": "2023-12-06T18:09:31.603725Z",
     "start_time": "2023-12-06T18:09:31.560379Z"
    }
   }
  },
  {
   "cell_type": "code",
   "execution_count": 55,
   "outputs": [
    {
     "data": {
      "text/plain": "        tcp.len       alert  anomaly\n27        455.0  suspicious     True\n38        695.0  suspicious     True\n42        973.0  suspicious     True\n86        973.0  suspicious     True\n122       475.0  suspicious     True\n...         ...         ...      ...\n999944    553.0  suspicious     True\n999948    915.0  suspicious     True\n999977    436.0  suspicious     True\n999981    423.0  suspicious     True\n999994    471.0  suspicious     True\n\n[49782 rows x 3 columns]",
      "text/html": "<div>\n<style scoped>\n    .dataframe tbody tr th:only-of-type {\n        vertical-align: middle;\n    }\n\n    .dataframe tbody tr th {\n        vertical-align: top;\n    }\n\n    .dataframe thead th {\n        text-align: right;\n    }\n</style>\n<table border=\"1\" class=\"dataframe\">\n  <thead>\n    <tr style=\"text-align: right;\">\n      <th></th>\n      <th>tcp.len</th>\n      <th>alert</th>\n      <th>anomaly</th>\n    </tr>\n  </thead>\n  <tbody>\n    <tr>\n      <th>27</th>\n      <td>455.0</td>\n      <td>suspicious</td>\n      <td>True</td>\n    </tr>\n    <tr>\n      <th>38</th>\n      <td>695.0</td>\n      <td>suspicious</td>\n      <td>True</td>\n    </tr>\n    <tr>\n      <th>42</th>\n      <td>973.0</td>\n      <td>suspicious</td>\n      <td>True</td>\n    </tr>\n    <tr>\n      <th>86</th>\n      <td>973.0</td>\n      <td>suspicious</td>\n      <td>True</td>\n    </tr>\n    <tr>\n      <th>122</th>\n      <td>475.0</td>\n      <td>suspicious</td>\n      <td>True</td>\n    </tr>\n    <tr>\n      <th>...</th>\n      <td>...</td>\n      <td>...</td>\n      <td>...</td>\n    </tr>\n    <tr>\n      <th>999944</th>\n      <td>553.0</td>\n      <td>suspicious</td>\n      <td>True</td>\n    </tr>\n    <tr>\n      <th>999948</th>\n      <td>915.0</td>\n      <td>suspicious</td>\n      <td>True</td>\n    </tr>\n    <tr>\n      <th>999977</th>\n      <td>436.0</td>\n      <td>suspicious</td>\n      <td>True</td>\n    </tr>\n    <tr>\n      <th>999981</th>\n      <td>423.0</td>\n      <td>suspicious</td>\n      <td>True</td>\n    </tr>\n    <tr>\n      <th>999994</th>\n      <td>471.0</td>\n      <td>suspicious</td>\n      <td>True</td>\n    </tr>\n  </tbody>\n</table>\n<p>49782 rows × 3 columns</p>\n</div>"
     },
     "execution_count": 55,
     "metadata": {},
     "output_type": "execute_result"
    }
   ],
   "source": [
    "sub_df_original.loc[(sub_df_original['anomaly'] == True) & (sub_df_original['alert'] == 'suspicious')]"
   ],
   "metadata": {
    "collapsed": false,
    "ExecuteTime": {
     "end_time": "2023-12-06T17:02:40.729863Z",
     "start_time": "2023-12-06T17:02:40.676270Z"
    }
   }
  },
  {
   "cell_type": "markdown",
   "source": [
    "since I have labels ('suspicious' or 'benign'), I can use them to evaluate the performance of my GMM as an anomaly detection system.\n",
    "Calculating precision and recall:\n",
    "True Positives (TP): The count of 'suspicious' instances correctly identified as anomalies.\n",
    "False Positives (FP): The count of 'benign' instances incorrectly identified as anomalies.\n",
    "False Negatives (FN): The count of 'suspicious' instances not identified as anomalies."
   ],
   "metadata": {
    "collapsed": false
   }
  },
  {
   "cell_type": "code",
   "execution_count": 61,
   "outputs": [],
   "source": [
    "TP = ((sub_df_original['alert'] == 'suspicious') & (sub_df_original['anomaly'] == True)).sum()\n",
    "FP = ((sub_df_original['alert'] == 'benign') & (sub_df_original['anomaly'] == True)).sum()\n",
    "FN = ((sub_df_original['alert'] == 'suspicious') & (sub_df_original['anomaly'] == False)).sum()\n"
   ],
   "metadata": {
    "collapsed": false,
    "ExecuteTime": {
     "end_time": "2023-12-06T17:16:44.699579Z",
     "start_time": "2023-12-06T17:16:44.517487Z"
    }
   }
  },
  {
   "cell_type": "code",
   "execution_count": 62,
   "outputs": [
    {
     "name": "stdout",
     "output_type": "stream",
     "text": [
      "Precision is: 0.998315485501143 \n",
      "Recall is: 0.04997560549569031\n"
     ]
    }
   ],
   "source": [
    "precision = TP / (TP + FP) if (TP + FP) > 0 else 0\n",
    "recall = TP / (TP + FN) if (TP + FN) > 0 else 0\n",
    "\n",
    "print(f'Precision is: {precision} \\nRecall is: {recall}')"
   ],
   "metadata": {
    "collapsed": false,
    "ExecuteTime": {
     "end_time": "2023-12-06T17:17:43.055053Z",
     "start_time": "2023-12-06T17:17:42.920883Z"
    }
   }
  },
  {
   "cell_type": "markdown",
   "source": [
    "I have a very high precision and very low recall. I higher recall. I should beable to at least catch 30% of anomalies.\n",
    "\n",
    "Checking the confusion matrix"
   ],
   "metadata": {
    "collapsed": false
   }
  },
  {
   "cell_type": "code",
   "execution_count": 68,
   "outputs": [],
   "source": [
    "# Convert 'suspicious'/'benign' to a binary format where 'suspicious' is 1 and 'benign' is 0\n",
    "true_labels = (sub_df_original['alert'] == 'suspicious').astype(int)\n",
    "\n",
    "# Convert boolean 'anomaly' flags to binary format\n",
    "predicted_labels = sub_df_original['anomaly'].astype(int)\n",
    "\n",
    "# Generate the confusion matrix\n",
    "cm = confusion_matrix(true_labels, predicted_labels)"
   ],
   "metadata": {
    "collapsed": false,
    "ExecuteTime": {
     "end_time": "2023-12-06T18:01:48.090970Z",
     "start_time": "2023-12-06T18:01:47.950821Z"
    }
   }
  },
  {
   "cell_type": "code",
   "execution_count": 65,
   "outputs": [
    {
     "data": {
      "text/plain": "array([[  2568,     84],\n       [946344,  49782]])"
     },
     "execution_count": 65,
     "metadata": {},
     "output_type": "execute_result"
    }
   ],
   "source": [
    "cm"
   ],
   "metadata": {
    "collapsed": false,
    "ExecuteTime": {
     "end_time": "2023-12-06T17:29:31.928455Z",
     "start_time": "2023-12-06T17:29:31.847818Z"
    }
   }
  },
  {
   "cell_type": "code",
   "execution_count": 78,
   "outputs": [
    {
     "data": {
      "text/plain": "<Figure size 800x600 with 2 Axes>",
      "image/png": "[encoded data removed]"
     },
     "metadata": {},
     "output_type": "display_data"
    }
   ],
   "source": [
    "plt.figure(figsize=(8,6))\n",
    "sns.heatmap(cm,\n",
    "            annot=True,\n",
    "            fmt='d',\n",
    "            cmap='Blues',\n",
    "            xticklabels=['Benign', 'Suspicious'],\n",
    "            yticklabels=['Benign', 'Suspicious'])\n",
    "plt.title('Confusion Matrix ** n_components=4, 5th percentile')\n",
    "plt.ylabel('Actual Class')\n",
    "plt.xlabel('Predicted Class')\n",
    "plt.show()"
   ],
   "metadata": {
    "collapsed": false,
    "ExecuteTime": {
     "end_time": "2023-12-06T18:23:04.464325Z",
     "start_time": "2023-12-06T18:23:04.068283Z"
    }
   }
  },
  {
   "cell_type": "markdown",
   "source": [
    "To plot a Receiver Operating Characteristic (ROC) curve and calculate the Area Under the Curve (AUC) for my Gaussian Mixture Model (GMM), I would typically need a way to rank my predictions based on their likelihood of being an anomaly. The GMM provides the score_samples method which returns the log-likelihood of each sample. I can use the negative log-likelihood as a \"score\" to rank the anomalies—the higher the score, the more likely it is to be an anomaly.\n",
    "\n",
    "I have my anomaly scores as\n",
    "log_likelihood = gmm.score_samples(df[['tcp.len_scaled']]) and have my\n",
    "true_labels = (sub_df_original['alert'] == 'suspicious').astype(int)\n"
   ],
   "metadata": {
    "collapsed": false
   }
  },
  {
   "cell_type": "code",
   "execution_count": 69,
   "outputs": [],
   "source": [
    "fpr, tpr, thresholds = roc_curve(true_labels, log_likelihood)"
   ],
   "metadata": {
    "collapsed": false,
    "ExecuteTime": {
     "end_time": "2023-12-06T18:02:59.780397Z",
     "start_time": "2023-12-06T18:02:59.715823Z"
    }
   }
  },
  {
   "cell_type": "code",
   "execution_count": 70,
   "outputs": [],
   "source": [
    "roc_auc = roc_auc_score(true_labels, log_likelihood)"
   ],
   "metadata": {
    "collapsed": false,
    "ExecuteTime": {
     "end_time": "2023-12-06T18:03:46.348438Z",
     "start_time": "2023-12-06T18:03:46.218122Z"
    }
   }
  },
  {
   "cell_type": "code",
   "execution_count": 71,
   "outputs": [
    {
     "data": {
      "text/plain": "<Figure size 1000x800 with 1 Axes>",
      "image/png": "[encoded data removed]"
     },
     "metadata": {},
     "output_type": "display_data"
    }
   ],
   "source": [
    "plt.figure(figsize=(10, 8))\n",
    "plt.plot(fpr, tpr, color='blue', lw=2, label='ROC curve (area = %0.2f)' % roc_auc)\n",
    "plt.plot([0, 1], [0, 1], color='darkgrey', lw=2, linestyle='--')\n",
    "plt.xlim([0.0, 1.0])\n",
    "plt.ylim([0.0, 1.05])\n",
    "plt.xlabel('False Positive Rate')\n",
    "plt.ylabel('True Positive Rate')\n",
    "plt.title('Receiver Operating Characteristic')\n",
    "plt.legend(loc=\"lower right\")\n",
    "plt.show()"
   ],
   "metadata": {
    "collapsed": false,
    "ExecuteTime": {
     "end_time": "2023-12-06T18:04:24.340861Z",
     "start_time": "2023-12-06T18:04:24.185555Z"
    }
   }
  },
  {
   "cell_type": "markdown",
   "source": [
    "The ROC curve is a graphical representation of the trade-off between the true positive rate and false positive rate at various thresholds.\n",
    "AUC represents the likelihood that a randomly chosen positive instance is ranked higher than a randomly chosen negative one.\n",
    "AUC values range from 0 to 1, where 1 indicates a perfect model and 0.5 indicates a model with no discriminative power."
   ],
   "metadata": {
    "collapsed": false
   }
  },
  {
   "cell_type": "markdown",
   "source": [],
   "metadata": {
    "collapsed": false
   }
  },
  {
   "cell_type": "markdown",
   "source": [
    "considering it's an imbalanced dataset, precision-recall curve is a better representation"
   ],
   "metadata": {
    "collapsed": false
   }
  },
  {
   "cell_type": "markdown",
   "source": [
    "precision_recall_curve function computes precision and recall for different thresholds:"
   ],
   "metadata": {
    "collapsed": false
   }
  },
  {
   "cell_type": "code",
   "execution_count": 75,
   "outputs": [],
   "source": [
    "precision, recall, threshold2s = precision_recall_curve(true_labels, log_likelihood)"
   ],
   "metadata": {
    "collapsed": false,
    "ExecuteTime": {
     "end_time": "2023-12-06T18:18:59.108519Z",
     "start_time": "2023-12-06T18:18:58.933641Z"
    }
   }
  },
  {
   "cell_type": "code",
   "execution_count": 76,
   "outputs": [
    {
     "data": {
      "text/plain": "<Figure size 1000x800 with 1 Axes>",
      "image/png": "[encoded data removed]"
     },
     "metadata": {},
     "output_type": "display_data"
    }
   ],
   "source": [
    "plt.figure(figsize=(10, 8))\n",
    "plt.plot(recall, precision, color='blue', lw=2, label='Precision-Recall curve')\n",
    "plt.fill_between(recall, precision, step='post', alpha=0.2, color='b')\n",
    "\n",
    "plt.title('Precision-Recall Curve')\n",
    "plt.xlabel('Recall')\n",
    "plt.ylabel('Precision')\n",
    "plt.ylim([0.0, 1.05])\n",
    "plt.xlim([0.0, 1.0])\n",
    "plt.legend(loc=\"upper right\")\n",
    "plt.show()\n"
   ],
   "metadata": {
    "collapsed": false,
    "ExecuteTime": {
     "end_time": "2023-12-06T18:19:25.940374Z",
     "start_time": "2023-12-06T18:19:25.791640Z"
    }
   }
  },
  {
   "cell_type": "markdown",
   "source": [],
   "metadata": {
    "collapsed": false
   }
  }
 ],
 "metadata": {
  "kernelspec": {
   "display_name": "Python 3",
   "language": "python",
   "name": "python3"
  },
  "language_info": {
   "codemirror_mode": {
    "name": "ipython",
    "version": 2
   },
   "file_extension": ".py",
   "mimetype": "text/x-python",
   "name": "python",
   "nbconvert_exporter": "python",
   "pygments_lexer": "ipython2",
   "version": "2.7.6"
  }
 },
 "nbformat": 4,
 "nbformat_minor": 0
}
