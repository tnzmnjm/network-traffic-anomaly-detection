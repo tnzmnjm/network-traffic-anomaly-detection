{
 "cells": [
  {
   "cell_type": "code",
   "execution_count": 11,
   "metadata": {
    "collapsed": true,
    "ExecuteTime": {
     "end_time": "2023-12-11T20:04:12.841384Z",
     "start_time": "2023-12-11T20:04:12.732855Z"
    }
   },
   "outputs": [],
   "source": [
    "import pandas as pd\n",
    "import joblib\n",
    "import matplotlib.pyplot as plt\n",
    "import plotly.express as px"
   ]
  },
  {
   "cell_type": "code",
   "execution_count": null,
   "outputs": [],
   "source": [
    "df = joblib.load('anomalous_df.csv')"
   ],
   "metadata": {
    "collapsed": false
   }
  },
  {
   "cell_type": "markdown",
   "source": [
    "Based on the results and the comparison of the charts in the WANDB I will set the model parameters to get the best result: precision: %99 and recall: %40"
   ],
   "metadata": {
    "collapsed": false
   }
  },
  {
   "cell_type": "code",
   "execution_count": 12,
   "outputs": [
    {
     "data": {
      "text/plain": "1     Jun  4, 2023 11:46:30.692656000 EDT\n4     Jun  4, 2023 11:45:50.803925000 EDT\n5     Jun  4, 2023 11:46:22.023191000 EDT\n6     Jun  4, 2023 12:31:40.526404000 EDT\n7     Jun  4, 2023 11:49:37.150543000 EDT\n13    Jun  4, 2023 11:47:34.587035000 EDT\n14    Jun  4, 2023 12:07:39.975212000 EDT\n15    Jun  4, 2023 11:42:02.270370000 EDT\n16    Jun  4, 2023 11:52:58.659032000 EDT\n21    Jun  4, 2023 11:48:24.611942000 EDT\nName: frame.time, dtype: object"
     },
     "execution_count": 12,
     "metadata": {},
     "output_type": "execute_result"
    }
   ],
   "source": [
    "df['frame.time'].head(10)"
   ],
   "metadata": {
    "collapsed": false,
    "ExecuteTime": {
     "end_time": "2023-12-11T15:47:15.487124Z",
     "start_time": "2023-12-11T15:47:15.337168Z"
    }
   }
  },
  {
   "cell_type": "code",
   "execution_count": 13,
   "outputs": [
    {
     "name": "stderr",
     "output_type": "stream",
     "text": [
      "/media/sumanas/Storage/envs/lowl-jaja-test/lib/python3.10/site-packages/dateutil/parser/_parser.py:1207: UnknownTimezoneWarning: tzname EDT identified but not understood.  Pass `tzinfos` argument in order to correctly return a timezone-aware datetime.  In a future version, this will raise an exception.\n",
      "  warnings.warn(\"tzname {tzname} identified but not understood.  \"\n",
      "/tmp/ipykernel_454420/317418477.py:2: SettingWithCopyWarning: \n",
      "A value is trying to be set on a copy of a slice from a DataFrame.\n",
      "Try using .loc[row_indexer,col_indexer] = value instead\n",
      "\n",
      "See the caveats in the documentation: https://pandas.pydata.org/pandas-docs/stable/user_guide/indexing.html#returning-a-view-versus-a-copy\n",
      "  anomalous_df['frame.time'] = pd.to_datetime(anomalous_df['frame.time'])\n"
     ]
    }
   ],
   "source": [
    "# I need to convert the 'frame.time' column to datetime\n",
    "df['frame.time'] = pd.to_datetime(df['frame.time'])\n"
   ],
   "metadata": {
    "collapsed": false,
    "ExecuteTime": {
     "end_time": "2023-12-11T15:47:23.200476Z",
     "start_time": "2023-12-11T15:47:22.080001Z"
    }
   }
  },
  {
   "cell_type": "code",
   "execution_count": 14,
   "outputs": [
    {
     "data": {
      "text/plain": "1    2023-06-04 11:46:30.692656\n4    2023-06-04 11:45:50.803925\n5    2023-06-04 11:46:22.023191\n6    2023-06-04 12:31:40.526404\n7    2023-06-04 11:49:37.150543\n13   2023-06-04 11:47:34.587035\n14   2023-06-04 12:07:39.975212\n15   2023-06-04 11:42:02.270370\n16   2023-06-04 11:52:58.659032\n21   2023-06-04 11:48:24.611942\nName: frame.time, dtype: datetime64[ns]"
     },
     "execution_count": 14,
     "metadata": {},
     "output_type": "execute_result"
    }
   ],
   "source": [
    "df['frame.time'].head(10)"
   ],
   "metadata": {
    "collapsed": false,
    "ExecuteTime": {
     "end_time": "2023-12-11T15:47:25.499751Z",
     "start_time": "2023-12-11T15:47:25.379816Z"
    }
   }
  },
  {
   "cell_type": "code",
   "execution_count": 15,
   "outputs": [],
   "source": [
    "# Split the 'frame.protocols' entries into individual protocols and stack them\n",
    "protocols = df['frame.protocols'].str.split(':', expand=True).stack()\n",
    "\n",
    "# Count the occurrences of each protocol\n",
    "protocol_counts = protocols.value_counts()"
   ],
   "metadata": {
    "collapsed": false,
    "ExecuteTime": {
     "end_time": "2023-12-11T15:47:44.063915Z",
     "start_time": "2023-12-11T15:47:42.770249Z"
    }
   }
  },
  {
   "cell_type": "code",
   "execution_count": 17,
   "outputs": [
    {
     "name": "stdout",
     "output_type": "stream",
     "text": [
      " anomalous_df.shape: (400626, 74)\n"
     ]
    },
    {
     "data": {
      "text/plain": "eth                400626\nethertype          400626\nip                 400626\ntcp                400626\nhttp               260037\ndata-text-lines    144098\nxml                 79697\nurlencoded-form     13645\npng                   545\nimage-gif             405\nmedia                  73\ntls                    51\nx509sat                22\ndata                   17\nimage-jfif             12\nssh                     6\nnbss                    1\nsmb                     1\nName: count, dtype: int64"
     },
     "execution_count": 17,
     "metadata": {},
     "output_type": "execute_result"
    }
   ],
   "source": [
    "print(f' anomalous_df.shape: {df.shape}')\n",
    "protocol_counts"
   ],
   "metadata": {
    "collapsed": false,
    "ExecuteTime": {
     "end_time": "2023-12-11T15:48:20.899156Z",
     "start_time": "2023-12-11T15:48:20.858090Z"
    }
   }
  },
  {
   "cell_type": "code",
   "execution_count": 18,
   "outputs": [
    {
     "data": {
      "text/plain": "1         eth:ethertype:ip:tcp:http:data-text-lines:xml\n4         eth:ethertype:ip:tcp:http:data-text-lines:xml\n5                                  eth:ethertype:ip:tcp\n6             eth:ethertype:ip:tcp:http:data-text-lines\n7         eth:ethertype:ip:tcp:http:data-text-lines:xml\n                              ...                      \n999992                             eth:ethertype:ip:tcp\n999993                             eth:ethertype:ip:tcp\n999994        eth:ethertype:ip:tcp:http:urlencoded-form\n999996                             eth:ethertype:ip:tcp\n999998                             eth:ethertype:ip:tcp\nName: frame.protocols, Length: 400626, dtype: object"
     },
     "execution_count": 18,
     "metadata": {},
     "output_type": "execute_result"
    }
   ],
   "source": [
    "df['frame.protocols']"
   ],
   "metadata": {
    "collapsed": false,
    "ExecuteTime": {
     "end_time": "2023-12-11T15:48:29.239598Z",
     "start_time": "2023-12-11T15:48:29.148819Z"
    }
   }
  },
  {
   "cell_type": "code",
   "execution_count": 19,
   "outputs": [
    {
     "name": "stderr",
     "output_type": "stream",
     "text": [
      "/tmp/ipykernel_454420/3552088726.py:2: SettingWithCopyWarning: \n",
      "A value is trying to be set on a copy of a slice from a DataFrame.\n",
      "Try using .loc[row_indexer,col_indexer] = value instead\n",
      "\n",
      "See the caveats in the documentation: https://pandas.pydata.org/pandas-docs/stable/user_guide/indexing.html#returning-a-view-versus-a-copy\n",
      "  anomalous_df['primary_protocol'] = anomalous_df['frame.protocols'].apply(lambda x:x.split(':')[-1])\n"
     ]
    }
   ],
   "source": [
    "# I will take the last protocol for the packet\n",
    "df['primary_protocol'] = df['frame.protocols'].apply(lambda x:x.split(':')[-1])"
   ],
   "metadata": {
    "collapsed": false,
    "ExecuteTime": {
     "end_time": "2023-12-11T15:48:32.017870Z",
     "start_time": "2023-12-11T15:48:31.884658Z"
    }
   }
  },
  {
   "cell_type": "code",
   "execution_count": 20,
   "outputs": [
    {
     "data": {
      "text/plain": "1                     xml\n4                     xml\n5                     tcp\n6         data-text-lines\n7                     xml\n               ...       \n999992                tcp\n999993                tcp\n999994    urlencoded-form\n999996                tcp\n999998                tcp\nName: primary_protocol, Length: 400626, dtype: object"
     },
     "execution_count": 20,
     "metadata": {},
     "output_type": "execute_result"
    }
   ],
   "source": [
    "df['primary_protocol']\n"
   ],
   "metadata": {
    "collapsed": false,
    "ExecuteTime": {
     "end_time": "2023-12-11T15:48:36.924647Z",
     "start_time": "2023-12-11T15:48:36.778766Z"
    }
   }
  },
  {
   "cell_type": "code",
   "execution_count": null,
   "outputs": [],
   "source": [
    "fig = px.scatter(df,\n",
    "                 x='frame.time',\n",
    "                 y='tcp.len',\n",
    "                 color='primary_protocol',\n",
    "                 hover_data=['frame.number', 'eth.src', 'eth.dst',\n",
    "                            'ip.src','ip.dst', 'tcp.srcport','tcp.dstport', 'http.host'],\n",
    "                 title='Anomalous Packets: TCP Length Over Time Colored by Protocol',\n",
    "                 labels={'frame.time': 'Time of Packet Capture', 'tcp.len': 'TCP Length'})\n",
    "\n",
    "fig.update_layout(legend_title_text='Protocol')\n",
    "fig.show()"
   ],
   "metadata": {
    "collapsed": false
   }
  }
 ],
 "metadata": {
  "kernelspec": {
   "display_name": "Python 3",
   "language": "python",
   "name": "python3"
  },
  "language_info": {
   "codemirror_mode": {
    "name": "ipython",
    "version": 2
   },
   "file_extension": ".py",
   "mimetype": "text/x-python",
   "name": "python",
   "nbconvert_exporter": "python",
   "pygments_lexer": "ipython2",
   "version": "2.7.6"
  }
 },
 "nbformat": 4,
 "nbformat_minor": 0
}
