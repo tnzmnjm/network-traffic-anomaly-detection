{
 "cells": [
  {
   "cell_type": "code",
   "execution_count": 1,
   "metadata": {
    "collapsed": true,
    "ExecuteTime": {
     "end_time": "2023-12-22T12:37:50.898436Z",
     "start_time": "2023-12-22T12:37:50.371223Z"
    }
   },
   "outputs": [],
   "source": [
    "import numpy as np\n",
    "import pandas as pd\n",
    "import plotly.express as px\n"
   ]
  },
  {
   "cell_type": "code",
   "execution_count": 2,
   "outputs": [
    {
     "name": "stderr",
     "output_type": "stream",
     "text": [
      "/tmp/ipykernel_610588/446883947.py:1: DtypeWarning: Columns (0,1,3,10,11,13,14,15,18,19,20,21,22,24,25,26,27,28,30,31,32,33,34,35,36,37,42,44,50,52,53,54,55,56,57,58,59,60,61,62,63,64,65,66,67,68,69,70,71,72) have mixed types. Specify dtype option on import or set low_memory=False.\n",
      "  df = pd.read_csv('../attack-sample-3m.csv')\n"
     ]
    }
   ],
   "source": [
    "df = pd.read_csv('../attack-sample-3m.csv')"
   ],
   "metadata": {
    "collapsed": false,
    "ExecuteTime": {
     "end_time": "2023-12-22T12:38:55.868406Z",
     "start_time": "2023-12-22T12:38:37.982900Z"
    }
   }
  },
  {
   "cell_type": "code",
   "execution_count": 3,
   "outputs": [
    {
     "data": {
      "text/plain": "Index(['frame.number', 'frame.len', 'frame.time', 'frame.time_epoch',\n       'frame.protocols', 'eth.src', 'eth.dst', 'eth.type', 'ip.src', 'ip.dst',\n       'ip.len', 'ip.ttl', 'ip.flags', 'ip.frag_offset', 'ip.proto',\n       'ip.version', 'ip.dsfield', 'ip.checksum', 'tcp.srcport', 'tcp.dstport',\n       'tcp.len', 'tcp.seq', 'tcp.ack', 'tcp.flags', 'tcp.flags.syn',\n       'tcp.flags.ack', 'tcp.flags.fin', 'tcp.flags.reset', 'tcp.window_size',\n       'tcp.checksum', 'tcp.stream', 'udp.srcport', 'udp.dstport',\n       'udp.length', 'udp.checksum', 'icmp.type', 'icmp.code', 'icmp.checksum',\n       'http.request.method', 'http.request.uri', 'http.request.version',\n       'http.request.full_uri', 'http.response.code', 'http.user_agent',\n       'http.content_length_header', 'http.content_type', 'http.cookie',\n       'http.host', 'http.referer', 'http.location', 'http.authorization',\n       'http.connection', 'dns.qry.name', 'dns.qry.type', 'dns.qry.class',\n       'dns.flags.response', 'dns.flags.recdesired', 'dns.flags.rcode',\n       'dns.resp.ttl', 'dns.resp.len', 'smtp.req.command',\n       'smtp.data.fragment', 'pop.request.command', 'pop.response',\n       'imap.request.command', 'imap.response', 'ftp.request.command',\n       'ftp.request.arg', 'ftp.response.code', 'ftp.response.arg', 'ipv6.src',\n       'ipv6.dst', 'ipv6.plen', 'alert'],\n      dtype='object')"
     },
     "execution_count": 3,
     "metadata": {},
     "output_type": "execute_result"
    }
   ],
   "source": [
    "df.columns"
   ],
   "metadata": {
    "collapsed": false,
    "ExecuteTime": {
     "end_time": "2023-12-22T12:39:06.420881Z",
     "start_time": "2023-12-22T12:39:06.371560Z"
    }
   }
  },
  {
   "cell_type": "markdown",
   "source": [
    "I would like to focus on some features that are more relevant to anomalous activities. I will do data exploration, statistical analysis, and visualization for each of them. These features are:\n",
    "\n",
    "1- tcp.flags  --> how can it be anomalous?\n",
    "    - Unusual combinations of TCP flags (e.g., SYN and FIN together or ACK and RST together) can indicate port scanning, network mapping, or more sophisticated attacks like session hijacking.\n",
    "    - SYN flooding, which sends a large number of SYN packets without completing the three-way handshake. packets with SYN flag set but no ACK flag set within a timeout period (possible SYN flooding\n",
    "    - TCP reset, where a RST packet is sent pretending to be from the other end of an established connection. RST flag set but no ACK flag set (possible TCP reset)RST flag set but no matching connection state or sequence number (TCP reset prevention),\n",
    "\n",
    "2- ip.ttl\n",
    "3- frame.protocols\n",
    "4- http.request.method\n",
    "5- dns.flags.response and dns.flags.rcode\n",
    "6- tcp.srcport and tcp.dstport\n",
    "7- ip.flags and ip.frag_offset\n",
    "8- tcp.window_size\n",
    "9- http.request.uri and http.request.full_uri\n",
    "10- alert"
   ],
   "metadata": {
    "collapsed": false
   }
  },
  {
   "cell_type": "code",
   "execution_count": 17,
   "outputs": [],
   "source": [
    "df_tcp_flags = df[['frame.time', 'tcp.flags', 'tcp.ack', 'tcp.flags.syn', 'tcp.flags.ack', 'tcp.flags.fin', 'tcp.flags.reset', 'alert']]"
   ],
   "metadata": {
    "collapsed": false,
    "ExecuteTime": {
     "end_time": "2023-12-22T13:22:31.650935Z",
     "start_time": "2023-12-22T13:22:31.549295Z"
    }
   }
  },
  {
   "cell_type": "code",
   "execution_count": 19,
   "outputs": [
    {
     "data": {
      "text/plain": "tcp.flags\n0x0018       1920164\n0x0010        868400\n0x0002         84177\n0x0014         71710\n0x0011         29190\n0x0012         20159\n0x0004          2434\n0x0019            16\n0x0000            15\n0x0029             1\n0x0052             1\ntcp.flags          1\n0x08c2             1\nName: count, dtype: int64"
     },
     "execution_count": 19,
     "metadata": {},
     "output_type": "execute_result"
    }
   ],
   "source": [
    "df_tcp_flags['tcp.flags'].value_counts()"
   ],
   "metadata": {
    "collapsed": false,
    "ExecuteTime": {
     "end_time": "2023-12-22T13:23:13.448032Z",
     "start_time": "2023-12-22T13:23:13.443394Z"
    }
   }
  },
  {
   "cell_type": "markdown",
   "source": [
    "These values represent different combinations of TCP flags as hexadecimal values.\n",
    "\n",
    "FIN (0x01): Finish flag, indicates the sender has finished sending data.\n",
    "SYN (0x02): Synchronize flag, used to initiate a connection.\n",
    "RST (0x04): Reset flag, abruptly terminates a connection.\n",
    "PSH (0x08): Push flag, asks to push the buffered data to the receiving application.\n",
    "ACK (0x10): Acknowledgment flag, indicates that the acknowledgment number is valid.\n",
    "URG (0x20): Urgent flag, indicates that the urgent pointer field is significant.\n",
    "ECE (0x40): ECN-Echo flag, used in TCP congestion control.\n",
    "CWR (0x80): Congestion Window Reduced flag, used to indicate that the sender reduced its sending rate.\n",
    "\n",
    "* 0x0018 --> Flags: ACK (0x10) + PSH (0x08) --> Indicates that the packet is pushing data and the acknowledgment number is valid. It's common in established connections during data transfer.\n",
    "\n",
    "* 0x0010 --> Flags: ACK (0x10) --> A standard acknowledgment packet, common in the majority of TCP connections.\n",
    "\n",
    "* 0x0002 --> Flags: SYN (0x02) --> Indicates an attempt to open a connection; it's the first step in the three-way handshake.\n",
    "\n",
    "* 0x0014 --> Flags: ACK (0x10) + RST (0x04) --> Meaning: Used to terminate a connection and acknowledge the receipt of a previous packet. It can indicate a normal closure or an abrupt termination.\n",
    "\n",
    "* 0x0011 --> Flags: ACK (0x10) + FIN (0x01) --> Used to gracefully close a connection, indicating no more data from the sender and acknowledgment of the previous packet.\n",
    "\n",
    "* 0x0012 --> Flags: ACK (0x10) + SYN (0x02) --> Part of the three-way handshake in establishing a TCP connection, acknowledging a SYN request.\n",
    "\n",
    "* 0x0004 --> Flags: RST (0x04) --> Meaning: Used to reset the connection abruptly.\n",
    "\n",
    "*** The remaining values are less common and might represent rare or specific situations. For instance, 0x0019 combines ACK, PSH, and FIN, which is unusual. 0x0000 indicates a packet with no flags set, which is rare and could be used in a NULL scan to probe network behavior.\n",
    "\n",
    "Below rows are candidates for anomalies:\n",
    "0x0019            16\n",
    "0x0000            15\n",
    "0x0029             1\n",
    "0x0052             1\n",
    "tcp.flags          1\n",
    "0x08c2             1\n",
    " ***\n",
    "\n"
   ],
   "metadata": {
    "collapsed": false
   }
  },
  {
   "cell_type": "markdown",
   "source": [
    "Hypothesys #1:\n",
    "Unusual combinations of TCP flags can indicate port scanning, network mapping, or more sophisticated attacks like session hijacking.\n",
    "\n",
    " SYN and FIN together -->\n",
    "    - first I will need to create a filtered dataset containing only the packets with the unusual flag combinations\n",
    "\n",
    "    - Then I will count occurrences over time or group by additional features like IP addresses or ports to see if there's a pattern or trend.Look at the IP addresses and ports involved with the unusual packets to see if they're coming from or going to known entities or a wide range of targets.\n",
    "\n",
    "    - Analyze the timing of these packets. Are they spread out, or do they occur in bursts?\n",
    "\n",
    "    - Visualise:\n",
    "        - Time Series Plot: Show the count of unusual flag combinations over time.\n",
    "        - Heatmap: If analyzing specific source/destination IPs or ports, a heatmap can show where the most activity is occurring.\n",
    "\n",
    "    - Deep dive into specific events or patterns. Case Studies: I will pick out specific instances or bursts of unusual activity and investigate them in detail. I will look at the surrounding packets and what was happening on the network at that time.Correlation with Events: See if the spikes in unusual activity correlate with known network events, outages, or previously identified incidents.\n",
    "\n",
    "    - Findings: Document the occurrences, patterns, and any identified anomalies.Implications: Discuss what these findings might mean for network security. Are there specific actions or investigations that should follow?\n",
    "\n",
    "    - Adjust Parameters: Based on your findings, you might want to redefine what's considered unusual or look at additional flag combinations.Iterate: Repeat the analysis with the new parameters or as new data becomes available.\n",
    "\n",
    " ACK and RST together --> same as above"
   ],
   "metadata": {
    "collapsed": false
   }
  },
  {
   "cell_type": "code",
   "execution_count": 22,
   "outputs": [
    {
     "data": {
      "text/plain": "frame.time            0\ntcp.flags          3731\ntcp.ack            3731\ntcp.flags.syn      3731\ntcp.flags.ack      3731\ntcp.flags.fin      3731\ntcp.flags.reset    3731\nalert                 0\ndtype: int64"
     },
     "execution_count": 22,
     "metadata": {},
     "output_type": "execute_result"
    }
   ],
   "source": [
    "df_tcp_flags.isna().sum()"
   ],
   "metadata": {
    "collapsed": false,
    "ExecuteTime": {
     "end_time": "2023-12-22T13:59:19.808518Z",
     "start_time": "2023-12-22T13:59:19.786979Z"
    }
   }
  },
  {
   "cell_type": "markdown",
   "source": [],
   "metadata": {
    "collapsed": false
   }
  },
  {
   "cell_type": "code",
   "execution_count": 24,
   "outputs": [
    {
     "name": "stdout",
     "output_type": "stream",
     "text": [
      "tcp.flags.syn\n",
      "0.0              2884003\n",
      "1.0               104080\n",
      "0                   7927\n",
      "1                    258\n",
      "tcp.flags.syn          1\n",
      "Name: count, dtype: int64\n"
     ]
    },
    {
     "data": {
      "text/plain": "0    0.0\n1    0.0\n2    NaN\n3    1.0\n4    0.0\n5    0.0\n6    0.0\n7    0.0\n8    0.0\n9    0.0\nName: tcp.flags.syn, dtype: object"
     },
     "execution_count": 24,
     "metadata": {},
     "output_type": "execute_result"
    }
   ],
   "source": [
    "# SYN and FIN together -->\n",
    "print(df_tcp_flags['tcp.flags.syn'].value_counts())\n",
    "df_tcp_flags['tcp.flags.syn'].head(10)\n",
    "\n",
    "\n"
   ],
   "metadata": {
    "collapsed": false,
    "ExecuteTime": {
     "end_time": "2023-12-22T14:04:21.306270Z",
     "start_time": "2023-12-22T14:04:21.298046Z"
    }
   }
  },
  {
   "cell_type": "code",
   "execution_count": 25,
   "outputs": [
    {
     "name": "stdout",
     "output_type": "stream",
     "text": [
      "tcp.flags.fin\n",
      "0.0              2958969\n",
      "1.0                29114\n",
      "0                   8092\n",
      "1                     93\n",
      "tcp.flags.fin          1\n",
      "Name: count, dtype: int64\n"
     ]
    },
    {
     "data": {
      "text/plain": "0    0.0\n1    0.0\n2    NaN\n3    0.0\n4    0.0\n5    0.0\n6    0.0\n7    0.0\n8    0.0\n9    0.0\nName: tcp.flags.fin, dtype: object"
     },
     "execution_count": 25,
     "metadata": {},
     "output_type": "execute_result"
    }
   ],
   "source": [
    "print(df_tcp_flags['tcp.flags.fin'].value_counts())\n",
    "df_tcp_flags['tcp.flags.fin'].head(10)"
   ],
   "metadata": {
    "collapsed": false,
    "ExecuteTime": {
     "end_time": "2023-12-22T14:05:05.799674Z",
     "start_time": "2023-12-22T14:05:05.777445Z"
    }
   }
  },
  {
   "cell_type": "code",
   "execution_count": 26,
   "outputs": [
    {
     "data": {
      "text/plain": "(2996269, 4)"
     },
     "execution_count": 26,
     "metadata": {},
     "output_type": "execute_result"
    }
   ],
   "source": [
    "# I'm looking where both of these flags are present so I'll drop the NaN rows\n",
    "df_tcp_syn_fin = df_tcp_flags[['frame.time','tcp.flags.syn', 'tcp.flags.fin','alert']]\n",
    "\n",
    "df_tcp_syn_fin = df_tcp_syn_fin.dropna()\n"
   ],
   "metadata": {
    "collapsed": false,
    "ExecuteTime": {
     "end_time": "2023-12-22T14:10:35.198958Z",
     "start_time": "2023-12-22T14:10:35.110217Z"
    }
   }
  },
  {
   "cell_type": "code",
   "execution_count": 37,
   "outputs": [
    {
     "data": {
      "text/plain": "Empty DataFrame\nColumns: [frame.time, tcp.flags.syn, tcp.flags.fin, alert]\nIndex: []",
      "text/html": "<div>\n<style scoped>\n    .dataframe tbody tr th:only-of-type {\n        vertical-align: middle;\n    }\n\n    .dataframe tbody tr th {\n        vertical-align: top;\n    }\n\n    .dataframe thead th {\n        text-align: right;\n    }\n</style>\n<table border=\"1\" class=\"dataframe\">\n  <thead>\n    <tr style=\"text-align: right;\">\n      <th></th>\n      <th>frame.time</th>\n      <th>tcp.flags.syn</th>\n      <th>tcp.flags.fin</th>\n      <th>alert</th>\n    </tr>\n  </thead>\n  <tbody>\n  </tbody>\n</table>\n</div>"
     },
     "execution_count": 37,
     "metadata": {},
     "output_type": "execute_result"
    }
   ],
   "source": [
    "df_tcp_syn_fin[(df_tcp_syn_fin['tcp.flags.syn'] == 1.0) & (df_tcp_syn_fin['tcp.flags.fin'] == 1.0)]"
   ],
   "metadata": {
    "collapsed": false,
    "ExecuteTime": {
     "end_time": "2023-12-22T14:15:46.475445Z",
     "start_time": "2023-12-22T14:15:46.335941Z"
    }
   }
  },
  {
   "cell_type": "markdown",
   "source": [
    "There's no packet which has both TCP SYN and TCP FIN set at the same time.I will proceed to the next hypothesis."
   ],
   "metadata": {
    "collapsed": false
   }
  }
 ],
 "metadata": {
  "kernelspec": {
   "display_name": "Python 3",
   "language": "python",
   "name": "python3"
  },
  "language_info": {
   "codemirror_mode": {
    "name": "ipython",
    "version": 2
   },
   "file_extension": ".py",
   "mimetype": "text/x-python",
   "name": "python",
   "nbconvert_exporter": "python",
   "pygments_lexer": "ipython2",
   "version": "2.7.6"
  }
 },
 "nbformat": 4,
 "nbformat_minor": 0
}
